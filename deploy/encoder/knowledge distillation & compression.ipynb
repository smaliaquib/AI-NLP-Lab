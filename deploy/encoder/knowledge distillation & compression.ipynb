{
 "cells": [
  {
   "cell_type": "markdown",
   "id": "6a2c0173",
   "metadata": {},
   "source": [
    "## Making Transformers Efficient in Production"
   ]
  },
  {
   "cell_type": "markdown",
   "id": "216f20e1",
   "metadata": {},
   "source": [
    "### Intent Detection as a Case Study"
   ]
  },
  {
   "cell_type": "code",
   "execution_count": 1,
   "id": "b68c2a8a",
   "metadata": {},
   "outputs": [
    {
     "name": "stderr",
     "output_type": "stream",
     "text": [
      "Hardware accelerator e.g. GPU is available in the environment, but no `device` argument is passed to the `Pipeline` object. Model will be on CPU.\n"
     ]
    }
   ],
   "source": [
    "from transformers import pipeline\n",
    "\n",
    "bert_ckpt = \"transformersbook/bert-base-uncased-finetuned-clinc\"\n",
    "pipe = pipeline(\"text-classification\", model=bert_ckpt)"
   ]
  },
  {
   "cell_type": "code",
   "execution_count": 2,
   "id": "a2d11355",
   "metadata": {},
   "outputs": [
    {
     "data": {
      "text/plain": [
       "[{'label': 'car_rental', 'score': 0.5490034818649292}]"
      ]
     },
     "execution_count": 2,
     "metadata": {},
     "output_type": "execute_result"
    }
   ],
   "source": [
    "query = \"\"\"Hey, I'd like to rent a vehicle from Nov 1st to Nov 15th in\n",
    "Paris and I need a 15 passenger van\"\"\"\n",
    "\n",
    "pipe(query)"
   ]
  },
  {
   "cell_type": "markdown",
   "id": "fd88530f",
   "metadata": {},
   "source": [
    "### Creating a Performance Benchmark"
   ]
  },
  {
   "cell_type": "code",
   "execution_count": 3,
   "id": "7f899545",
   "metadata": {},
   "outputs": [],
   "source": [
    "class PerformanceBenchmark:\n",
    "    def __init__(self, pipeline, dataset, optim_type=\"BERT baseline\"):\n",
    "        self.pipeline = pipeline\n",
    "        self.dataset = dataset\n",
    "        self.optim_type = optim_type\n",
    "    \n",
    "    def compute_accuracy(self):\n",
    "        # We'll define this later\n",
    "        pass\n",
    "    \n",
    "    def compute_size(self):\n",
    "        # We'll define this later\n",
    "        pass\n",
    "    \n",
    "    def time_pipeline(self):\n",
    "        # We'll define this later\n",
    "        pass\n",
    "    \n",
    "    def run_benchmark(self):\n",
    "        metrics = {}\n",
    "        metrics[self.optim_type] = self.compute_size()\n",
    "        metrics[self.optim_type].update(self.time_pipeline())\n",
    "        metrics[self.optim_type].update(self.compute_accuracy())\n",
    "        return metrics"
   ]
  },
  {
   "cell_type": "code",
   "execution_count": 4,
   "id": "8c050f92",
   "metadata": {},
   "outputs": [],
   "source": [
    "from datasets import load_dataset\n",
    "\n",
    "clinc = load_dataset(\"clinc_oos\", \"plus\")"
   ]
  },
  {
   "cell_type": "code",
   "execution_count": 5,
   "id": "30111b56",
   "metadata": {},
   "outputs": [
    {
     "data": {
      "text/plain": [
       "{'text': 'transfer $100 from my checking to saving account', 'intent': 133}"
      ]
     },
     "execution_count": 5,
     "metadata": {},
     "output_type": "execute_result"
    }
   ],
   "source": [
    "sample = clinc[\"test\"][42]\n",
    "sample"
   ]
  },
  {
   "cell_type": "code",
   "execution_count": 6,
   "id": "3f9cbc8d",
   "metadata": {},
   "outputs": [
    {
     "data": {
      "text/plain": [
       "'transfer'"
      ]
     },
     "execution_count": 6,
     "metadata": {},
     "output_type": "execute_result"
    }
   ],
   "source": [
    "intents = clinc[\"test\"].features[\"intent\"]\n",
    "intents.int2str(sample[\"intent\"])"
   ]
  },
  {
   "cell_type": "code",
   "execution_count": 7,
   "id": "39092942",
   "metadata": {},
   "outputs": [
    {
     "name": "stderr",
     "output_type": "stream",
     "text": [
      "C:\\Users\\Aquib\\AppData\\Local\\Temp\\ipykernel_17732\\3510557904.py:3: FutureWarning: load_metric is deprecated and will be removed in the next major version of datasets. Use 'evaluate.load' instead, from the new library 🤗 Evaluate: https://huggingface.co/docs/evaluate\n",
      "  accuracy_score = load_metric(\"accuracy\")\n"
     ]
    }
   ],
   "source": [
    "from datasets import load_metric\n",
    "\n",
    "accuracy_score = load_metric(\"accuracy\")"
   ]
  },
  {
   "cell_type": "code",
   "execution_count": 8,
   "id": "5c20fbd4",
   "metadata": {},
   "outputs": [],
   "source": [
    "def compute_accuracy(self):\n",
    "    \"\"\"This overrides the PerformanceBenchmark.compute_accuracy() method\"\"\"\n",
    "    preds, labels = [], []\n",
    "    for example in self.dataset:\n",
    "        pred = self.pipeline(example[\"text\"])[0][\"label\"]\n",
    "        label = example[\"intent\"]\n",
    "        preds.append(intents.str2int(pred))\n",
    "        labels.append(label)\n",
    "    accuracy = accuracy_score.compute(predictions=preds, references=labels)\n",
    "    print(f\"Accuracy on test set - {accuracy['accuracy']:.3f}\")\n",
    "    return accuracy"
   ]
  },
  {
   "cell_type": "code",
   "execution_count": 9,
   "id": "8a9be502",
   "metadata": {},
   "outputs": [],
   "source": [
    "PerformanceBenchmark.compute_accuracy = compute_accuracy"
   ]
  },
  {
   "cell_type": "code",
   "execution_count": 10,
   "id": "65b5a60e",
   "metadata": {},
   "outputs": [
    {
     "data": {
      "text/plain": [
       "('bert.encoder.layer.2.attention.self.value.bias',\n",
       " tensor([-2.7834e-02,  4.9434e-02,  8.3551e-02,  4.1092e-02,  6.0157e-01,\n",
       "          1.1774e-01, -5.2112e-02, -6.5143e-02, -2.9358e-02, -4.2250e-02,\n",
       "          7.9177e-02,  8.0409e-02,  2.9921e-03,  1.7816e-01, -5.0480e-02,\n",
       "         -1.5634e-01, -2.1707e-02,  1.4381e-02,  2.5132e-02, -2.4110e-02,\n",
       "         -1.9183e-01, -7.8657e-02,  5.0709e-02,  3.3632e-02, -3.1946e-02,\n",
       "          1.1616e-01,  9.2720e-02, -1.1787e-01,  2.3233e-01, -1.2678e-02,\n",
       "         -1.3138e-01, -4.0024e-02,  7.4823e-02, -5.4148e-02, -1.5184e-01,\n",
       "         -7.4407e-02,  1.1559e-01,  8.2729e-02, -1.3787e-01,  8.3528e-02,\n",
       "          1.2154e-01,  1.6880e-02, -5.6629e-02, -3.9295e-02,  5.3725e-02,\n",
       "          6.8602e-02, -1.1294e-01,  4.4001e-02, -2.5884e-01,  1.6767e-01,\n",
       "          1.8316e-01,  5.6272e-02, -3.6874e-02, -2.7938e-02, -9.3204e-02,\n",
       "         -7.5239e-03,  4.1141e-02, -1.1542e-02, -9.9749e-02, -3.0910e-02,\n",
       "          4.1398e-02, -4.4389e-02, -2.6279e-02,  7.2100e-02,  7.5179e-03,\n",
       "         -7.4382e-03,  2.9311e-02, -1.3391e-02,  6.9966e-03, -9.3249e-03,\n",
       "          9.4272e-03, -1.1783e-02,  1.3849e-02,  1.8157e-03, -1.1522e-02,\n",
       "          1.3364e-02, -2.6307e-02,  2.3725e-03, -4.8451e-03,  6.2261e-03,\n",
       "          1.2653e-02,  1.7601e-02, -1.7971e-02, -2.9247e-03, -3.3447e-03,\n",
       "          1.4263e-02, -3.5629e-03, -9.2794e-03, -2.1326e-02,  1.9390e-02,\n",
       "          1.3287e-02, -8.7034e-03,  1.2936e-02, -2.0574e-02,  3.2204e-03,\n",
       "          5.9970e-03, -5.6524e-02,  3.0851e-02, -2.3233e-02,  4.6271e-02,\n",
       "         -1.4485e-03,  4.4248e-04, -3.1102e-02,  1.9762e-02,  2.0866e-02,\n",
       "          1.7914e-02, -2.0622e-02, -1.6030e-02,  6.2167e-03,  1.6809e-02,\n",
       "          4.6357e-03,  4.7169e-02, -2.1151e-02, -1.8898e-02,  3.5921e-02,\n",
       "          4.8621e-03, -5.9841e-02, -1.3029e-02,  5.6702e-03,  1.6820e-02,\n",
       "          2.1735e-02, -2.8285e-03, -1.5519e-02,  7.1974e-03,  3.5492e-02,\n",
       "         -2.3190e-02, -9.7930e-03,  2.3223e-02,  2.0529e-02,  2.7412e-02,\n",
       "          1.3887e-02,  1.7976e-03, -3.8905e-02,  1.8540e-02,  8.0013e-03,\n",
       "         -8.3682e-03, -8.6805e-03,  2.6464e-02,  1.8968e-03, -1.8028e-03,\n",
       "         -2.4427e-02, -3.5514e-02, -1.8748e-02, -3.0541e-02, -7.9520e-03,\n",
       "         -1.5989e-02,  9.3060e-03,  2.9318e-02,  1.6679e-02, -2.4060e-03,\n",
       "         -7.2656e-03, -2.7699e-03,  1.4280e-02, -6.7352e-02, -1.2329e-02,\n",
       "         -1.1516e-02, -8.0379e-03,  2.5604e-02, -2.9178e-02,  2.6076e-02,\n",
       "         -1.1561e-02, -4.0904e-03, -1.7735e-02, -2.8245e-03,  2.3919e-02,\n",
       "         -3.6326e-03, -1.6407e-03,  9.5295e-03,  2.4161e-02, -5.8965e-02,\n",
       "          4.7633e-02,  1.4403e-03, -4.4763e-02, -3.5462e-03,  3.0613e-02,\n",
       "          2.5047e-02,  1.3757e-02, -2.2238e-02,  8.0453e-03, -2.6188e-03,\n",
       "         -2.2013e-03, -6.0179e-03, -8.5149e-03, -2.8150e-02,  1.9282e-02,\n",
       "         -7.5657e-02,  6.1354e-03,  5.2562e-03, -2.2223e-03,  1.0437e-02,\n",
       "         -1.8630e-02, -7.7628e-02,  1.4377e-02,  1.4977e-02,  1.6090e-02,\n",
       "          2.9399e-02, -2.8604e-02, -3.2916e-02,  2.7902e-03,  1.4113e-02,\n",
       "          8.3836e-03, -6.5914e-03, -4.9576e-03, -1.5955e-02,  4.2381e-03,\n",
       "          3.0032e-02,  8.8986e-03, -1.5336e-02,  4.6771e-03, -1.2364e-02,\n",
       "         -3.7724e-02, -3.9060e-03,  1.4607e-02, -2.1286e-02,  9.7086e-03,\n",
       "         -1.5826e-02, -1.4847e-02,  1.0796e-03, -9.5035e-03, -1.8624e-02,\n",
       "         -3.1673e-02,  8.8388e-03, -1.4921e-02, -1.7855e-03,  3.8781e-02,\n",
       "          2.4269e-02, -1.6465e-03, -7.9774e-03, -1.3907e-02,  1.9653e-03,\n",
       "         -2.6717e-03,  3.0146e-02, -4.3986e-03,  6.0588e-03,  2.1959e-02,\n",
       "          2.0354e-02,  9.3631e-03, -8.4828e-03, -2.3994e-02,  1.8316e-02,\n",
       "         -2.2401e-02, -2.6273e-03,  3.2069e-03, -3.2386e-03,  1.1388e-02,\n",
       "          3.0835e-02,  2.6043e-02, -7.2103e-03, -5.0038e-04, -1.4860e-02,\n",
       "          2.3886e-02,  1.1530e-02, -1.0549e-03,  3.5677e-02,  6.0299e-03,\n",
       "          1.5875e-02,  5.3877e-02,  6.6331e-02,  1.5165e-02, -6.0870e-03,\n",
       "          1.6159e-03, -1.1137e-02,  1.3665e-02,  1.7698e-02,  4.5647e-03,\n",
       "         -4.5349e-02,  2.6634e-02,  4.7289e-03, -1.1664e-02,  8.7302e-03,\n",
       "          1.2051e-02,  2.3455e-02, -2.7151e-03, -1.3474e-02, -4.5949e-02,\n",
       "         -1.3496e-02,  8.1680e-02, -2.9737e-02, -2.8525e-02, -1.4888e-02,\n",
       "          5.4320e-03,  3.9142e-02,  1.4227e-02,  1.1140e-02, -1.0980e-02,\n",
       "          2.1982e-02, -1.1148e-02, -1.0226e-02, -5.8499e-03, -1.9739e-02,\n",
       "         -3.4634e-03, -1.0565e-02,  1.0449e-02,  8.2791e-03,  2.3053e-03,\n",
       "          9.7032e-03, -9.0916e-03,  5.4747e-04, -4.1901e-02,  9.6154e-03,\n",
       "          2.9424e-02,  1.1897e-03,  1.1825e-02,  2.7524e-02,  1.0225e-02,\n",
       "          2.1439e-02,  2.3448e-03, -3.7239e-02,  5.8888e-02, -3.1999e-02,\n",
       "         -7.9128e-03,  3.5337e-02,  2.7251e-02,  1.3948e-02,  1.0896e-02,\n",
       "          1.4326e-05, -2.6835e-03,  4.0720e-03,  1.6469e-02,  3.5876e-02,\n",
       "         -1.6803e-02,  2.8083e-02,  2.2789e-03,  3.1635e-02,  5.7104e-03,\n",
       "          3.0284e-03,  1.2528e-02, -1.7956e-02, -1.4686e-02,  4.4091e-03,\n",
       "         -1.4846e-02, -4.1044e-02, -3.4005e-02, -6.5876e-02,  3.0926e-02,\n",
       "          5.9820e-02, -1.0069e-04, -6.6089e-03,  2.1271e-03,  3.6137e-03,\n",
       "          9.0073e-03,  9.6992e-03,  2.1992e-02,  6.2104e-02,  1.4786e-02,\n",
       "         -2.6120e-02, -1.4990e-02,  1.5148e-02,  3.0313e-02,  2.0834e-02,\n",
       "          1.7836e-02, -5.4321e-03, -5.9164e-03,  1.7840e-02, -4.3020e-03,\n",
       "          8.7374e-03, -2.4993e-02,  3.4310e-02,  2.2652e-02, -5.3760e-03,\n",
       "          1.7668e-02, -8.9518e-04,  1.3691e-03, -2.1373e-02, -6.1878e-03,\n",
       "         -1.2396e-02, -1.7816e-02, -1.8014e-02,  9.5274e-03,  1.1643e-02,\n",
       "         -2.0683e-02, -2.8707e-03,  1.1669e-02,  1.5618e-02,  3.5348e-02,\n",
       "         -1.1234e-02, -4.5453e-03, -3.4890e-02, -3.0010e-02,  1.6433e-02,\n",
       "         -1.2068e-02,  8.2583e-03,  1.4090e-02,  1.8771e-02, -4.9337e-02,\n",
       "         -1.7775e-03,  5.6333e-02,  6.8979e-02,  2.3123e-02, -1.0754e-02,\n",
       "         -4.9530e-02,  4.2980e-02,  2.8846e-02, -3.9176e-02,  8.1903e-02,\n",
       "         -2.9344e-02,  3.0343e-02,  8.4269e-02, -2.4376e-02, -8.4680e-02,\n",
       "          6.7452e-03,  1.2407e-01,  1.5680e-02, -1.6643e-02,  9.0987e-03,\n",
       "         -2.7984e-03,  7.5874e-02, -1.4630e-02,  2.9823e-02, -1.0423e-02,\n",
       "         -6.0341e-02, -3.6580e-02, -5.4615e-02, -1.3628e-01, -5.8373e-02,\n",
       "          4.3453e-02,  3.0439e-02,  1.7298e-02, -1.1724e-01,  1.0805e-01,\n",
       "         -4.6345e-02, -1.1533e-01,  7.4684e-02, -5.9752e-03,  4.3189e-02,\n",
       "          4.4795e-02, -3.7566e-03, -7.5097e-02,  3.5959e-02,  1.3906e-01,\n",
       "          4.6041e-02,  1.1786e-02,  1.1243e-01,  8.4072e-02, -7.7309e-02,\n",
       "          1.3586e-02,  9.5244e-02, -1.2002e-01,  7.0882e-02,  1.0043e-01,\n",
       "          2.5874e-02,  2.3354e-02, -3.5469e-02,  3.0738e-02,  1.0479e-01,\n",
       "         -9.2843e-02,  5.9718e-02, -1.9409e-02, -3.4414e-02, -8.4060e-03,\n",
       "         -9.3654e-03, -2.8030e-02,  7.2026e-03, -5.9461e-03, -1.2284e-02,\n",
       "         -1.7473e-02, -4.9678e-02,  1.0224e-02, -1.4688e-02, -1.7345e-02,\n",
       "          2.6771e-02, -2.6582e-02, -2.9768e-02,  6.2005e-03, -3.3405e-04,\n",
       "          9.1245e-03, -3.7149e-02, -6.7714e-03, -1.8193e-02,  3.4191e-02,\n",
       "         -5.5732e-03, -2.6161e-02, -1.4078e-02,  1.0288e-02, -2.2850e-02,\n",
       "         -2.2642e-02,  1.0270e-02,  6.9930e-03,  1.3614e-03, -2.9319e-04,\n",
       "          9.9593e-03, -6.0532e-03,  1.8669e-03, -5.3395e-03, -2.2013e-02,\n",
       "          8.4485e-03, -1.9142e-02,  1.0449e-02, -1.6700e-02,  1.3038e-02,\n",
       "          7.7479e-03, -1.3329e-02,  1.3052e-02, -2.5305e-03,  1.6191e-02,\n",
       "          1.3152e-02,  2.9897e-02,  8.5553e-03, -6.4898e-04,  1.2359e-02,\n",
       "         -4.2144e-03,  2.1785e-02,  2.1401e-02, -1.3295e-02,  7.4764e-03,\n",
       "          6.3580e-03, -6.2467e-03,  1.8235e-02,  3.0643e-02, -4.9091e-03,\n",
       "         -1.3889e-02,  2.6181e-03,  4.9702e-03, -6.1664e-03, -2.8528e-03,\n",
       "         -4.0556e-04,  5.4844e-03,  9.7783e-03,  1.2326e-02, -1.6844e-02,\n",
       "         -1.6294e-02,  4.9879e-03,  3.7789e-03,  8.0305e-04,  2.0482e-02,\n",
       "         -1.6369e-02,  1.6436e-03, -9.0401e-03, -3.2635e-02, -2.3990e-03,\n",
       "          5.7569e-03, -2.0392e-02,  6.6946e-03, -1.8541e-02,  9.3559e-03,\n",
       "          2.7165e-02,  1.2492e-02,  1.2748e-03, -1.3846e-03,  4.0312e-03,\n",
       "         -8.5552e-03,  3.1621e-03, -3.9514e-02, -3.7938e-03, -1.3551e-02,\n",
       "          2.2692e-02, -1.0217e-02, -1.2839e-02, -4.8771e-03, -4.2620e-03,\n",
       "         -3.0481e-02,  4.6085e-02, -2.8627e-03,  6.6756e-03, -2.6765e-03,\n",
       "         -4.1443e-02,  1.3336e-02, -1.0526e-02, -3.8494e-02,  1.2780e-02,\n",
       "         -3.5214e-02, -2.4758e-02,  7.5220e-03,  1.7225e-02, -1.6440e-02,\n",
       "         -3.6639e-03, -4.7462e-02,  5.3796e-04, -2.8419e-03,  4.5923e-03,\n",
       "         -3.0517e-02, -3.6832e-03,  1.8710e-02, -3.0486e-02, -2.4076e-02,\n",
       "         -2.7601e-02,  1.1921e-01,  1.2020e-01,  5.9805e-02, -6.9238e-03,\n",
       "         -1.3529e-01,  1.1234e-01,  8.3534e-02,  1.9974e-01,  5.3834e-02,\n",
       "         -6.6691e-02,  1.2676e-01,  2.4947e-01,  4.9879e-01, -1.6342e-01,\n",
       "          6.1663e-02, -4.8022e-02, -5.4069e-02,  4.7277e-02, -1.4724e-01,\n",
       "          8.4666e-02,  9.8618e-02,  7.9988e-02, -5.7652e-02,  6.3551e-03,\n",
       "          2.6916e-03,  9.2017e-02,  1.2511e-01,  2.5168e-01, -8.6152e-02,\n",
       "         -2.7570e-02, -6.1548e-02,  9.1371e-02,  8.0129e-02, -1.1662e-01,\n",
       "          1.5206e-01, -1.0687e-01, -1.0758e-01,  9.4138e-02,  1.0322e-01,\n",
       "         -1.5152e-01,  2.5472e-01,  7.0699e-02, -4.1571e-02,  2.7933e-02,\n",
       "         -1.9523e-01, -2.8319e-01,  5.9689e-02, -1.4707e-01, -3.5683e-02,\n",
       "         -5.4465e-02,  1.2570e-01, -1.2280e-01,  2.0263e-01, -1.0653e-02,\n",
       "          1.1058e-01, -9.1731e-04,  8.6605e-02, -1.7707e-02,  1.2616e-02,\n",
       "          1.8871e-01, -1.0594e-01, -3.7989e-03, -6.6359e-02, -5.9799e-02,\n",
       "          4.3201e-03, -2.3140e-02,  4.8008e-03,  1.4294e-02, -9.5453e-03,\n",
       "          5.8454e-03,  8.6512e-03,  2.1151e-02,  1.7098e-02, -1.4637e-03,\n",
       "          1.3778e-02, -1.2843e-02,  2.3742e-02, -1.3895e-02,  1.1327e-03,\n",
       "         -7.0846e-03, -7.6255e-03, -8.2264e-03, -1.5513e-02,  4.2724e-03,\n",
       "         -1.7624e-02, -3.0984e-03, -1.4400e-02,  2.3883e-02,  1.1556e-01,\n",
       "          4.4036e-02,  3.2821e-02,  8.6612e-04,  1.2383e-02, -6.6263e-03,\n",
       "         -2.7201e-03,  4.8125e-03, -2.8362e-03,  3.9830e-02,  5.2414e-02,\n",
       "         -4.6269e-03, -1.5858e-02,  2.1845e-02, -1.3767e-02, -1.0629e-02,\n",
       "          1.0347e-02, -3.4209e-02,  1.6939e-02,  1.8120e-02,  3.0650e-03,\n",
       "         -2.5109e-03,  1.3500e-02, -3.6440e-02, -9.2135e-03,  9.2194e-03,\n",
       "         -3.6276e-02, -1.1555e-02, -1.9569e-02, -1.5417e-02, -2.0485e-02,\n",
       "          2.9770e-03, -6.8246e-03, -6.5039e-03, -1.2597e-02, -1.1409e-02,\n",
       "          1.7139e-02,  4.6424e-03, -5.1774e-02, -1.1679e-02,  5.2761e-03,\n",
       "         -1.3664e-02, -1.4001e-02,  2.0379e-03,  1.2753e-02, -8.1607e-03,\n",
       "         -1.0849e-02, -1.0683e-03, -2.4489e-03,  2.0192e-02,  1.5756e-02,\n",
       "         -6.4964e-03, -4.5603e-02, -2.5999e-02, -1.4307e-02, -7.4639e-03,\n",
       "          9.9480e-03,  1.6763e-02,  2.1737e-02,  4.8181e-02,  1.7739e-02,\n",
       "          1.1469e-02, -4.2359e-03, -1.6419e-02, -1.7318e-02,  1.1498e-03,\n",
       "          2.4485e-02, -3.0614e-03,  1.9017e-02, -1.6453e-02, -1.3444e-02,\n",
       "          2.6748e-02, -6.4994e-03,  5.1485e-03,  1.4132e-02, -1.1573e-02,\n",
       "          1.2583e-02, -1.1401e-02, -2.0003e-02, -3.8115e-03,  7.3728e-03,\n",
       "          1.5500e-02,  2.0623e-02,  3.1582e-03, -1.2794e-02,  4.5499e-03,\n",
       "         -3.3994e-04, -2.3003e-02,  1.2225e-02, -2.7949e-02, -9.6121e-03,\n",
       "         -3.5844e-02, -4.2373e-03,  5.3473e-03,  1.4432e-02, -1.2745e-02,\n",
       "          7.1483e-03,  2.9170e-03,  6.2454e-03,  6.8991e-03,  1.5852e-02,\n",
       "          2.1877e-02, -1.7211e-02, -2.6093e-02]))"
      ]
     },
     "execution_count": 10,
     "metadata": {},
     "output_type": "execute_result"
    }
   ],
   "source": [
    "list(pipe.model.state_dict().items())[42]"
   ]
  },
  {
   "cell_type": "code",
   "execution_count": 11,
   "id": "5a1b8e10",
   "metadata": {},
   "outputs": [],
   "source": [
    "import torch \n",
    "\n",
    "torch.save(pipe.model.state_dict(), \"model.pt\")"
   ]
  },
  {
   "cell_type": "code",
   "execution_count": 12,
   "id": "f0a06041",
   "metadata": {},
   "outputs": [],
   "source": [
    "import torch\n",
    "from pathlib import Path\n",
    "\n",
    "def compute_size(self):\n",
    "    \"\"\"This overrides the PerformanceBenchmark.compute_size() method\"\"\"\n",
    "    state_dict = self.pipeline.model.state_dict()\n",
    "    tmp_path = Path(\"model.pt\")\n",
    "    torch.save(state_dict, tmp_path)\n",
    "    # Calculate size in megabytes\n",
    "    size_mb = Path(tmp_path).stat().st_size / (1024 * 1024)\n",
    "    # Delete temporary file\n",
    "    tmp_path.unlink()\n",
    "    print(f\"Model size (MB) - {size_mb:.2f}\")\n",
    "    return {\"size_mb\": size_mb}\n",
    "\n",
    "PerformanceBenchmark.compute_size = compute_size"
   ]
  },
  {
   "cell_type": "code",
   "execution_count": 13,
   "id": "36316063",
   "metadata": {},
   "outputs": [
    {
     "name": "stdout",
     "output_type": "stream",
     "text": [
      "Latency (ms) - 50.613\n",
      "Latency (ms) - 51.883\n",
      "Latency (ms) - 47.774\n"
     ]
    }
   ],
   "source": [
    "from time import perf_counter\n",
    "for _ in range(3):\n",
    "    start_time = perf_counter()\n",
    "    _ = pipe(query)\n",
    "    latency = perf_counter() - start_time\n",
    "    print(f\"Latency (ms) - {1000 * latency:.3f}\")"
   ]
  },
  {
   "cell_type": "code",
   "execution_count": 14,
   "id": "0bbfe173",
   "metadata": {},
   "outputs": [
    {
     "name": "stderr",
     "output_type": "stream",
     "text": [
      "<>:18: SyntaxWarning: invalid escape sequence '\\-'\n",
      "<>:18: SyntaxWarning: invalid escape sequence '\\-'\n",
      "C:\\Users\\Aquib\\AppData\\Local\\Temp\\ipykernel_17732\\2155140460.py:18: SyntaxWarning: invalid escape sequence '\\-'\n",
      "  print(f\"Average latency (ms) - {time_avg_ms:.2f} +\\- {time_std_ms:.2f}\")\n"
     ]
    }
   ],
   "source": [
    "import numpy as np\n",
    "\n",
    "def time_pipeline(self, query=\"What is the pin number for my account?\"):\n",
    "    \"\"\"This overrides the PerformanceBenchmark.time_pipeline() method\"\"\"\n",
    "    latencies = []\n",
    "    # Warmup\n",
    "    for _ in range(10):\n",
    "        _ = self.pipeline(query)\n",
    "    # Timed run\n",
    "    for _ in range(100):\n",
    "        start_time = perf_counter()\n",
    "        _ = self.pipeline(query)\n",
    "        latency = perf_counter() - start_time\n",
    "        latencies.append(latency)\n",
    "    # Compute run statistics\n",
    "    time_avg_ms = 1000 * np.mean(latencies)\n",
    "    time_std_ms = 1000 * np.std(latencies)\n",
    "    print(f\"Average latency (ms) - {time_avg_ms:.2f} +\\- {time_std_ms:.2f}\")\n",
    "    return {\"time_avg_ms\": time_avg_ms, \"time_std_ms\": time_std_ms}"
   ]
  },
  {
   "cell_type": "code",
   "execution_count": 15,
   "id": "71888d93",
   "metadata": {},
   "outputs": [],
   "source": [
    "PerformanceBenchmark.time_pipeline = time_pipeline"
   ]
  },
  {
   "cell_type": "code",
   "execution_count": 16,
   "id": "0e257357",
   "metadata": {},
   "outputs": [
    {
     "name": "stdout",
     "output_type": "stream",
     "text": [
      "Model size (MB) - 418.15\n",
      "Average latency (ms) - 37.57 +\\- 3.24\n",
      "Accuracy on test set - 0.867\n"
     ]
    }
   ],
   "source": [
    "pb = PerformanceBenchmark(pipe, clinc[\"test\"])\n",
    "perf_metrics = pb.run_benchmark()"
   ]
  },
  {
   "cell_type": "markdown",
   "id": "638bd8b5",
   "metadata": {},
   "source": [
    "\n",
    "### Making Models Smaller via Knowledge Distillation"
   ]
  },
  {
   "cell_type": "markdown",
   "id": "e003bc23",
   "metadata": {},
   "source": [
    "#### Creating a Knowledge Distillation Trainer"
   ]
  },
  {
   "cell_type": "code",
   "execution_count": 17,
   "id": "5150684d",
   "metadata": {},
   "outputs": [],
   "source": [
    "from transformers import TrainingArguments\n",
    "\n",
    "class DistillationTrainingArguments(TrainingArguments):\n",
    "    def __init__(self, *args, alpha=0.5, temperature=2.0, **kwargs):\n",
    "        super().__init__(*args, **kwargs)\n",
    "        self.alpha = alpha\n",
    "        self.temperature = temperature"
   ]
  },
  {
   "cell_type": "code",
   "execution_count": 18,
   "id": "04046c41",
   "metadata": {},
   "outputs": [],
   "source": [
    "import torch.nn as nn\n",
    "import torch.nn.functional as F\n",
    "from transformers import Trainer\n",
    "\n",
    "class DistillationTrainer(Trainer):\n",
    "    def __init__(self, *args, teacher_model=None, **kwargs):\n",
    "        super().__init__(*args, **kwargs)\n",
    "        self.teacher_model = teacher_model\n",
    "        \n",
    "    def compute_loss(self, model, inputs, return_outputs=False):\n",
    "        outputs_stu = model(**inputs)\n",
    "        # Extract cross-entropy loss and logits from student\n",
    "        loss_ce = outputs_stu.loss\n",
    "        logits_stu = outputs_stu.logits\n",
    "        # Extract logits from teacher\n",
    "        with torch.no_grad():\n",
    "            outputs_tea = self.teacher_model(**inputs)\n",
    "            logits_tea = outputs_tea.logits\n",
    "        # Soften probabilities and compute distillation loss\n",
    "        loss_fct = nn.KLDivLoss(reduction=\"batchmean\")\n",
    "        loss_kd = self.args.temperature ** 2 * loss_fct(\n",
    "            F.log_softmax(logits_stu / self.args.temperature, dim=-1),\n",
    "            F.softmax(logits_tea / self.args.temperature, dim=-1))\n",
    "        # Return weighted student loss\n",
    "        loss = self.args.alpha * loss_ce + (1. - self.args.alpha) * loss_kd\n",
    "        return (loss, outputs_stu) if return_outputs else loss"
   ]
  },
  {
   "cell_type": "markdown",
   "id": "5b8bfda6",
   "metadata": {},
   "source": [
    "#### Choosing a Good Student Initialization"
   ]
  },
  {
   "cell_type": "code",
   "execution_count": 19,
   "id": "3a5ba48e",
   "metadata": {},
   "outputs": [
    {
     "data": {
      "application/vnd.jupyter.widget-view+json": {
       "model_id": "4cabec18af7f4fa5b22a8202947f29b4",
       "version_major": 2,
       "version_minor": 0
      },
      "text/plain": [
       "Map:   0%|          | 0/5500 [00:00<?, ? examples/s]"
      ]
     },
     "metadata": {},
     "output_type": "display_data"
    }
   ],
   "source": [
    "from transformers import AutoTokenizer\n",
    "\n",
    "student_ckpt = \"distilbert-base-uncased\"\n",
    "student_tokenizer = AutoTokenizer.from_pretrained(student_ckpt)\n",
    "\n",
    "def tokenize_text(batch):\n",
    "    return student_tokenizer(batch[\"text\"], truncation=True)\n",
    "\n",
    "clinc_enc = clinc.map(tokenize_text, batched=True, remove_columns=[\"text\"])\n",
    "clinc_enc = clinc_enc.rename_column(\"intent\", \"labels\")"
   ]
  },
  {
   "cell_type": "code",
   "execution_count": 20,
   "id": "41cac313",
   "metadata": {},
   "outputs": [],
   "source": [
    "def compute_metrics(pred):\n",
    "    predictions, labels = pred\n",
    "    predictions = np.argmax(predictions, axis=1)\n",
    "    return accuracy_score.compute(predictions=predictions, references=labels)"
   ]
  },
  {
   "cell_type": "code",
   "execution_count": 21,
   "id": "03930205",
   "metadata": {},
   "outputs": [
    {
     "name": "stderr",
     "output_type": "stream",
     "text": [
      "C:\\Users\\Aquib\\AppData\\Local\\anaconda3\\Lib\\site-packages\\transformers\\training_args.py:1494: FutureWarning: `evaluation_strategy` is deprecated and will be removed in version 4.46 of 🤗 Transformers. Use `eval_strategy` instead\n",
      "  warnings.warn(\n"
     ]
    }
   ],
   "source": [
    "batch_size = 48\n",
    "\n",
    "finetuned_ckpt = \"distilbert-base-uncased-finetuned-clinc\"\n",
    "student_training_args = DistillationTrainingArguments(\n",
    "    output_dir=finetuned_ckpt, evaluation_strategy = \"epoch\",\n",
    "    num_train_epochs=5, learning_rate=2e-5,\n",
    "    per_device_train_batch_size=batch_size,\n",
    "    per_device_eval_batch_size=batch_size, alpha=1, weight_decay=0.01,\n",
    "    push_to_hub=True)"
   ]
  },
  {
   "cell_type": "code",
   "execution_count": 22,
   "id": "bb21e53f",
   "metadata": {},
   "outputs": [],
   "source": [
    "id2label = pipe.model.config.id2label\n",
    "label2id = pipe.model.config.label2id"
   ]
  },
  {
   "cell_type": "code",
   "execution_count": 23,
   "id": "544ec763",
   "metadata": {},
   "outputs": [],
   "source": [
    "from transformers import AutoConfig\n",
    "\n",
    "num_labels = intents.num_classes\n",
    "student_config = (AutoConfig\n",
    "                 .from_pretrained(student_ckpt, num_labels=num_labels,\n",
    "                 id2label=id2label, label2id=label2id))"
   ]
  },
  {
   "cell_type": "code",
   "execution_count": 24,
   "id": "c2dc804c",
   "metadata": {},
   "outputs": [],
   "source": [
    "import torch\n",
    "from transformers import AutoModelForSequenceClassification\n",
    "\n",
    "device = torch.device(\"cuda\" if torch.cuda.is_available() else \"cpu\")\n",
    "\n",
    "def student_init():\n",
    "    return (AutoModelForSequenceClassification\n",
    "            .from_pretrained(student_ckpt, config=student_config).to(device))"
   ]
  },
  {
   "cell_type": "code",
   "execution_count": 25,
   "id": "1838d4bc",
   "metadata": {},
   "outputs": [
    {
     "name": "stderr",
     "output_type": "stream",
     "text": [
      "Some weights of DistilBertForSequenceClassification were not initialized from the model checkpoint at distilbert-base-uncased and are newly initialized: ['classifier.bias', 'classifier.weight', 'pre_classifier.bias', 'pre_classifier.weight']\n",
      "You should probably TRAIN this model on a down-stream task to be able to use it for predictions and inference.\n",
      "Some weights of DistilBertForSequenceClassification were not initialized from the model checkpoint at distilbert-base-uncased and are newly initialized: ['classifier.bias', 'classifier.weight', 'pre_classifier.bias', 'pre_classifier.weight']\n",
      "You should probably TRAIN this model on a down-stream task to be able to use it for predictions and inference.\n",
      "C:\\Users\\Aquib\\AppData\\Local\\anaconda3\\Lib\\site-packages\\transformers\\models\\bert\\modeling_bert.py:439: UserWarning: 1Torch was not compiled with flash attention. (Triggered internally at ..\\aten\\src\\ATen\\native\\transformers\\cuda\\sdp_utils.cpp:455.)\n",
      "  attn_output = torch.nn.functional.scaled_dot_product_attention(\n"
     ]
    },
    {
     "data": {
      "text/html": [
       "\n",
       "    <div>\n",
       "      \n",
       "      <progress value='1590' max='1590' style='width:300px; height:20px; vertical-align: middle;'></progress>\n",
       "      [1590/1590 03:57, Epoch 5/5]\n",
       "    </div>\n",
       "    <table border=\"1\" class=\"dataframe\">\n",
       "  <thead>\n",
       " <tr style=\"text-align: left;\">\n",
       "      <th>Epoch</th>\n",
       "      <th>Training Loss</th>\n",
       "      <th>Validation Loss</th>\n",
       "      <th>Accuracy</th>\n",
       "    </tr>\n",
       "  </thead>\n",
       "  <tbody>\n",
       "    <tr>\n",
       "      <td>1</td>\n",
       "      <td>No log</td>\n",
       "      <td>3.292810</td>\n",
       "      <td>0.726774</td>\n",
       "    </tr>\n",
       "    <tr>\n",
       "      <td>2</td>\n",
       "      <td>3.798800</td>\n",
       "      <td>1.886249</td>\n",
       "      <td>0.851613</td>\n",
       "    </tr>\n",
       "    <tr>\n",
       "      <td>3</td>\n",
       "      <td>3.798800</td>\n",
       "      <td>1.174241</td>\n",
       "      <td>0.887742</td>\n",
       "    </tr>\n",
       "    <tr>\n",
       "      <td>4</td>\n",
       "      <td>1.713400</td>\n",
       "      <td>0.879092</td>\n",
       "      <td>0.907097</td>\n",
       "    </tr>\n",
       "    <tr>\n",
       "      <td>5</td>\n",
       "      <td>0.919400</td>\n",
       "      <td>0.792140</td>\n",
       "      <td>0.914516</td>\n",
       "    </tr>\n",
       "  </tbody>\n",
       "</table><p>"
      ],
      "text/plain": [
       "<IPython.core.display.HTML object>"
      ]
     },
     "metadata": {},
     "output_type": "display_data"
    },
    {
     "data": {
      "text/plain": [
       "TrainOutput(global_step=1590, training_loss=2.0666040432528128, metrics={'train_runtime': 238.5104, 'train_samples_per_second': 319.693, 'train_steps_per_second': 6.666, 'total_flos': 414689637990180.0, 'train_loss': 2.0666040432528128, 'epoch': 5.0})"
      ]
     },
     "execution_count": 25,
     "metadata": {},
     "output_type": "execute_result"
    }
   ],
   "source": [
    "teacher_ckpt = \"transformersbook/bert-base-uncased-finetuned-clinc\"\n",
    "teacher_model = (AutoModelForSequenceClassification\n",
    "                 .from_pretrained(teacher_ckpt, num_labels=num_labels)\n",
    "                 .to(device))\n",
    "\n",
    "distilbert_trainer = DistillationTrainer(model_init=student_init,\n",
    "    teacher_model=teacher_model, args=student_training_args,\n",
    "    train_dataset=clinc_enc['train'], eval_dataset=clinc_enc['validation'],\n",
    "    compute_metrics=compute_metrics, tokenizer=student_tokenizer)\n",
    "\n",
    "distilbert_trainer.train()"
   ]
  },
  {
   "cell_type": "code",
   "execution_count": 26,
   "id": "40397cab",
   "metadata": {},
   "outputs": [
    {
     "data": {
      "application/vnd.jupyter.widget-view+json": {
       "model_id": "48f1c2ba07764ca18f1c0233c38835cb",
       "version_major": 2,
       "version_minor": 0
      },
      "text/plain": [
       "model.safetensors:   0%|          | 0.00/268M [00:00<?, ?B/s]"
      ]
     },
     "metadata": {},
     "output_type": "display_data"
    },
    {
     "data": {
      "text/plain": [
       "CommitInfo(commit_url='https://huggingface.co/SkillRipper/distilbert-base-uncased-finetuned-clinc/commit/5befb28d26af986884856ef80fdb9ebfea181a6c', commit_message='Training completed!', commit_description='', oid='5befb28d26af986884856ef80fdb9ebfea181a6c', pr_url=None, pr_revision=None, pr_num=None)"
      ]
     },
     "execution_count": 26,
     "metadata": {},
     "output_type": "execute_result"
    }
   ],
   "source": [
    "distilbert_trainer.push_to_hub(\"Training completed!\")"
   ]
  },
  {
   "cell_type": "code",
   "execution_count": 27,
   "id": "3dd8d9bd",
   "metadata": {},
   "outputs": [
    {
     "data": {
      "application/vnd.jupyter.widget-view+json": {
       "model_id": "299b955266cf4ae88e5579ee3128374c",
       "version_major": 2,
       "version_minor": 0
      },
      "text/plain": [
       "config.json:   0%|          | 0.00/8.54k [00:00<?, ?B/s]"
      ]
     },
     "metadata": {},
     "output_type": "display_data"
    },
    {
     "data": {
      "application/vnd.jupyter.widget-view+json": {
       "model_id": "837dd9ff5b0d4126983cdc7d317a2b84",
       "version_major": 2,
       "version_minor": 0
      },
      "text/plain": [
       "model.safetensors:   0%|          | 0.00/268M [00:00<?, ?B/s]"
      ]
     },
     "metadata": {},
     "output_type": "display_data"
    },
    {
     "data": {
      "application/vnd.jupyter.widget-view+json": {
       "model_id": "26a1939b901f43209cad1a3d79fa533b",
       "version_major": 2,
       "version_minor": 0
      },
      "text/plain": [
       "tokenizer_config.json:   0%|          | 0.00/1.25k [00:00<?, ?B/s]"
      ]
     },
     "metadata": {},
     "output_type": "display_data"
    },
    {
     "data": {
      "application/vnd.jupyter.widget-view+json": {
       "model_id": "5486c133fd074132b5f56bb0fa1ca816",
       "version_major": 2,
       "version_minor": 0
      },
      "text/plain": [
       "vocab.txt:   0%|          | 0.00/232k [00:00<?, ?B/s]"
      ]
     },
     "metadata": {},
     "output_type": "display_data"
    },
    {
     "data": {
      "application/vnd.jupyter.widget-view+json": {
       "model_id": "810603bfb1374b989a3141d736ed91cf",
       "version_major": 2,
       "version_minor": 0
      },
      "text/plain": [
       "tokenizer.json:   0%|          | 0.00/711k [00:00<?, ?B/s]"
      ]
     },
     "metadata": {},
     "output_type": "display_data"
    },
    {
     "data": {
      "application/vnd.jupyter.widget-view+json": {
       "model_id": "16f62ad864404169a910cb97c867bf16",
       "version_major": 2,
       "version_minor": 0
      },
      "text/plain": [
       "special_tokens_map.json:   0%|          | 0.00/132 [00:00<?, ?B/s]"
      ]
     },
     "metadata": {},
     "output_type": "display_data"
    },
    {
     "name": "stderr",
     "output_type": "stream",
     "text": [
      "Hardware accelerator e.g. GPU is available in the environment, but no `device` argument is passed to the `Pipeline` object. Model will be on CPU.\n"
     ]
    }
   ],
   "source": [
    "# finetuned_ckpt = \"transformersbook/distilbert-base-uncased-finetuned-clinc\"\n",
    "finetuned_ckpt = \"SkillRipper/distilbert-base-uncased-finetuned-clinc\"\n",
    "\n",
    "pipe = pipeline(\"text-classification\", model=finetuned_ckpt)"
   ]
  },
  {
   "cell_type": "code",
   "execution_count": 28,
   "id": "6a5bc71b",
   "metadata": {},
   "outputs": [
    {
     "name": "stdout",
     "output_type": "stream",
     "text": [
      "Model size (MB) - 255.88\n",
      "Average latency (ms) - 14.57 +\\- 0.57\n",
      "Accuracy on test set - 0.854\n"
     ]
    }
   ],
   "source": [
    "optim_type = \"DistilBERT\"\n",
    "pb = PerformanceBenchmark(pipe, clinc[\"test\"], optim_type=optim_type)\n",
    "perf_metrics.update(pb.run_benchmark())"
   ]
  },
  {
   "cell_type": "code",
   "execution_count": 29,
   "id": "50117a0e",
   "metadata": {},
   "outputs": [],
   "source": [
    "import pandas as pd\n",
    "\n",
    "def plot_metrics(perf_metrics, current_optim_type):\n",
    "    df = pd.DataFrame.from_dict(perf_metrics, orient='index')\n",
    "    \n",
    "    for idx in df.index:\n",
    "        df_opt = df.loc[idx]\n",
    "        # Add a dashed circle around the current optimization type\n",
    "        if idx == current_optim_type:\n",
    "            plt.scatter(df_opt[\"time_avg_ms\"], df_opt[\"accuracy\"] * 100,\n",
    "                        alpha=0.5, s=df_opt[\"size_mb\"], label=idx,\n",
    "                        marker='$\\u25CC$')\n",
    "        else:\n",
    "            plt.scatter(df_opt[\"time_avg_ms\"], df_opt[\"accuracy\"] * 100,\n",
    "                        s=df_opt[\"size_mb\"], label=idx, alpha=0.5)\n",
    "    \n",
    "    legend = plt.legend(bbox_to_anchor=(1,1))\n",
    "    for handle in legend.legendHandles:\n",
    "        handle.set_sizes([20])\n",
    "    \n",
    "    plt.ylim(80,90)\n",
    "    # Use the slowest model to define the x-axis range\n",
    "    xlim = int(perf_metrics[\"BERT baseline\"][\"time_avg_ms\"] + 3)\n",
    "    plt.xlim(1, xlim)\n",
    "    plt.ylabel(\"Accuracy (%)\")\n",
    "    plt.xlabel(\"Average latency (ms)\")\n",
    "    plt.show()"
   ]
  },
  {
   "cell_type": "markdown",
   "id": "47c26790",
   "metadata": {},
   "source": [
    "### Finding Good Hyperparameters with Optuna"
   ]
  },
  {
   "cell_type": "code",
   "execution_count": 31,
   "id": "b4373638",
   "metadata": {},
   "outputs": [],
   "source": [
    "def objective(trial):\n",
    "    x = trial.suggest_float(\"x\", -2, 2)\n",
    "    y = trial.suggest_float(\"y\", -2, 2)\n",
    "    return (1 - x) ** 2 + 100 * (y - x ** 2) ** 2"
   ]
  },
  {
   "cell_type": "code",
   "execution_count": 36,
   "id": "194f9a36",
   "metadata": {},
   "outputs": [
    {
     "name": "stderr",
     "output_type": "stream",
     "text": [
      "[I 2024-09-19 15:26:46,944] A new study created in memory with name: no-name-36b7188a-ca9d-419d-8a77-1d675a2578e1\n",
      "[I 2024-09-19 15:26:46,948] Trial 0 finished with value: 407.59484307150524 and parameters: {'x': 1.93971281656703, 'y': 1.7457761566547214}. Best is trial 0 with value: 407.59484307150524.\n",
      "[I 2024-09-19 15:26:46,949] Trial 1 finished with value: 685.9564209179578 and parameters: {'x': -1.5499477880735268, 'y': -0.20429605795784234}. Best is trial 0 with value: 407.59484307150524.\n",
      "[I 2024-09-19 15:26:46,950] Trial 2 finished with value: 762.1737838095153 and parameters: {'x': -1.0088363378990381, 'y': -1.7356804852162147}. Best is trial 0 with value: 407.59484307150524.\n",
      "[I 2024-09-19 15:26:46,951] Trial 3 finished with value: 2.8260157475521894 and parameters: {'x': -0.5843346063667703, 'y': 0.28524198556311786}. Best is trial 3 with value: 2.8260157475521894.\n",
      "[I 2024-09-19 15:26:46,952] Trial 4 finished with value: 1690.499113313176 and parameters: {'x': 1.467530949111099, 'y': -1.9576550527783319}. Best is trial 3 with value: 2.8260157475521894.\n",
      "[I 2024-09-19 15:26:46,953] Trial 5 finished with value: 386.5794202792869 and parameters: {'x': 1.3810204533369395, 'y': -0.05857558837010712}. Best is trial 3 with value: 2.8260157475521894.\n",
      "[I 2024-09-19 15:26:46,954] Trial 6 finished with value: 2.8005017564953922 and parameters: {'x': -0.2853846875331194, 'y': 0.18860261889043395}. Best is trial 6 with value: 2.8005017564953922.\n",
      "[I 2024-09-19 15:26:46,956] Trial 7 finished with value: 84.10554755641557 and parameters: {'x': 0.42285976637027023, 'y': -0.736462564745652}. Best is trial 6 with value: 2.8005017564953922.\n",
      "[I 2024-09-19 15:26:46,957] Trial 8 finished with value: 83.1004403306795 and parameters: {'x': -1.0531155842790105, 'y': 0.22087927095868976}. Best is trial 6 with value: 2.8005017564953922.\n",
      "[I 2024-09-19 15:26:46,957] Trial 9 finished with value: 87.20747890349085 and parameters: {'x': -0.05472111871321017, 'y': 0.9308685424345051}. Best is trial 6 with value: 2.8005017564953922.\n",
      "[I 2024-09-19 15:26:46,969] Trial 10 finished with value: 290.5761674617243 and parameters: {'x': 0.4383094957677076, 'y': 1.8958190358730604}. Best is trial 6 with value: 2.8005017564953922.\n",
      "[I 2024-09-19 15:26:46,976] Trial 11 finished with value: 39.6019997037639 and parameters: {'x': -0.4058042248904623, 'y': 0.7780750978324564}. Best is trial 6 with value: 2.8005017564953922.\n",
      "[I 2024-09-19 15:26:46,984] Trial 12 finished with value: 137.5752728211795 and parameters: {'x': -0.6275133775747777, 'y': -0.7678055120192269}. Best is trial 6 with value: 2.8005017564953922.\n",
      "[I 2024-09-19 15:26:46,992] Trial 13 finished with value: 1036.9342989364013 and parameters: {'x': -1.98783328233288, 'y': 0.7452260979825538}. Best is trial 6 with value: 2.8005017564953922.\n",
      "[I 2024-09-19 15:26:47,000] Trial 14 finished with value: 100.67712466793664 and parameters: {'x': 0.44281835947707116, 'y': 1.1979197883848647}. Best is trial 6 with value: 2.8005017564953922.\n",
      "[I 2024-09-19 15:26:47,008] Trial 15 finished with value: 56.07125103135107 and parameters: {'x': -0.14398104295015235, 'y': -0.7192867455874734}. Best is trial 6 with value: 2.8005017564953922.\n",
      "[I 2024-09-19 15:26:47,015] Trial 16 finished with value: 15.38477735676744 and parameters: {'x': -0.8184182400111819, 'y': 0.322272338877832}. Best is trial 6 with value: 2.8005017564953922.\n",
      "[I 2024-09-19 15:26:47,024] Trial 17 finished with value: 971.663318113958 and parameters: {'x': -1.3701949766793073, 'y': -1.230692965695349}. Best is trial 6 with value: 2.8005017564953922.\n",
      "[I 2024-09-19 15:26:47,031] Trial 18 finished with value: 116.56769752879737 and parameters: {'x': 0.9368657344344289, 'y': -0.20192935080521857}. Best is trial 6 with value: 2.8005017564953922.\n",
      "[I 2024-09-19 15:26:47,038] Trial 19 finished with value: 180.01847706154098 and parameters: {'x': -0.3658146103621815, 'y': 1.4685601072073036}. Best is trial 6 with value: 2.8005017564953922.\n",
      "[I 2024-09-19 15:26:47,045] Trial 20 finished with value: 23.348146310000544 and parameters: {'x': 0.05488489530555407, 'y': 0.47687840610755294}. Best is trial 6 with value: 2.8005017564953922.\n",
      "[I 2024-09-19 15:26:47,053] Trial 21 finished with value: 5.947161575864456 and parameters: {'x': -0.7053160343623874, 'y': 0.3231417434716936}. Best is trial 6 with value: 2.8005017564953922.\n",
      "[I 2024-09-19 15:26:47,061] Trial 22 finished with value: 619.3377453291287 and parameters: {'x': -1.4002179250648452, 'y': -0.5164378023160825}. Best is trial 6 with value: 2.8005017564953922.\n",
      "[I 2024-09-19 15:26:47,069] Trial 23 finished with value: 4.83848565525231 and parameters: {'x': -0.5897368474917971, 'y': 0.4998165998752781}. Best is trial 6 with value: 2.8005017564953922.\n",
      "[I 2024-09-19 15:26:47,077] Trial 24 finished with value: 126.34156415386587 and parameters: {'x': 0.10064820219727699, 'y': 1.1305439595627769}. Best is trial 6 with value: 2.8005017564953922.\n",
      "[I 2024-09-19 15:26:47,085] Trial 25 finished with value: 15.855269574878236 and parameters: {'x': -0.36546511879026705, 'y': 0.5076071916104348}. Best is trial 6 with value: 2.8005017564953922.\n",
      "[I 2024-09-19 15:26:47,094] Trial 26 finished with value: 99.71916895875391 and parameters: {'x': -1.0479087249538248, 'y': 0.1207425570792735}. Best is trial 6 with value: 2.8005017564953922.\n",
      "[I 2024-09-19 15:26:47,102] Trial 27 finished with value: 82.03115917068442 and parameters: {'x': 0.7445270052103813, 'y': -0.3510297067877953}. Best is trial 6 with value: 2.8005017564953922.\n",
      "[I 2024-09-19 15:26:47,110] Trial 28 finished with value: 1807.5443811443913 and parameters: {'x': -1.7746544657370307, 'y': -1.0930603352189645}. Best is trial 6 with value: 2.8005017564953922.\n",
      "[I 2024-09-19 15:26:47,118] Trial 29 finished with value: 136.807028723816 and parameters: {'x': -0.5404800681175477, 'y': 1.4515752572655805}. Best is trial 6 with value: 2.8005017564953922.\n",
      "[I 2024-09-19 15:26:47,127] Trial 30 finished with value: 8.00092244335237 and parameters: {'x': -0.8815930893647126, 'y': 0.566006709273474}. Best is trial 6 with value: 2.8005017564953922.\n",
      "[I 2024-09-19 15:26:47,137] Trial 31 finished with value: 25.52703609398107 and parameters: {'x': -0.7531727908585064, 'y': 0.09341884126821835}. Best is trial 6 with value: 2.8005017564953922.\n",
      "[I 2024-09-19 15:26:47,150] Trial 32 finished with value: 142.42053958480824 and parameters: {'x': -1.225615571828601, 'y': 0.3296695649561268}. Best is trial 6 with value: 2.8005017564953922.\n",
      "[I 2024-09-19 15:26:47,160] Trial 33 finished with value: 1.9438996505856836 and parameters: {'x': -0.21519029710202991, 'y': -0.02204605787374353}. Best is trial 33 with value: 1.9438996505856836.\n",
      "[I 2024-09-19 15:26:47,169] Trial 34 finished with value: 2.306733382552655 and parameters: {'x': 0.27710026090040485, 'y': -0.05678749898909802}. Best is trial 33 with value: 1.9438996505856836.\n",
      "[I 2024-09-19 15:26:47,178] Trial 35 finished with value: 4.232188529951426 and parameters: {'x': 0.12174220543795722, 'y': -0.17121248227078376}. Best is trial 33 with value: 1.9438996505856836.\n",
      "[I 2024-09-19 15:26:47,186] Trial 36 finished with value: 1959.2349474134164 and parameters: {'x': 1.9924811225734076, 'y': -0.4552307548888732}. Best is trial 33 with value: 1.9438996505856836.\n",
      "[I 2024-09-19 15:26:47,195] Trial 37 finished with value: 2.2944434672869605 and parameters: {'x': -0.16537413140166735, 'y': -0.06941640072694649}. Best is trial 33 with value: 1.9438996505856836.\n",
      "[I 2024-09-19 15:26:47,203] Trial 38 finished with value: 36.731986876675556 and parameters: {'x': 0.7962963148053289, 'y': 0.02836105348316477}. Best is trial 33 with value: 1.9438996505856836.\n",
      "[I 2024-09-19 15:26:47,213] Trial 39 finished with value: 124.02087835076748 and parameters: {'x': 0.30462838112604884, 'y': -1.0186750608487247}. Best is trial 33 with value: 1.9438996505856836.\n",
      "[I 2024-09-19 15:26:47,221] Trial 40 finished with value: 253.74883708759708 and parameters: {'x': -0.19499966894206724, 'y': -1.550436059947188}. Best is trial 33 with value: 1.9438996505856836.\n",
      "[I 2024-09-19 15:26:47,229] Trial 41 finished with value: 3.564428816818234 and parameters: {'x': -0.26333696695863157, 'y': -0.07095362489553642}. Best is trial 33 with value: 1.9438996505856836.\n"
     ]
    },
    {
     "name": "stderr",
     "output_type": "stream",
     "text": [
      "[I 2024-09-19 15:26:47,237] Trial 42 finished with value: 14.319564273798427 and parameters: {'x': -0.06675624258800544, 'y': -0.358608273145629}. Best is trial 33 with value: 1.9438996505856836.\n",
      "[I 2024-09-19 15:26:47,246] Trial 43 finished with value: 789.714340764756 and parameters: {'x': 1.6647518498138032, 'y': -0.03800058398552414}. Best is trial 33 with value: 1.9438996505856836.\n",
      "[I 2024-09-19 15:26:47,254] Trial 44 finished with value: 53.851093188888754 and parameters: {'x': 0.17469927613356684, 'y': 0.7596972633920499}. Best is trial 33 with value: 1.9438996505856836.\n",
      "[I 2024-09-19 15:26:47,262] Trial 45 finished with value: 2.3803794816839083 and parameters: {'x': 0.5835053988331442, 'y': 0.1919217691047851}. Best is trial 33 with value: 1.9438996505856836.\n",
      "[I 2024-09-19 15:26:47,271] Trial 46 finished with value: 260.24886349855416 and parameters: {'x': 1.020258042879982, 'y': -0.5722953120247168}. Best is trial 33 with value: 1.9438996505856836.\n",
      "[I 2024-09-19 15:26:47,279] Trial 47 finished with value: 27.27381187469796 and parameters: {'x': 0.6425765798091383, 'y': -0.10811415230538976}. Best is trial 33 with value: 1.9438996505856836.\n",
      "[I 2024-09-19 15:26:47,287] Trial 48 finished with value: 101.72260746629816 and parameters: {'x': 1.0939051438951666, 'y': 0.18809591954513868}. Best is trial 33 with value: 1.9438996505856836.\n",
      "[I 2024-09-19 15:26:47,297] Trial 49 finished with value: 84.78718424197668 and parameters: {'x': 0.5062500475211749, 'y': -0.6631857135447948}. Best is trial 33 with value: 1.9438996505856836.\n",
      "[I 2024-09-19 15:26:47,305] Trial 50 finished with value: 21.696654678956374 and parameters: {'x': 0.3111564461396742, 'y': -0.3638567059102593}. Best is trial 33 with value: 1.9438996505856836.\n",
      "[I 2024-09-19 15:26:47,314] Trial 51 finished with value: 2.1721894400764667 and parameters: {'x': -0.4734483726246039, 'y': 0.22077796039972786}. Best is trial 33 with value: 1.9438996505856836.\n",
      "[I 2024-09-19 15:26:47,323] Trial 52 finished with value: 28.687660959454753 and parameters: {'x': -0.5091567140473315, 'y': -0.25466708761245266}. Best is trial 33 with value: 1.9438996505856836.\n",
      "[I 2024-09-19 15:26:47,332] Trial 53 finished with value: 38.75052160926375 and parameters: {'x': -0.11681782797571594, 'y': 0.6260452908592804}. Best is trial 33 with value: 1.9438996505856836.\n",
      "[I 2024-09-19 15:26:47,340] Trial 54 finished with value: 3.6393042608106563 and parameters: {'x': 0.2773574008001579, 'y': 0.25348000752382077}. Best is trial 33 with value: 1.9438996505856836.\n",
      "[I 2024-09-19 15:26:47,349] Trial 55 finished with value: 32.33557389363524 and parameters: {'x': 0.5761168058669519, 'y': 0.8989722719803176}. Best is trial 33 with value: 1.9438996505856836.\n",
      "[I 2024-09-19 15:26:47,359] Trial 56 finished with value: 10.487663721138679 and parameters: {'x': -0.2868789084472428, 'y': 0.37947969581174}. Best is trial 33 with value: 1.9438996505856836.\n",
      "[I 2024-09-19 15:26:47,368] Trial 57 finished with value: 2.4490553513652245 and parameters: {'x': -0.015809889561662516, 'y': 0.11929555813935944}. Best is trial 33 with value: 1.9438996505856836.\n",
      "[I 2024-09-19 15:26:47,377] Trial 58 finished with value: 226.13998828930514 and parameters: {'x': 1.2779138367681173, 'y': 0.12952544017717743}. Best is trial 33 with value: 1.9438996505856836.\n",
      "[I 2024-09-19 15:26:47,386] Trial 59 finished with value: 8.592525096225735 and parameters: {'x': -0.06978541580011222, 'y': -0.2680417811296153}. Best is trial 33 with value: 1.9438996505856836.\n",
      "[I 2024-09-19 15:26:47,396] Trial 60 finished with value: 4.557131449353813 and parameters: {'x': -0.4236297964741065, 'y': 0.020389590477490005}. Best is trial 33 with value: 1.9438996505856836.\n",
      "[I 2024-09-19 15:26:47,406] Trial 61 finished with value: 2.5304360779361366 and parameters: {'x': 0.022557832023484437, 'y': -0.12499185680988739}. Best is trial 33 with value: 1.9438996505856836.\n",
      "[I 2024-09-19 15:26:47,415] Trial 62 finished with value: 72.57467785576077 and parameters: {'x': 0.04715679093815081, 'y': -0.8443385069263716}. Best is trial 33 with value: 1.9438996505856836.\n",
      "[I 2024-09-19 15:26:47,423] Trial 63 finished with value: 3.0881154965586592 and parameters: {'x': 0.20232576839508581, 'y': -0.11564753020978402}. Best is trial 33 with value: 1.9438996505856836.\n",
      "[I 2024-09-19 15:26:47,432] Trial 64 finished with value: 24.754957231912794 and parameters: {'x': 0.3950742163436298, 'y': 0.6499360640553657}. Best is trial 33 with value: 1.9438996505856836.\n",
      "[I 2024-09-19 15:26:47,441] Trial 65 finished with value: 13.056312573944338 and parameters: {'x': -0.21633673179344665, 'y': 0.3870491021434906}. Best is trial 33 with value: 1.9438996505856836.\n",
      "[I 2024-09-19 15:26:47,451] Trial 66 finished with value: 4.805800960067335 and parameters: {'x': -0.02398702934382596, 'y': 0.19441168799878145}. Best is trial 33 with value: 1.9438996505856836.\n",
      "[I 2024-09-19 15:26:47,460] Trial 67 finished with value: 25.63986528803264 and parameters: {'x': 0.7363019108444003, 'y': 0.03646937950706103}. Best is trial 33 with value: 1.9438996505856836.\n",
      "[I 2024-09-19 15:26:47,469] Trial 68 finished with value: 43.89360884019212 and parameters: {'x': -0.39763402568805306, 'y': -0.48949993604812364}. Best is trial 33 with value: 1.9438996505856836.\n",
      "[I 2024-09-19 15:26:47,477] Trial 69 finished with value: 126.07579259093302 and parameters: {'x': -0.9483603005184804, 'y': -0.20641419061792476}. Best is trial 33 with value: 1.9438996505856836.\n",
      "[I 2024-09-19 15:26:47,486] Trial 70 finished with value: 2.849997042763647 and parameters: {'x': -0.6812756490483984, 'y': 0.4488691478433223}. Best is trial 33 with value: 1.9438996505856836.\n",
      "[I 2024-09-19 15:26:47,495] Trial 71 finished with value: 6.586625513490186 and parameters: {'x': 0.0494459979103669, 'y': 0.24083686552091865}. Best is trial 33 with value: 1.9438996505856836.\n",
      "[I 2024-09-19 15:26:47,505] Trial 72 finished with value: 7.4109916615588585 and parameters: {'x': -0.5018536189746128, 'y': 0.024801392787499835}. Best is trial 33 with value: 1.9438996505856836.\n",
      "[I 2024-09-19 15:26:47,513] Trial 73 finished with value: 17.99033065372662 and parameters: {'x': -0.3000452639402127, 'y': -0.31370806179875016}. Best is trial 33 with value: 1.9438996505856836.\n",
      "[I 2024-09-19 15:26:47,522] Trial 74 finished with value: 2.104638863048144 and parameters: {'x': -0.13981023034985324, 'y': 0.10929496465884708}. Best is trial 33 with value: 1.9438996505856836.\n",
      "[I 2024-09-19 15:26:47,532] Trial 75 finished with value: 3.676597859132498 and parameters: {'x': -0.15735013796447248, 'y': -0.12811796039083695}. Best is trial 33 with value: 1.9438996505856836.\n",
      "[I 2024-09-19 15:26:47,543] Trial 76 finished with value: 1.4622698676902295 and parameters: {'x': 0.20595909505651017, 'y': 0.1336205144494496}. Best is trial 76 with value: 1.4622698676902295.\n",
      "[I 2024-09-19 15:26:47,553] Trial 77 finished with value: 0.47494546485194655 and parameters: {'x': 0.39854003243222824, 'y': 0.12519023195697168}. Best is trial 77 with value: 0.47494546485194655.\n",
      "[I 2024-09-19 15:26:47,563] Trial 78 finished with value: 7.279734965514649 and parameters: {'x': 0.38851790428433575, 'y': 0.4137355188902525}. Best is trial 77 with value: 0.47494546485194655.\n",
      "[I 2024-09-19 15:26:47,574] Trial 79 finished with value: 4.0046953679231 and parameters: {'x': 0.689147338271403, 'y': 0.2772357640917198}. Best is trial 77 with value: 0.47494546485194655.\n",
      "[I 2024-09-19 15:26:47,585] Trial 80 finished with value: 0.9655552373271719 and parameters: {'x': 0.8978140264829941, 'y': 0.9037999225039746}. Best is trial 77 with value: 0.47494546485194655.\n",
      "[I 2024-09-19 15:26:47,594] Trial 81 finished with value: 114.9165712375442 and parameters: {'x': 0.20911729337978524, 'y': 1.1128000858484137}. Best is trial 77 with value: 0.47494546485194655.\n",
      "[I 2024-09-19 15:26:47,603] Trial 82 finished with value: 2.642782985621737 and parameters: {'x': 0.8418826587283081, 'y': 0.8705620195372334}. Best is trial 77 with value: 0.47494546485194655.\n",
      "[I 2024-09-19 15:26:47,612] Trial 83 finished with value: 227.0460449074324 and parameters: {'x': 0.5919099645043219, 'y': 1.8566094016976429}. Best is trial 77 with value: 0.47494546485194655.\n"
     ]
    },
    {
     "name": "stderr",
     "output_type": "stream",
     "text": [
      "[I 2024-09-19 15:26:47,620] Trial 84 finished with value: 132.53293384616595 and parameters: {'x': 0.5607598267227767, 'y': 1.4648428293922116}. Best is trial 77 with value: 0.47494546485194655.\n",
      "[I 2024-09-19 15:26:47,629] Trial 85 finished with value: 74.20156204341941 and parameters: {'x': 0.899231428964042, 'y': 1.6699615059336579}. Best is trial 77 with value: 0.47494546485194655.\n",
      "[I 2024-09-19 15:26:47,638] Trial 86 finished with value: 1.8640274933522898 and parameters: {'x': 1.0854094070986737, 'y': 1.3143755612817318}. Best is trial 77 with value: 0.47494546485194655.\n",
      "[I 2024-09-19 15:26:47,647] Trial 87 finished with value: 197.69579979317413 and parameters: {'x': 1.6266139648125233, 'y': 1.241226576893423}. Best is trial 77 with value: 0.47494546485194655.\n",
      "[I 2024-09-19 15:26:47,656] Trial 88 finished with value: 98.8025315710884 and parameters: {'x': 1.03342192819534, 'y': 0.07397187496612723}. Best is trial 77 with value: 0.47494546485194655.\n",
      "[I 2024-09-19 15:26:47,665] Trial 89 finished with value: 127.52168684986658 and parameters: {'x': 0.47717507396225556, 'y': 1.355740114829767}. Best is trial 77 with value: 0.47494546485194655.\n",
      "[I 2024-09-19 15:26:47,674] Trial 90 finished with value: 94.62398715360108 and parameters: {'x': 1.2268018577853206, 'y': 0.5325586180810432}. Best is trial 77 with value: 0.47494546485194655.\n",
      "[I 2024-09-19 15:26:47,682] Trial 91 finished with value: 5.703586625694047 and parameters: {'x': 1.1799551595064544, 'y': 1.6304370508200519}. Best is trial 77 with value: 0.47494546485194655.\n",
      "[I 2024-09-19 15:26:47,691] Trial 92 finished with value: 0.9530096355074752 and parameters: {'x': 0.1362165578609833, 'y': -0.026929970007939202}. Best is trial 77 with value: 0.47494546485194655.\n",
      "[I 2024-09-19 15:26:47,700] Trial 93 finished with value: 571.8230379459873 and parameters: {'x': 1.532562763670242, 'y': -0.04194042848533247}. Best is trial 77 with value: 0.47494546485194655.\n",
      "[I 2024-09-19 15:26:47,710] Trial 94 finished with value: 478.4176317307201 and parameters: {'x': 1.3438934577426043, 'y': -0.3809560189948703}. Best is trial 77 with value: 0.47494546485194655.\n",
      "[I 2024-09-19 15:26:47,719] Trial 95 finished with value: 45.6296836906809 and parameters: {'x': 0.14595314450908756, 'y': 0.6913790895708689}. Best is trial 77 with value: 0.47494546485194655.\n",
      "[I 2024-09-19 15:26:47,727] Trial 96 finished with value: 83.08209853469086 and parameters: {'x': 0.2927354837911925, 'y': 0.9944397673876968}. Best is trial 77 with value: 0.47494546485194655.\n",
      "[I 2024-09-19 15:26:47,735] Trial 97 finished with value: 7.621721559916102 and parameters: {'x': -0.0936645867049, 'y': -0.24471499879566558}. Best is trial 77 with value: 0.47494546485194655.\n",
      "[I 2024-09-19 15:26:47,744] Trial 98 finished with value: 9.933220908944932 and parameters: {'x': -0.22614218818978798, 'y': 0.34148140320022036}. Best is trial 77 with value: 0.47494546485194655.\n",
      "[I 2024-09-19 15:26:47,754] Trial 99 finished with value: 2.054627215358734 and parameters: {'x': 0.10339651413088657, 'y': 0.12252685321244666}. Best is trial 77 with value: 0.47494546485194655.\n",
      "[I 2024-09-19 15:26:47,762] Trial 100 finished with value: 2.6259889835620647 and parameters: {'x': 0.11282844512223378, 'y': 0.1483368808676254}. Best is trial 77 with value: 0.47494546485194655.\n",
      "[I 2024-09-19 15:26:47,771] Trial 101 finished with value: 2.6957968555812273 and parameters: {'x': 0.35793938354767607, 'y': -0.022993759047576973}. Best is trial 77 with value: 0.47494546485194655.\n",
      "[I 2024-09-19 15:26:47,780] Trial 102 finished with value: 5.331441593622191 and parameters: {'x': 0.25174474715737283, 'y': 0.2818143261194354}. Best is trial 77 with value: 0.47494546485194655.\n",
      "[I 2024-09-19 15:26:47,789] Trial 103 finished with value: 10.273317747879265 and parameters: {'x': -0.3476101735564421, 'y': -0.16998093183875385}. Best is trial 77 with value: 0.47494546485194655.\n",
      "[I 2024-09-19 15:26:47,798] Trial 104 finished with value: 3.698405793440773 and parameters: {'x': -0.4566649231749598, 'y': 0.08298278296664362}. Best is trial 77 with value: 0.47494546485194655.\n",
      "[I 2024-09-19 15:26:47,807] Trial 105 finished with value: 16.511802755906814 and parameters: {'x': -0.5813398247239989, 'y': -0.03635894396786829}. Best is trial 77 with value: 0.47494546485194655.\n",
      "[I 2024-09-19 15:26:47,816] Trial 106 finished with value: 168.35146557263042 and parameters: {'x': 1.8122314034627565, 'y': 1.9892241826794355}. Best is trial 77 with value: 0.47494546485194655.\n",
      "[I 2024-09-19 15:26:47,825] Trial 107 finished with value: 3.6542819910875477 and parameters: {'x': 0.11159320603576492, 'y': 0.1817166061483054}. Best is trial 77 with value: 0.47494546485194655.\n",
      "[I 2024-09-19 15:26:47,835] Trial 108 finished with value: 31.157715566953165 and parameters: {'x': -0.13284276379215582, 'y': 0.564221831936611}. Best is trial 77 with value: 0.47494546485194655.\n",
      "[I 2024-09-19 15:26:47,845] Trial 109 finished with value: 25.108574905227293 and parameters: {'x': 0.20130958760769915, 'y': -0.4541528154473737}. Best is trial 77 with value: 0.47494546485194655.\n",
      "[I 2024-09-19 15:26:47,855] Trial 110 finished with value: 340.2399489802089 and parameters: {'x': -0.042933585214396885, 'y': -1.8397653478709084}. Best is trial 77 with value: 0.47494546485194655.\n",
      "[I 2024-09-19 15:26:47,865] Trial 111 finished with value: 0.2874543680419941 and parameters: {'x': 0.4779151864004429, 'y': 0.21620382073211003}. Best is trial 111 with value: 0.2874543680419941.\n",
      "[I 2024-09-19 15:26:47,875] Trial 112 finished with value: 10.973883164200549 and parameters: {'x': 0.5080638772898078, 'y': -0.0694666096176689}. Best is trial 111 with value: 0.2874543680419941.\n",
      "[I 2024-09-19 15:26:47,885] Trial 113 finished with value: 1.394907289235737 and parameters: {'x': 0.42749844715077046, 'y': 0.07945200555106324}. Best is trial 111 with value: 0.2874543680419941.\n",
      "[I 2024-09-19 15:26:47,895] Trial 114 finished with value: 7.358354675944839 and parameters: {'x': 0.44318184811780165, 'y': 0.4618966515078343}. Best is trial 111 with value: 0.2874543680419941.\n",
      "[I 2024-09-19 15:26:47,904] Trial 115 finished with value: 52.65560723140465 and parameters: {'x': 0.9095868777073833, 'y': 0.10176278177362884}. Best is trial 111 with value: 0.2874543680419941.\n",
      "[I 2024-09-19 15:26:47,913] Trial 116 finished with value: 1.3204648645965427 and parameters: {'x': 0.6601403176871691, 'y': 0.32601455711536115}. Best is trial 111 with value: 0.2874543680419941.\n",
      "[I 2024-09-19 15:26:47,926] Trial 117 finished with value: 41.52078851274583 and parameters: {'x': 0.9901624424969206, 'y': 0.3360561471971335}. Best is trial 111 with value: 0.2874543680419941.\n",
      "[I 2024-09-19 15:26:47,936] Trial 118 finished with value: 12.003419484693122 and parameters: {'x': 0.778814830856421, 'y': 0.26079978797975706}. Best is trial 111 with value: 0.2874543680419941.\n",
      "[I 2024-09-19 15:26:47,945] Trial 119 finished with value: 13.475672210596649 and parameters: {'x': 0.6633735838939432, 'y': 0.8056100611804109}. Best is trial 111 with value: 0.2874543680419941.\n",
      "[I 2024-09-19 15:26:47,954] Trial 120 finished with value: 0.8146916698767359 and parameters: {'x': 0.34846175565273985, 'y': 0.18389075232277752}. Best is trial 111 with value: 0.2874543680419941.\n",
      "[I 2024-09-19 15:26:47,962] Trial 121 finished with value: 26.128946109069336 and parameters: {'x': 0.8331296613247842, 'y': 0.1832126721044626}. Best is trial 111 with value: 0.2874543680419941.\n",
      "[I 2024-09-19 15:26:47,972] Trial 122 finished with value: 1.7283710663200358 and parameters: {'x': 0.5232451118779504, 'y': 0.39630384747618513}. Best is trial 111 with value: 0.2874543680419941.\n",
      "[I 2024-09-19 15:26:47,980] Trial 123 finished with value: 1.0623182513736857 and parameters: {'x': 0.3592801041622626, 'y': 0.04834829290434052}. Best is trial 111 with value: 0.2874543680419941.\n",
      "[I 2024-09-19 15:26:47,990] Trial 124 finished with value: 82.99136709856828 and parameters: {'x': 0.3317356244775532, 'y': 1.01859015718179}. Best is trial 111 with value: 0.2874543680419941.\n",
      "[I 2024-09-19 15:26:48,000] Trial 125 finished with value: 7.376038436916638 and parameters: {'x': 0.5466605321419018, 'y': 0.03105943798592342}. Best is trial 111 with value: 0.2874543680419941.\n"
     ]
    },
    {
     "name": "stderr",
     "output_type": "stream",
     "text": [
      "[I 2024-09-19 15:26:48,008] Trial 126 finished with value: 0.12460369501121005 and parameters: {'x': 0.6495794753782169, 'y': 0.4177000833371404}. Best is trial 126 with value: 0.12460369501121005.\n",
      "[I 2024-09-19 15:26:48,016] Trial 127 finished with value: 1.5743103395290463 and parameters: {'x': 0.7018264531919487, 'y': 0.6144374755310591}. Best is trial 126 with value: 0.12460369501121005.\n",
      "[I 2024-09-19 15:26:48,025] Trial 128 finished with value: 4.2322631566831355 and parameters: {'x': 0.6627508852349364, 'y': 0.6421802592620031}. Best is trial 126 with value: 0.12460369501121005.\n",
      "[I 2024-09-19 15:26:48,033] Trial 129 finished with value: 11.375958787703508 and parameters: {'x': 0.4336143985439375, 'y': 0.5205145463750781}. Best is trial 126 with value: 0.12460369501121005.\n",
      "[I 2024-09-19 15:26:48,043] Trial 130 finished with value: 0.2950703670213121 and parameters: {'x': 0.6377823778502187, 'y': 0.4472470681632175}. Best is trial 126 with value: 0.12460369501121005.\n",
      "[I 2024-09-19 15:26:48,052] Trial 131 finished with value: 1.7931929196504655 and parameters: {'x': 0.7466646143106401, 'y': 0.4260160654432249}. Best is trial 126 with value: 0.12460369501121005.\n",
      "[I 2024-09-19 15:26:48,060] Trial 132 finished with value: 1.6594298080606342 and parameters: {'x': 0.7182452354166561, 'y': 0.39017641467082964}. Best is trial 126 with value: 0.12460369501121005.\n",
      "[I 2024-09-19 15:26:48,068] Trial 133 finished with value: 11.513325813725642 and parameters: {'x': 0.617036021805544, 'y': 0.7178782935591629}. Best is trial 126 with value: 0.12460369501121005.\n",
      "[I 2024-09-19 15:26:48,076] Trial 134 finished with value: 1.8101382758530757 and parameters: {'x': 0.473727823292536, 'y': 0.3482395297917318}. Best is trial 126 with value: 0.12460369501121005.\n",
      "[I 2024-09-19 15:26:48,085] Trial 135 finished with value: 19.337447063039626 and parameters: {'x': 0.3876673180741967, 'y': 0.5857454280962587}. Best is trial 126 with value: 0.12460369501121005.\n",
      "[I 2024-09-19 15:26:48,093] Trial 136 finished with value: 0.10551720862787149 and parameters: {'x': 0.7135315064746096, 'y': 0.4938128348565711}. Best is trial 136 with value: 0.10551720862787149.\n",
      "[I 2024-09-19 15:26:48,102] Trial 137 finished with value: 0.09208432717110147 and parameters: {'x': 0.7152266735525716, 'y': 0.5220317895237604}. Best is trial 137 with value: 0.09208432717110147.\n",
      "[I 2024-09-19 15:26:48,110] Trial 138 finished with value: 0.1615018880297283 and parameters: {'x': 0.8916101697675434, 'y': 0.8336666964262596}. Best is trial 137 with value: 0.09208432717110147.\n",
      "[I 2024-09-19 15:26:48,119] Trial 139 finished with value: 1.6712141658984312 and parameters: {'x': 0.8347581738929833, 'y': 0.8250362354889234}. Best is trial 137 with value: 0.09208432717110147.\n",
      "[I 2024-09-19 15:26:48,128] Trial 140 finished with value: 20.13014243405931 and parameters: {'x': 0.9694416023208138, 'y': 0.491161154212615}. Best is trial 137 with value: 0.09208432717110147.\n",
      "[I 2024-09-19 15:26:48,136] Trial 141 finished with value: 7.71360439937953 and parameters: {'x': 0.6139767009546785, 'y': 0.6520053941794948}. Best is trial 137 with value: 0.09208432717110147.\n",
      "[I 2024-09-19 15:26:48,144] Trial 142 finished with value: 0.07730792082600325 and parameters: {'x': 0.8937021390198626, 'y': 0.773011357758818}. Best is trial 142 with value: 0.07730792082600325.\n",
      "[I 2024-09-19 15:26:48,152] Trial 143 finished with value: 0.8162793446047576 and parameters: {'x': 0.9156787581746324, 'y': 0.9284214248209194}. Best is trial 142 with value: 0.07730792082600325.\n",
      "[I 2024-09-19 15:26:48,160] Trial 144 finished with value: 6.48807882286395 and parameters: {'x': 1.102963627527685, 'y': 0.962019877472726}. Best is trial 142 with value: 0.07730792082600325.\n",
      "[I 2024-09-19 15:26:48,169] Trial 145 finished with value: 8.923199872871116 and parameters: {'x': 0.8827854658108756, 'y': 1.07779737478515}. Best is trial 142 with value: 0.07730792082600325.\n",
      "[I 2024-09-19 15:26:48,176] Trial 146 finished with value: 1.5425576878941243 and parameters: {'x': 0.7861264986614509, 'y': 0.7403392960991981}. Best is trial 142 with value: 0.07730792082600325.\n",
      "[I 2024-09-19 15:26:48,185] Trial 147 finished with value: 0.0746259901053725 and parameters: {'x': 0.9276379246077628, 'y': 0.8868540477541884}. Best is trial 147 with value: 0.0746259901053725.\n",
      "[I 2024-09-19 15:26:48,192] Trial 148 finished with value: 27.348157661545212 and parameters: {'x': 1.1645031431322426, 'y': 0.8333717087259567}. Best is trial 147 with value: 0.0746259901053725.\n",
      "[I 2024-09-19 15:26:48,200] Trial 149 finished with value: 0.0026389185181298733 and parameters: {'x': 0.9591505115408767, 'y': 0.9230845678483708}. Best is trial 149 with value: 0.0026389185181298733.\n",
      "[I 2024-09-19 15:26:48,209] Trial 150 finished with value: 0.16548430362269537 and parameters: {'x': 0.9431663533435249, 'y': 0.9298435645390183}. Best is trial 149 with value: 0.0026389185181298733.\n",
      "[I 2024-09-19 15:26:48,217] Trial 151 finished with value: 2.080951743308727 and parameters: {'x': 1.039817633980375, 'y': 0.9370206322093506}. Best is trial 149 with value: 0.0026389185181298733.\n",
      "[I 2024-09-19 15:26:48,226] Trial 152 finished with value: 9.704582840994549 and parameters: {'x': 0.9460417755052457, 'y': 1.2064701018166495}. Best is trial 149 with value: 0.0026389185181298733.\n",
      "[I 2024-09-19 15:26:48,234] Trial 153 finished with value: 8.780632406799791 and parameters: {'x': 0.8703191851621814, 'y': 1.053492902187228}. Best is trial 149 with value: 0.0026389185181298733.\n",
      "[I 2024-09-19 15:26:48,241] Trial 154 finished with value: 0.004448856202810041 and parameters: {'x': 0.9462245685425087, 'y': 0.8992868930265356}. Best is trial 149 with value: 0.0026389185181298733.\n",
      "[I 2024-09-19 15:26:48,249] Trial 155 finished with value: 10.754501218448818 and parameters: {'x': 1.101145947207823, 'y': 0.884737853246191}. Best is trial 149 with value: 0.0026389185181298733.\n",
      "[I 2024-09-19 15:26:48,257] Trial 156 finished with value: 4.728333979528673 and parameters: {'x': 0.9896669660185159, 'y': 0.761995832271497}. Best is trial 149 with value: 0.0026389185181298733.\n",
      "[I 2024-09-19 15:26:48,266] Trial 157 finished with value: 27.99312290217496 and parameters: {'x': 0.7926770875696001, 'y': 1.157015885790719}. Best is trial 149 with value: 0.0026389185181298733.\n",
      "[I 2024-09-19 15:26:48,274] Trial 158 finished with value: 0.5316814324212252 and parameters: {'x': 0.9715403002252594, 'y': 0.8710296273043687}. Best is trial 149 with value: 0.0026389185181298733.\n",
      "[I 2024-09-19 15:26:48,282] Trial 159 finished with value: 16.374297390329307 and parameters: {'x': 1.1645278071956122, 'y': 0.9518079600352362}. Best is trial 149 with value: 0.0026389185181298733.\n",
      "[I 2024-09-19 15:26:48,289] Trial 160 finished with value: 78.33289599787648 and parameters: {'x': 1.3016412666039718, 'y': 0.8097254230735695}. Best is trial 149 with value: 0.0026389185181298733.\n",
      "[I 2024-09-19 15:26:48,297] Trial 161 finished with value: 0.4288161420865768 and parameters: {'x': 0.9019147712480231, 'y': 0.8781955578989533}. Best is trial 149 with value: 0.0026389185181298733.\n",
      "[I 2024-09-19 15:26:48,306] Trial 162 finished with value: 2.1009645204725933 and parameters: {'x': 0.9352661837686098, 'y': 1.0195252534556425}. Best is trial 149 with value: 0.0026389185181298733.\n",
      "[I 2024-09-19 15:26:48,314] Trial 163 finished with value: 0.20000032648228477 and parameters: {'x': 0.8273802400261017, 'y': 0.7258136969520863}. Best is trial 149 with value: 0.0026389185181298733.\n",
      "[I 2024-09-19 15:26:48,323] Trial 164 finished with value: 0.19578061339690075 and parameters: {'x': 0.8124959255769313, 'y': 0.7002274078937702}. Best is trial 149 with value: 0.0026389185181298733.\n",
      "[I 2024-09-19 15:26:48,331] Trial 165 finished with value: 1.8490497099163288 and parameters: {'x': 0.7560314082037453, 'y': 0.7053567698891865}. Best is trial 149 with value: 0.0026389185181298733.\n",
      "[I 2024-09-19 15:26:48,339] Trial 166 finished with value: 12.109201556821704 and parameters: {'x': 1.0515260488455784, 'y': 0.7577624004160339}. Best is trial 149 with value: 0.0026389185181298733.\n",
      "[I 2024-09-19 15:26:48,349] Trial 167 finished with value: 2.9336484750460756 and parameters: {'x': 0.8617615934523041, 'y': 0.5719128454373499}. Best is trial 149 with value: 0.0026389185181298733.\n"
     ]
    },
    {
     "name": "stderr",
     "output_type": "stream",
     "text": [
      "[I 2024-09-19 15:26:48,357] Trial 168 finished with value: 13.846601575857092 and parameters: {'x': 0.7091796992255832, 'y': 0.8739078815122124}. Best is trial 149 with value: 0.0026389185181298733.\n",
      "[I 2024-09-19 15:26:48,366] Trial 169 finished with value: 9.857943358518742 and parameters: {'x': 1.0045268855911742, 'y': 0.6951009709694737}. Best is trial 149 with value: 0.0026389185181298733.\n",
      "[I 2024-09-19 15:26:48,374] Trial 170 finished with value: 1.8570185519330678 and parameters: {'x': 0.8251191819792943, 'y': 0.8159673359295898}. Best is trial 149 with value: 0.0026389185181298733.\n",
      "[I 2024-09-19 15:26:48,383] Trial 171 finished with value: 0.36276855415906 and parameters: {'x': 0.9228896241026721, 'y': 0.9114598834185812}. Best is trial 149 with value: 0.0026389185181298733.\n",
      "[I 2024-09-19 15:26:48,392] Trial 172 finished with value: 6.611468010365749 and parameters: {'x': 0.9375100216952176, 'y': 1.1359768451487717}. Best is trial 149 with value: 0.0026389185181298733.\n",
      "[I 2024-09-19 15:26:48,402] Trial 173 finished with value: 20.355615911096198 and parameters: {'x': 0.7488320228204, 'y': 1.0112217122934524}. Best is trial 149 with value: 0.0026389185181298733.\n",
      "[I 2024-09-19 15:26:48,411] Trial 174 finished with value: 28.185973669522934 and parameters: {'x': 0.5874184122268824, 'y': 0.8743594567974409}. Best is trial 149 with value: 0.0026389185181298733.\n",
      "[I 2024-09-19 15:26:48,420] Trial 175 finished with value: 39.22235398486648 and parameters: {'x': 1.1246431251001134, 'y': 0.6386686786383464}. Best is trial 149 with value: 0.0026389185181298733.\n",
      "[I 2024-09-19 15:26:48,429] Trial 176 finished with value: 2.847336726832671 and parameters: {'x': 0.8215440446851893, 'y': 0.5071403922233009}. Best is trial 149 with value: 0.0026389185181298733.\n",
      "[I 2024-09-19 15:26:48,438] Trial 177 finished with value: 5.141755853566379 and parameters: {'x': 1.0043653581959473, 'y': 0.7819957915835611}. Best is trial 149 with value: 0.0026389185181298733.\n",
      "[I 2024-09-19 15:26:48,447] Trial 178 finished with value: 25.667789598241438 and parameters: {'x': 0.648764409607673, 'y': 0.9263101695025537}. Best is trial 149 with value: 0.0026389185181298733.\n",
      "[I 2024-09-19 15:26:48,456] Trial 179 finished with value: 26.971549369958154 and parameters: {'x': 1.263375430562784, 'y': 1.0774443372310654}. Best is trial 149 with value: 0.0026389185181298733.\n",
      "[I 2024-09-19 15:26:48,464] Trial 180 finished with value: 1.9195245441369362 and parameters: {'x': 0.913106571236851, 'y': 0.6954894596999722}. Best is trial 149 with value: 0.0026389185181298733.\n",
      "[I 2024-09-19 15:26:48,473] Trial 181 finished with value: 3.4049576629117304 and parameters: {'x': 0.8885196662289092, 'y': 0.9736554107446361}. Best is trial 149 with value: 0.0026389185181298733.\n",
      "[I 2024-09-19 15:26:48,482] Trial 182 finished with value: 7.613230761071033 and parameters: {'x': 0.7791426189995692, 'y': 0.8820987235103078}. Best is trial 149 with value: 0.0026389185181298733.\n",
      "[I 2024-09-19 15:26:48,491] Trial 183 finished with value: 11.361947170958222 and parameters: {'x': 0.9601715368198669, 'y': 0.5848780358926753}. Best is trial 149 with value: 0.0026389185181298733.\n",
      "[I 2024-09-19 15:26:48,500] Trial 184 finished with value: 10.051247501041122 and parameters: {'x': 1.04647745767281, 'y': 0.7781121144316032}. Best is trial 149 with value: 0.0026389185181298733.\n",
      "[I 2024-09-19 15:26:48,510] Trial 185 finished with value: 20.537901492926384 and parameters: {'x': 0.6988207639589811, 'y': 0.9405361804001988}. Best is trial 149 with value: 0.0026389185181298733.\n",
      "[I 2024-09-19 15:26:48,519] Trial 186 finished with value: 1.508819778224543 and parameters: {'x': 0.837644584816932, 'y': 0.823404784903224}. Best is trial 149 with value: 0.0026389185181298733.\n",
      "[I 2024-09-19 15:26:48,527] Trial 187 finished with value: 4.807022957422362 and parameters: {'x': 0.5399556729232714, 'y': 0.5059205539750643}. Best is trial 149 with value: 0.0026389185181298733.\n",
      "[I 2024-09-19 15:26:48,538] Trial 188 finished with value: 3.7236382056411865 and parameters: {'x': 0.9155325976628136, 'y': 1.0309822878093824}. Best is trial 149 with value: 0.0026389185181298733.\n",
      "[I 2024-09-19 15:26:48,548] Trial 189 finished with value: 648.1425069649702 and parameters: {'x': 1.073550550003374, 'y': -1.393342899110399}. Best is trial 149 with value: 0.0026389185181298733.\n",
      "[I 2024-09-19 15:26:48,557] Trial 190 finished with value: 1.4649954043363786 and parameters: {'x': 0.7576683016584563, 'y': 0.6926475425855358}. Best is trial 149 with value: 0.0026389185181298733.\n",
      "[I 2024-09-19 15:26:48,566] Trial 191 finished with value: 3.06684545752683 and parameters: {'x': 0.8562656839509868, 'y': 0.9077241820647823}. Best is trial 149 with value: 0.0026389185181298733.\n",
      "[I 2024-09-19 15:26:48,575] Trial 192 finished with value: 12.194904805791323 and parameters: {'x': 0.641141695653936, 'y': 0.758425963894932}. Best is trial 149 with value: 0.0026389185181298733.\n",
      "[I 2024-09-19 15:26:48,583] Trial 193 finished with value: 22.16239545402036 and parameters: {'x': 0.9493753825981427, 'y': 0.4305713032625993}. Best is trial 149 with value: 0.0026389185181298733.\n",
      "[I 2024-09-19 15:26:48,593] Trial 194 finished with value: 0.2530879153840451 and parameters: {'x': 0.505261449898824, 'y': 0.24616680715792347}. Best is trial 149 with value: 0.0026389185181298733.\n",
      "[I 2024-09-19 15:26:48,602] Trial 195 finished with value: 3.8743962890570036 and parameters: {'x': 0.6912621477869962, 'y': 0.2834448686030242}. Best is trial 149 with value: 0.0026389185181298733.\n",
      "[I 2024-09-19 15:26:48,611] Trial 196 finished with value: 13.305305725009696 and parameters: {'x': 0.5079713020321146, 'y': 0.619465521486666}. Best is trial 149 with value: 0.0026389185181298733.\n",
      "[I 2024-09-19 15:26:48,620] Trial 197 finished with value: 0.5676307958176224 and parameters: {'x': 0.5632424231384251, 'y': 0.25585199424748073}. Best is trial 149 with value: 0.0026389185181298733.\n",
      "[I 2024-09-19 15:26:48,629] Trial 198 finished with value: 1.3081254429675484 and parameters: {'x': 0.6046337179535708, 'y': 0.2582594773615086}. Best is trial 149 with value: 0.0026389185181298733.\n",
      "[I 2024-09-19 15:26:48,637] Trial 199 finished with value: 0.28765984319371846 and parameters: {'x': 0.47102097686727673, 'y': 0.23071572325720718}. Best is trial 149 with value: 0.0026389185181298733.\n",
      "[I 2024-09-19 15:26:48,646] Trial 200 finished with value: 4.2930147888767625 and parameters: {'x': 0.7899710397783578, 'y': 0.4179255793852308}. Best is trial 149 with value: 0.0026389185181298733.\n",
      "[I 2024-09-19 15:26:48,655] Trial 201 finished with value: 5.663833517798504 and parameters: {'x': 0.6594024021306315, 'y': 0.19927327638987113}. Best is trial 149 with value: 0.0026389185181298733.\n",
      "[I 2024-09-19 15:26:48,664] Trial 202 finished with value: 0.36970300028054404 and parameters: {'x': 0.5078487379337648, 'y': 0.2936161014344274}. Best is trial 149 with value: 0.0026389185181298733.\n",
      "[I 2024-09-19 15:26:48,672] Trial 203 finished with value: 2.4122606013814454 and parameters: {'x': 0.4630886261241336, 'y': 0.3601901156445775}. Best is trial 149 with value: 0.0026389185181298733.\n",
      "[I 2024-09-19 15:26:48,680] Trial 204 finished with value: 0.20871283008775832 and parameters: {'x': 0.5495891644309523, 'y': 0.3096921421825415}. Best is trial 149 with value: 0.0026389185181298733.\n",
      "[I 2024-09-19 15:26:48,688] Trial 205 finished with value: 6.871706565706106 and parameters: {'x': 0.5011358855269336, 'y': 0.5084859888745064}. Best is trial 149 with value: 0.0026389185181298733.\n",
      "[I 2024-09-19 15:26:48,702] Trial 206 finished with value: 0.1910391774234211 and parameters: {'x': 0.5660549975183673, 'y': 0.3256440733050169}. Best is trial 149 with value: 0.0026389185181298733.\n",
      "[I 2024-09-19 15:26:48,713] Trial 207 finished with value: 0.46101232101161216 and parameters: {'x': 0.5832479706492948, 'y': 0.2865750174648566}. Best is trial 149 with value: 0.0026389185181298733.\n",
      "[I 2024-09-19 15:26:48,723] Trial 208 finished with value: 0.228440634493211 and parameters: {'x': 0.577141603319744, 'y': 0.3108143220032312}. Best is trial 149 with value: 0.0026389185181298733.\n",
      "[I 2024-09-19 15:26:48,733] Trial 209 finished with value: 0.32882594996994396 and parameters: {'x': 0.7131931578735478, 'y': 0.4589888880759166}. Best is trial 149 with value: 0.0026389185181298733.\n"
     ]
    },
    {
     "name": "stderr",
     "output_type": "stream",
     "text": [
      "[I 2024-09-19 15:26:48,741] Trial 210 finished with value: 0.19601769280998393 and parameters: {'x': 0.6839566991831225, 'y': 0.43679123059065217}. Best is trial 149 with value: 0.0026389185181298733.\n",
      "[I 2024-09-19 15:26:48,750] Trial 211 finished with value: 0.715752024198779 and parameters: {'x': 0.7327892361370097, 'y': 0.45670862310911636}. Best is trial 149 with value: 0.0026389185181298733.\n",
      "[I 2024-09-19 15:26:48,759] Trial 212 finished with value: 0.18850183063184853 and parameters: {'x': 0.6092536062009778, 'y': 0.3522640256838936}. Best is trial 149 with value: 0.0026389185181298733.\n",
      "[I 2024-09-19 15:26:48,768] Trial 213 finished with value: 0.2013934796361042 and parameters: {'x': 0.6285081953665359, 'y': 0.4201993899524008}. Best is trial 149 with value: 0.0026389185181298733.\n",
      "[I 2024-09-19 15:26:48,776] Trial 214 finished with value: 0.20667795818166057 and parameters: {'x': 0.6264818609196277, 'y': 0.4183951848851018}. Best is trial 149 with value: 0.0026389185181298733.\n",
      "[I 2024-09-19 15:26:48,785] Trial 215 finished with value: 0.19123718581891838 and parameters: {'x': 0.6049909309444559, 'y': 0.3472510253837532}. Best is trial 149 with value: 0.0026389185181298733.\n",
      "[I 2024-09-19 15:26:48,793] Trial 216 finished with value: 0.17506468311323772 and parameters: {'x': 0.5845402124503127, 'y': 0.3466449288212353}. Best is trial 149 with value: 0.0026389185181298733.\n",
      "[I 2024-09-19 15:26:48,802] Trial 217 finished with value: 0.36647086928934847 and parameters: {'x': 0.5669783197933478, 'y': 0.36376844491904764}. Best is trial 149 with value: 0.0026389185181298733.\n",
      "[I 2024-09-19 15:26:48,810] Trial 218 finished with value: 0.2453779898791527 and parameters: {'x': 0.6318579229430701, 'y': 0.3661008983150949}. Best is trial 149 with value: 0.0026389185181298733.\n",
      "[I 2024-09-19 15:26:48,819] Trial 219 finished with value: 0.16185803061744908 and parameters: {'x': 0.6174857986605048, 'y': 0.3688223903614793}. Best is trial 149 with value: 0.0026389185181298733.\n",
      "[I 2024-09-19 15:26:48,828] Trial 220 finished with value: 1.8038456244918304 and parameters: {'x': 0.6431222741060734, 'y': 0.5430853663857531}. Best is trial 149 with value: 0.0026389185181298733.\n",
      "[I 2024-09-19 15:26:48,837] Trial 221 finished with value: 0.4932092908828296 and parameters: {'x': 0.577843005237872, 'y': 0.39002675474641374}. Best is trial 149 with value: 0.0026389185181298733.\n",
      "[I 2024-09-19 15:26:48,845] Trial 222 finished with value: 1.9191239670355509 and parameters: {'x': 0.6967702343760024, 'y': 0.3503156972449698}. Best is trial 149 with value: 0.0026389185181298733.\n",
      "[I 2024-09-19 15:26:48,854] Trial 223 finished with value: 7.49538909660386 and parameters: {'x': 0.7902390617192914, 'y': 0.35150544190457106}. Best is trial 149 with value: 0.0026389185181298733.\n",
      "[I 2024-09-19 15:26:48,863] Trial 224 finished with value: 1.5249455817129283 and parameters: {'x': 0.7507921532846842, 'y': 0.44274089214098616}. Best is trial 149 with value: 0.0026389185181298733.\n",
      "[I 2024-09-19 15:26:48,871] Trial 225 finished with value: 3.613355712826336 and parameters: {'x': 0.629069179635906, 'y': 0.5821620972337674}. Best is trial 149 with value: 0.0026389185181298733.\n",
      "[I 2024-09-19 15:26:48,880] Trial 226 finished with value: 2.552043099401547 and parameters: {'x': 0.5793236082956961, 'y': 0.4897286094028015}. Best is trial 149 with value: 0.0026389185181298733.\n",
      "[I 2024-09-19 15:26:48,890] Trial 227 finished with value: 1.6879455623972317 and parameters: {'x': 0.665014925714823, 'y': 0.3167167445149834}. Best is trial 149 with value: 0.0026389185181298733.\n",
      "[I 2024-09-19 15:26:48,899] Trial 228 finished with value: 0.08423070563608913 and parameters: {'x': 0.730171949578908, 'y': 0.5224629849894689}. Best is trial 149 with value: 0.0026389185181298733.\n",
      "[I 2024-09-19 15:26:48,908] Trial 229 finished with value: 0.8562146081480939 and parameters: {'x': 0.8160846281397117, 'y': 0.5753084133558102}. Best is trial 149 with value: 0.0026389185181298733.\n",
      "[I 2024-09-19 15:26:48,917] Trial 230 finished with value: 0.652701111987201 and parameters: {'x': 0.7109622273602925, 'y': 0.4300247093780333}. Best is trial 149 with value: 0.0026389185181298733.\n",
      "[I 2024-09-19 15:26:48,927] Trial 231 finished with value: 0.8856193606319853 and parameters: {'x': 0.5301982575071854, 'y': 0.362651941287251}. Best is trial 149 with value: 0.0026389185181298733.\n",
      "[I 2024-09-19 15:26:48,935] Trial 232 finished with value: 1.6166607039018273 and parameters: {'x': 0.6349487412087071, 'y': 0.524954743030387}. Best is trial 149 with value: 0.0026389185181298733.\n",
      "[I 2024-09-19 15:26:48,944] Trial 233 finished with value: 5.083531114447802 and parameters: {'x': 0.8066573159758637, 'y': 0.4260596587938533}. Best is trial 149 with value: 0.0026389185181298733.\n",
      "[I 2024-09-19 15:26:48,953] Trial 234 finished with value: 5.4263479562902965 and parameters: {'x': 0.7272913705811294, 'y': 0.2976093142204648}. Best is trial 149 with value: 0.0026389185181298733.\n",
      "[I 2024-09-19 15:26:48,962] Trial 235 finished with value: 21.4785158459938 and parameters: {'x': 0.42909713511831393, 'y': 0.6440437547937329}. Best is trial 149 with value: 0.0026389185181298733.\n",
      "[I 2024-09-19 15:26:48,971] Trial 236 finished with value: 0.9015401272103174 and parameters: {'x': 0.6295800998438829, 'y': 0.48379702646562783}. Best is trial 149 with value: 0.0026389185181298733.\n",
      "[I 2024-09-19 15:26:48,981] Trial 237 finished with value: 11.264680201475382 and parameters: {'x': 0.8422190107518126, 'y': 0.3740749708759356}. Best is trial 149 with value: 0.0026389185181298733.\n",
      "[I 2024-09-19 15:26:48,991] Trial 238 finished with value: 5.942686787893748 and parameters: {'x': 0.5405097229793049, 'y': 0.5315574329151411}. Best is trial 149 with value: 0.0026389185181298733.\n",
      "[I 2024-09-19 15:26:49,001] Trial 239 finished with value: 5.1044250626671746 and parameters: {'x': 0.7254178367044806, 'y': 0.30197605574022307}. Best is trial 149 with value: 0.0026389185181298733.\n",
      "[I 2024-09-19 15:26:49,011] Trial 240 finished with value: 2.030874279335347 and parameters: {'x': 0.6040906042867396, 'y': 0.22802658931997388}. Best is trial 149 with value: 0.0026389185181298733.\n",
      "[I 2024-09-19 15:26:49,021] Trial 241 finished with value: 0.33817310128672723 and parameters: {'x': 0.43829400078327385, 'y': 0.20715469450873236}. Best is trial 149 with value: 0.0026389185181298733.\n",
      "[I 2024-09-19 15:26:49,032] Trial 242 finished with value: 1.4889418557957081 and parameters: {'x': 0.5263749769295871, 'y': 0.3895259938576539}. Best is trial 149 with value: 0.0026389185181298733.\n",
      "[I 2024-09-19 15:26:49,041] Trial 243 finished with value: 2.203150432359322 and parameters: {'x': 0.6768584653168674, 'y': 0.3132674410577274}. Best is trial 149 with value: 0.0026389185181298733.\n",
      "[I 2024-09-19 15:26:49,052] Trial 244 finished with value: 2.7402521152851236 and parameters: {'x': 0.7772757762326166, 'y': 0.4401257440940393}. Best is trial 149 with value: 0.0026389185181298733.\n",
      "[I 2024-09-19 15:26:49,061] Trial 245 finished with value: 11.103650122164696 and parameters: {'x': 0.5801925182806256, 'y': 0.6671897177256881}. Best is trial 149 with value: 0.0026389185181298733.\n",
      "[I 2024-09-19 15:26:49,070] Trial 246 finished with value: 0.337856212755627 and parameters: {'x': 0.49144843994384324, 'y': 0.2696696638225373}. Best is trial 149 with value: 0.0026389185181298733.\n",
      "[I 2024-09-19 15:26:49,080] Trial 247 finished with value: 27.967410959537514 and parameters: {'x': 0.8389222552631767, 'y': 0.17519368205664076}. Best is trial 149 with value: 0.0026389185181298733.\n",
      "[I 2024-09-19 15:26:49,088] Trial 248 finished with value: 527.2578057068248 and parameters: {'x': -1.6327821013278374, 'y': 0.3849112710027498}. Best is trial 149 with value: 0.0026389185181298733.\n",
      "[I 2024-09-19 15:26:49,098] Trial 249 finished with value: 1.4153148000020646 and parameters: {'x': 0.6823530739375282, 'y': 0.5802536669208309}. Best is trial 149 with value: 0.0026389185181298733.\n",
      "[I 2024-09-19 15:26:49,108] Trial 250 finished with value: 10.340561313336437 and parameters: {'x': 0.3990940313237657, 'y': 0.475179089985438}. Best is trial 149 with value: 0.0026389185181298733.\n",
      "[I 2024-09-19 15:26:49,118] Trial 251 finished with value: 12.592451654189976 and parameters: {'x': 0.610455923235255, 'y': 0.7253702993565184}. Best is trial 149 with value: 0.0026389185181298733.\n"
     ]
    },
    {
     "name": "stderr",
     "output_type": "stream",
     "text": [
      "[I 2024-09-19 15:26:49,128] Trial 252 finished with value: 6.84275961967242 and parameters: {'x': 0.7672369653812124, 'y': 0.32810350636884344}. Best is trial 149 with value: 0.0026389185181298733.\n",
      "[I 2024-09-19 15:26:49,137] Trial 253 finished with value: 30.2159336060276 and parameters: {'x': 0.8872905472836998, 'y': 0.2377098599036192}. Best is trial 149 with value: 0.0026389185181298733.\n",
      "[I 2024-09-19 15:26:49,148] Trial 254 finished with value: 35.259656104446265 and parameters: {'x': 1.0069497267741983, 'y': 0.42014974109074316}. Best is trial 149 with value: 0.0026389185181298733.\n",
      "[I 2024-09-19 15:26:49,157] Trial 255 finished with value: 6.2466867671510515 and parameters: {'x': 0.5262259927825599, 'y': 0.5223160154625366}. Best is trial 149 with value: 0.0026389185181298733.\n",
      "[I 2024-09-19 15:26:49,168] Trial 256 finished with value: 1.9533524906909236 and parameters: {'x': 0.6959591911773035, 'y': 0.6207744323694309}. Best is trial 149 with value: 0.0026389185181298733.\n",
      "[I 2024-09-19 15:26:49,178] Trial 257 finished with value: 0.4178463563000574 and parameters: {'x': 0.6192012465791674, 'y': 0.3311762230027563}. Best is trial 149 with value: 0.0026389185181298733.\n",
      "[I 2024-09-19 15:26:49,188] Trial 258 finished with value: 0.4850708879306223 and parameters: {'x': 0.8443939083589485, 'y': 0.7808875683454728}. Best is trial 149 with value: 0.0026389185181298733.\n",
      "[I 2024-09-19 15:26:49,198] Trial 259 finished with value: 7.932521704297663 and parameters: {'x': 0.473585654599669, 'y': 0.5009674816752567}. Best is trial 149 with value: 0.0026389185181298733.\n",
      "[I 2024-09-19 15:26:49,207] Trial 260 finished with value: 17.783501705387646 and parameters: {'x': 0.7619685282806059, 'y': 0.1595634654326191}. Best is trial 149 with value: 0.0026389185181298733.\n",
      "[I 2024-09-19 15:26:49,216] Trial 261 finished with value: 0.18003913498640978 and parameters: {'x': 0.6574463132662175, 'y': 0.40719646420713496}. Best is trial 149 with value: 0.0026389185181298733.\n",
      "[I 2024-09-19 15:26:49,225] Trial 262 finished with value: 0.8083757796973878 and parameters: {'x': 0.685142472686984, 'y': 0.38520378921962983}. Best is trial 149 with value: 0.0026389185181298733.\n",
      "[I 2024-09-19 15:26:49,234] Trial 263 finished with value: 1.8249719817334054 and parameters: {'x': 0.7734654676604129, 'y': 0.4650702244973306}. Best is trial 149 with value: 0.0026389185181298733.\n",
      "[I 2024-09-19 15:26:49,243] Trial 264 finished with value: 4.406682857371932 and parameters: {'x': 0.5941049799434279, 'y': 0.5589202399640574}. Best is trial 149 with value: 0.0026389185181298733.\n",
      "[I 2024-09-19 15:26:49,251] Trial 265 finished with value: 2.0200798728597196 and parameters: {'x': 0.8829973103114626, 'y': 0.6380371447356878}. Best is trial 149 with value: 0.0026389185181298733.\n",
      "[I 2024-09-19 15:26:49,261] Trial 266 finished with value: 33.21809836951927 and parameters: {'x': 1.0001368646750686, 'y': 0.42392230711235596}. Best is trial 149 with value: 0.0026389185181298733.\n",
      "[I 2024-09-19 15:26:49,271] Trial 267 finished with value: 13.327744558885048 and parameters: {'x': 0.6822140582170682, 'y': 0.8291021036419826}. Best is trial 149 with value: 0.0026389185181298733.\n",
      "[I 2024-09-19 15:26:49,280] Trial 268 finished with value: 0.09652586408201906 and parameters: {'x': 0.8232466040599067, 'y': 0.7032857247260842}. Best is trial 149 with value: 0.0026389185181298733.\n",
      "[I 2024-09-19 15:26:49,291] Trial 269 finished with value: 0.1467787089260197 and parameters: {'x': 0.8408562717788128, 'y': 0.7418892314387939}. Best is trial 149 with value: 0.0026389185181298733.\n",
      "[I 2024-09-19 15:26:49,301] Trial 270 finished with value: 0.2751430242336588 and parameters: {'x': 0.9635807423719991, 'y': 0.9808153409818331}. Best is trial 149 with value: 0.0026389185181298733.\n",
      "[I 2024-09-19 15:26:49,310] Trial 271 finished with value: 0.5204969547718101 and parameters: {'x': 0.844319454467515, 'y': 0.7833211020665236}. Best is trial 149 with value: 0.0026389185181298733.\n",
      "[I 2024-09-19 15:26:49,319] Trial 272 finished with value: 1035.7821185753758 and parameters: {'x': -1.9813967234198486, 'y': 0.7214152393930799}. Best is trial 149 with value: 0.0026389185181298733.\n",
      "[I 2024-09-19 15:26:49,328] Trial 273 finished with value: 0.27333596464292 and parameters: {'x': 0.8857903783566503, 'y': 0.7336057618891494}. Best is trial 149 with value: 0.0026389185181298733.\n",
      "[I 2024-09-19 15:26:49,338] Trial 274 finished with value: 0.14707905586915226 and parameters: {'x': 0.7998723086824024, 'y': 0.6725108386602193}. Best is trial 149 with value: 0.0026389185181298733.\n",
      "[I 2024-09-19 15:26:49,348] Trial 275 finished with value: 18.034000200912175 and parameters: {'x': 1.0500193008224559, 'y': 0.6779054149643036}. Best is trial 149 with value: 0.0026389185181298733.\n",
      "[I 2024-09-19 15:26:49,358] Trial 276 finished with value: 0.209125800852927 and parameters: {'x': 0.8127688511664442, 'y': 0.6188714727491471}. Best is trial 149 with value: 0.0026389185181298733.\n",
      "[I 2024-09-19 15:26:49,367] Trial 277 finished with value: 0.2960770812680913 and parameters: {'x': 0.9302870117624448, 'y': 0.8114693821415934}. Best is trial 149 with value: 0.0026389185181298733.\n",
      "[I 2024-09-19 15:26:49,376] Trial 278 finished with value: 1.0340259734556878 and parameters: {'x': 0.7582385048238894, 'y': 0.6736969495623455}. Best is trial 149 with value: 0.0026389185181298733.\n",
      "[I 2024-09-19 15:26:49,385] Trial 279 finished with value: 1.4919420378166106 and parameters: {'x': 0.8326163568863035, 'y': 0.5722572395484121}. Best is trial 149 with value: 0.0026389185181298733.\n",
      "[I 2024-09-19 15:26:49,394] Trial 280 finished with value: 3.284680070402449 and parameters: {'x': 0.9702206424443265, 'y': 0.7601156986426592}. Best is trial 149 with value: 0.0026389185181298733.\n",
      "[I 2024-09-19 15:26:49,403] Trial 281 finished with value: 0.2709352480037364 and parameters: {'x': 0.7743591573992427, 'y': 0.5527256596586868}. Best is trial 149 with value: 0.0026389185181298733.\n",
      "[I 2024-09-19 15:26:49,413] Trial 282 finished with value: 0.4527013479797091 and parameters: {'x': 0.8838347424187165, 'y': 0.8474365446923612}. Best is trial 149 with value: 0.0026389185181298733.\n",
      "[I 2024-09-19 15:26:49,422] Trial 283 finished with value: 42.45378708481571 and parameters: {'x': 1.139321157920475, 'y': 0.6466359625389655}. Best is trial 149 with value: 0.0026389185181298733.\n",
      "[I 2024-09-19 15:26:49,431] Trial 284 finished with value: 56.35521621926868 and parameters: {'x': -1.2025011967117192, 'y': 0.7283448284532912}. Best is trial 149 with value: 0.0026389185181298733.\n",
      "[I 2024-09-19 15:26:49,440] Trial 285 finished with value: 7.311663598773456 and parameters: {'x': 0.776609692667712, 'y': 0.8725991511890298}. Best is trial 149 with value: 0.0026389185181298733.\n",
      "[I 2024-09-19 15:26:49,449] Trial 286 finished with value: 17.70910480283445 and parameters: {'x': 0.7211601064841842, 'y': 0.9399689474784843}. Best is trial 149 with value: 0.0026389185181298733.\n",
      "[I 2024-09-19 15:26:49,459] Trial 287 finished with value: 27.391193097562006 and parameters: {'x': 1.0382522190246795, 'y': 0.5546156867909143}. Best is trial 149 with value: 0.0026389185181298733.\n",
      "[I 2024-09-19 15:26:49,468] Trial 288 finished with value: 7.645189964229079 and parameters: {'x': 0.875393587584332, 'y': 0.49009548328923236}. Best is trial 149 with value: 0.0026389185181298733.\n",
      "[I 2024-09-19 15:26:49,478] Trial 289 finished with value: 31.266520953782884 and parameters: {'x': 0.6970388484984854, 'y': 1.0442065586632858}. Best is trial 149 with value: 0.0026389185181298733.\n",
      "[I 2024-09-19 15:26:49,492] Trial 290 finished with value: 0.017311309850498474 and parameters: {'x': 0.9153508535797815, 'y': 0.8277945331345828}. Best is trial 149 with value: 0.0026389185181298733.\n",
      "[I 2024-09-19 15:26:49,504] Trial 291 finished with value: 0.37898352463775975 and parameters: {'x': 0.9389148595409647, 'y': 0.8203032870074406}. Best is trial 149 with value: 0.0026389185181298733.\n",
      "[I 2024-09-19 15:26:49,515] Trial 292 finished with value: 4.75414769459716 and parameters: {'x': 0.9977355354362366, 'y': 0.7774362352068773}. Best is trial 149 with value: 0.0026389185181298733.\n",
      "[I 2024-09-19 15:26:49,530] Trial 293 finished with value: 0.04476297929671334 and parameters: {'x': 0.825098510704245, 'y': 0.6688827431117634}. Best is trial 149 with value: 0.0026389185181298733.\n"
     ]
    },
    {
     "name": "stderr",
     "output_type": "stream",
     "text": [
      "[I 2024-09-19 15:26:49,549] Trial 294 finished with value: 23.511412445036267 and parameters: {'x': 1.0853320457539894, 'y': 0.6931350588249109}. Best is trial 149 with value: 0.0026389185181298733.\n",
      "[I 2024-09-19 15:26:49,561] Trial 295 finished with value: 1.0875126875609875 and parameters: {'x': 0.8699740788020325, 'y': 0.8603249875418086}. Best is trial 149 with value: 0.0026389185181298733.\n",
      "[I 2024-09-19 15:26:49,574] Trial 296 finished with value: 8.862101852117386 and parameters: {'x': 0.8210457193504743, 'y': 0.9712705317117745}. Best is trial 149 with value: 0.0026389185181298733.\n",
      "[I 2024-09-19 15:26:49,586] Trial 297 finished with value: 2.612008303148239 and parameters: {'x': 0.9226586316641162, 'y': 0.6898670263594988}. Best is trial 149 with value: 0.0026389185181298733.\n",
      "[I 2024-09-19 15:26:49,597] Trial 298 finished with value: 0.04856326900440547 and parameters: {'x': 0.7796414748415081, 'y': 0.6076086786010383}. Best is trial 149 with value: 0.0026389185181298733.\n",
      "[I 2024-09-19 15:26:49,609] Trial 299 finished with value: 0.046854885250235456 and parameters: {'x': 0.8153310183916923, 'y': 0.653472082389258}. Best is trial 149 with value: 0.0026389185181298733.\n",
      "[I 2024-09-19 15:26:49,621] Trial 300 finished with value: 9.64077572326685 and parameters: {'x': 0.9595426201612033, 'y': 0.6102524129906742}. Best is trial 149 with value: 0.0026389185181298733.\n",
      "[I 2024-09-19 15:26:49,632] Trial 301 finished with value: 0.18070483982309843 and parameters: {'x': 0.7736966684667977, 'y': 0.6345914819217842}. Best is trial 149 with value: 0.0026389185181298733.\n",
      "[I 2024-09-19 15:26:49,643] Trial 302 finished with value: 59.225914912593765 and parameters: {'x': 1.1915176838607546, 'y': 0.6503689815991898}. Best is trial 149 with value: 0.0026389185181298733.\n",
      "[I 2024-09-19 15:26:49,654] Trial 303 finished with value: 2.182544171174091 and parameters: {'x': 0.7830798363230725, 'y': 0.7593471821385356}. Best is trial 149 with value: 0.0026389185181298733.\n",
      "[I 2024-09-19 15:26:49,664] Trial 304 finished with value: 4.284540034968088 and parameters: {'x': 0.909747803393533, 'y': 0.6208466128562735}. Best is trial 149 with value: 0.0026389185181298733.\n",
      "[I 2024-09-19 15:26:49,675] Trial 305 finished with value: 1.3101824276345109 and parameters: {'x': 0.8443334162583355, 'y': 0.8262986683543202}. Best is trial 149 with value: 0.0026389185181298733.\n",
      "[I 2024-09-19 15:26:49,686] Trial 306 finished with value: 11.452726012953505 and parameters: {'x': 1.0196412554694358, 'y': 0.7012552251837666}. Best is trial 149 with value: 0.0026389185181298733.\n",
      "[I 2024-09-19 15:26:49,698] Trial 307 finished with value: 9.920193640882577 and parameters: {'x': 0.7588563421595902, 'y': 0.8899018529053718}. Best is trial 149 with value: 0.0026389185181298733.\n",
      "[I 2024-09-19 15:26:49,709] Trial 308 finished with value: 0.9337572781579456 and parameters: {'x': 0.8425342918898923, 'y': 0.6145245433470246}. Best is trial 149 with value: 0.0026389185181298733.\n",
      "[I 2024-09-19 15:26:49,719] Trial 309 finished with value: 13.680682808211538 and parameters: {'x': 0.9624562338985659, 'y': 0.5564669863351077}. Best is trial 149 with value: 0.0026389185181298733.\n",
      "[I 2024-09-19 15:26:49,731] Trial 310 finished with value: 4.877083043602354 and parameters: {'x': 0.7374729097064968, 'y': 0.7631415207566258}. Best is trial 149 with value: 0.0026389185181298733.\n",
      "[I 2024-09-19 15:26:49,742] Trial 311 finished with value: 6.457836328121317 and parameters: {'x': 1.1106653215871907, 'y': 0.9796958007853513}. Best is trial 149 with value: 0.0026389185181298733.\n",
      "[I 2024-09-19 15:26:49,753] Trial 312 finished with value: 1.2722630126480947 and parameters: {'x': 0.907821588144258, 'y': 0.7117226816783897}. Best is trial 149 with value: 0.0026389185181298733.\n",
      "[I 2024-09-19 15:26:49,764] Trial 313 finished with value: 3.7264285860357806 and parameters: {'x': 0.7993749327928225, 'y': 0.83099450622718}. Best is trial 149 with value: 0.0026389185181298733.\n",
      "[I 2024-09-19 15:26:49,775] Trial 314 finished with value: 13.24253519539779 and parameters: {'x': 0.7437242371580733, 'y': 0.9161251614424738}. Best is trial 149 with value: 0.0026389185181298733.\n",
      "[I 2024-09-19 15:26:49,787] Trial 315 finished with value: 2.7698652124523937 and parameters: {'x': 0.873176362064776, 'y': 0.5964917581535717}. Best is trial 149 with value: 0.0026389185181298733.\n",
      "[I 2024-09-19 15:26:49,798] Trial 316 finished with value: 0.1538516182544241 and parameters: {'x': 1.0214472942899075, 'y': 1.0825198187650296}. Best is trial 149 with value: 0.0026389185181298733.\n",
      "[I 2024-09-19 15:26:49,809] Trial 317 finished with value: 0.6046936510323254 and parameters: {'x': 1.0435464830501566, 'y': 1.1666292877143662}. Best is trial 149 with value: 0.0026389185181298733.\n",
      "[I 2024-09-19 15:26:49,821] Trial 318 finished with value: 1.681079656397619 and parameters: {'x': 0.9836219968382335, 'y': 1.0971583439597472}. Best is trial 149 with value: 0.0026389185181298733.\n",
      "[I 2024-09-19 15:26:49,832] Trial 319 finished with value: 2.9813421354548684 and parameters: {'x': 1.1161613448153203, 'y': 1.073541695769202}. Best is trial 149 with value: 0.0026389185181298733.\n",
      "[I 2024-09-19 15:26:49,843] Trial 320 finished with value: 0.8248742414033351 and parameters: {'x': 0.9374871207609659, 'y': 0.9694892967447586}. Best is trial 149 with value: 0.0026389185181298733.\n",
      "[I 2024-09-19 15:26:49,854] Trial 321 finished with value: 5.371634826856823 and parameters: {'x': 1.02634713565952, 'y': 1.2851413426490683}. Best is trial 149 with value: 0.0026389185181298733.\n",
      "[I 2024-09-19 15:26:49,865] Trial 322 finished with value: 0.08640318750655099 and parameters: {'x': 0.7095899389773904, 'y': 0.49897345198104986}. Best is trial 149 with value: 0.0026389185181298733.\n",
      "[I 2024-09-19 15:26:49,876] Trial 323 finished with value: 0.07886768369333329 and parameters: {'x': 0.7209771472625859, 'y': 0.5229922757354035}. Best is trial 149 with value: 0.0026389185181298733.\n",
      "[I 2024-09-19 15:26:49,886] Trial 324 finished with value: 2.190877167269666 and parameters: {'x': 0.8288979811774392, 'y': 0.5400480125354394}. Best is trial 149 with value: 0.0026389185181298733.\n",
      "[I 2024-09-19 15:26:49,896] Trial 325 finished with value: 0.2064349635842515 and parameters: {'x': 0.6909071771886972, 'y': 0.51065386718168}. Best is trial 149 with value: 0.0026389185181298733.\n",
      "[I 2024-09-19 15:26:49,906] Trial 326 finished with value: 3.6217645245533188 and parameters: {'x': 0.9030436947101591, 'y': 0.6254257142260445}. Best is trial 149 with value: 0.0026389185181298733.\n",
      "[I 2024-09-19 15:26:49,917] Trial 327 finished with value: 4.972984705198051 and parameters: {'x': 0.7492594299698114, 'y': 0.782977460925213}. Best is trial 149 with value: 0.0026389185181298733.\n",
      "[I 2024-09-19 15:26:49,927] Trial 328 finished with value: 13.323168444520004 and parameters: {'x': 0.8090293593293617, 'y': 1.019037745002868}. Best is trial 149 with value: 0.0026389185181298733.\n",
      "[I 2024-09-19 15:26:49,939] Trial 329 finished with value: 66.28210623721972 and parameters: {'x': 1.2181661326198214, 'y': 0.6700828581106603}. Best is trial 149 with value: 0.0026389185181298733.\n",
      "[I 2024-09-19 15:26:49,951] Trial 330 finished with value: 0.7485362608263049 and parameters: {'x': 0.981516067939307, 'y': 0.8768755485725648}. Best is trial 149 with value: 0.0026389185181298733.\n",
      "[I 2024-09-19 15:26:49,962] Trial 331 finished with value: 0.28781740214508666 and parameters: {'x': 0.7113048966649004, 'y': 0.5511732959211051}. Best is trial 149 with value: 0.0026389185181298733.\n",
      "[I 2024-09-19 15:26:49,975] Trial 332 finished with value: 274.04258527445 and parameters: {'x': 0.8756127858361304, 'y': -0.8886786810788185}. Best is trial 149 with value: 0.0026389185181298733.\n",
      "[I 2024-09-19 15:26:49,987] Trial 333 finished with value: 1.346865249209081 and parameters: {'x': 0.7728850329509565, 'y': 0.7111618202856693}. Best is trial 149 with value: 0.0026389185181298733.\n",
      "[I 2024-09-19 15:26:50,000] Trial 334 finished with value: 0.32858435066832065 and parameters: {'x': 1.0802949631754108, 'y': 1.1102800872430232}. Best is trial 149 with value: 0.0026389185181298733.\n",
      "[I 2024-09-19 15:26:50,012] Trial 335 finished with value: 12.197685541856757 and parameters: {'x': 0.922484453511824, 'y': 0.5018117484562318}. Best is trial 149 with value: 0.0026389185181298733.\n"
     ]
    },
    {
     "name": "stderr",
     "output_type": "stream",
     "text": [
      "[I 2024-09-19 15:26:50,023] Trial 336 finished with value: 1.9057999650356097 and parameters: {'x': 0.684161088989445, 'y': 0.6024655971629103}. Best is trial 149 with value: 0.0026389185181298733.\n",
      "[I 2024-09-19 15:26:50,035] Trial 337 finished with value: 4.156541001338989 and parameters: {'x': 0.8403202506201373, 'y': 0.909387806971711}. Best is trial 149 with value: 0.0026389185181298733.\n",
      "[I 2024-09-19 15:26:50,046] Trial 338 finished with value: 3.847607341838333 and parameters: {'x': 0.9917091129351926, 'y': 0.7873355282060156}. Best is trial 149 with value: 0.0026389185181298733.\n",
      "[I 2024-09-19 15:26:50,059] Trial 339 finished with value: 0.23069258014847177 and parameters: {'x': 0.7854143456355815, 'y': 0.6598461000868597}. Best is trial 149 with value: 0.0026389185181298733.\n",
      "[I 2024-09-19 15:26:50,070] Trial 340 finished with value: 10.895391247832249 and parameters: {'x': 0.7000069285160836, 'y': 0.8187253126951666}. Best is trial 149 with value: 0.0026389185181298733.\n",
      "[I 2024-09-19 15:26:50,082] Trial 341 finished with value: 9.841394592632215 and parameters: {'x': 0.9000354828780404, 'y': 0.4965132096532671}. Best is trial 149 with value: 0.0026389185181298733.\n",
      "[I 2024-09-19 15:26:50,093] Trial 342 finished with value: 10.062091218068872 and parameters: {'x': 0.8435311553122828, 'y': 1.0283666640063245}. Best is trial 149 with value: 0.0026389185181298733.\n",
      "[I 2024-09-19 15:26:50,103] Trial 343 finished with value: 30.428145124767372 and parameters: {'x': 1.062359234749549, 'y': 0.5770252689499225}. Best is trial 149 with value: 0.0026389185181298733.\n",
      "[I 2024-09-19 15:26:50,114] Trial 344 finished with value: 124.50431555461886 and parameters: {'x': 1.3615257291276306, 'y': 0.7385231207223748}. Best is trial 149 with value: 0.0026389185181298733.\n",
      "[I 2024-09-19 15:26:50,124] Trial 345 finished with value: 11.745481659870437 and parameters: {'x': 0.7447538700769016, 'y': 0.896423320418801}. Best is trial 149 with value: 0.0026389185181298733.\n",
      "[I 2024-09-19 15:26:50,134] Trial 346 finished with value: 56.33207063940594 and parameters: {'x': 0.659244899995729, 'y': 1.1843768478288155}. Best is trial 149 with value: 0.0026389185181298733.\n",
      "[I 2024-09-19 15:26:50,144] Trial 347 finished with value: 7.142900774952689 and parameters: {'x': 0.9520939029463718, 'y': 0.6392636805616675}. Best is trial 149 with value: 0.0026389185181298733.\n",
      "[I 2024-09-19 15:26:50,155] Trial 348 finished with value: 3.3609328677121355 and parameters: {'x': 0.8238337917770238, 'y': 0.49622202619555045}. Best is trial 149 with value: 0.0026389185181298733.\n",
      "[I 2024-09-19 15:26:50,165] Trial 349 finished with value: 8.832534341459446 and parameters: {'x': 0.734701209421793, 'y': 0.8357951726075681}. Best is trial 149 with value: 0.0026389185181298733.\n",
      "[I 2024-09-19 15:26:50,175] Trial 350 finished with value: 7.027732680189187 and parameters: {'x': 0.9173394965678292, 'y': 0.5765419438462136}. Best is trial 149 with value: 0.0026389185181298733.\n",
      "[I 2024-09-19 15:26:50,185] Trial 351 finished with value: 9.519865503067868 and parameters: {'x': 0.6423486599844761, 'y': 0.7190747028505049}. Best is trial 149 with value: 0.0026389185181298733.\n",
      "[I 2024-09-19 15:26:50,195] Trial 352 finished with value: 31.14613138569177 and parameters: {'x': 1.013958869234115, 'y': 0.47002714221219277}. Best is trial 149 with value: 0.0026389185181298733.\n",
      "[I 2024-09-19 15:26:50,204] Trial 353 finished with value: 9.13630147565773 and parameters: {'x': 0.8140039341398657, 'y': 0.9642927582893249}. Best is trial 149 with value: 0.0026389185181298733.\n",
      "[I 2024-09-19 15:26:50,214] Trial 354 finished with value: 26.38982309574248 and parameters: {'x': 1.1241520355828596, 'y': 0.7501575848380243}. Best is trial 149 with value: 0.0026389185181298733.\n",
      "[I 2024-09-19 15:26:50,224] Trial 355 finished with value: 2.486488075497348 and parameters: {'x': 0.8802040298649314, 'y': 0.6175288253744882}. Best is trial 149 with value: 0.0026389185181298733.\n",
      "[I 2024-09-19 15:26:50,233] Trial 356 finished with value: 8.472847046483059 and parameters: {'x': 0.7395001929296068, 'y': 0.8367740896483314}. Best is trial 149 with value: 0.0026389185181298733.\n",
      "[I 2024-09-19 15:26:50,243] Trial 357 finished with value: 7.405034439860041 and parameters: {'x': 0.6517637615448362, 'y': 0.6946805310252647}. Best is trial 149 with value: 0.0026389185181298733.\n",
      "[I 2024-09-19 15:26:50,253] Trial 358 finished with value: 15.368208016746133 and parameters: {'x': 0.9629081847180452, 'y': 0.5351866593022814}. Best is trial 149 with value: 0.0026389185181298733.\n",
      "[I 2024-09-19 15:26:50,262] Trial 359 finished with value: 4.27927443322845 and parameters: {'x': 0.8162124488178317, 'y': 0.4601567335129592}. Best is trial 149 with value: 0.0026389185181298733.\n",
      "[I 2024-09-19 15:26:50,272] Trial 360 finished with value: 2.260954004922872 and parameters: {'x': 0.8846275567980203, 'y': 0.9324873338058984}. Best is trial 149 with value: 0.0026389185181298733.\n",
      "[I 2024-09-19 15:26:50,282] Trial 361 finished with value: 199.57402283185036 and parameters: {'x': 1.4382116213342608, 'y': 0.6564257791627419}. Best is trial 149 with value: 0.0026389185181298733.\n",
      "[I 2024-09-19 15:26:50,292] Trial 362 finished with value: 6.934073453714627 and parameters: {'x': 0.7266396820314598, 'y': 0.7899087897212962}. Best is trial 149 with value: 0.0026389185181298733.\n",
      "[I 2024-09-19 15:26:50,302] Trial 363 finished with value: 754.606651770059 and parameters: {'x': 1.0358738845519668, 'y': -1.6739734220375868}. Best is trial 149 with value: 0.0026389185181298733.\n",
      "[I 2024-09-19 15:26:50,312] Trial 364 finished with value: 18.74306299791148 and parameters: {'x': 0.7817529568902257, 'y': 1.0435198224495352}. Best is trial 149 with value: 0.0026389185181298733.\n",
      "[I 2024-09-19 15:26:50,322] Trial 365 finished with value: 2.3195139156735958 and parameters: {'x': 0.6586070149257508, 'y': 0.5821870777509686}. Best is trial 149 with value: 0.0026389185181298733.\n",
      "[I 2024-09-19 15:26:50,333] Trial 366 finished with value: 19.390087117113 and parameters: {'x': 0.9463204426573685, 'y': 0.4552133339267249}. Best is trial 149 with value: 0.0026389185181298733.\n",
      "[I 2024-09-19 15:26:50,344] Trial 367 finished with value: 1.5204562551995635 and parameters: {'x': 0.8719226278560297, 'y': 0.8828888847673019}. Best is trial 149 with value: 0.0026389185181298733.\n",
      "[I 2024-09-19 15:26:50,353] Trial 368 finished with value: 16.169769447753545 and parameters: {'x': 0.5903212859941221, 'y': 0.7485033799562174}. Best is trial 149 with value: 0.0026389185181298733.\n",
      "[I 2024-09-19 15:26:50,364] Trial 369 finished with value: 69.46552768186545 and parameters: {'x': 1.2243103916516638, 'y': 0.6657780117203983}. Best is trial 149 with value: 0.0026389185181298733.\n",
      "[I 2024-09-19 15:26:50,374] Trial 370 finished with value: 64.02418034661886 and parameters: {'x': 0.7785898785938431, 'y': 1.4060469208839437}. Best is trial 149 with value: 0.0026389185181298733.\n",
      "[I 2024-09-19 15:26:50,385] Trial 371 finished with value: 22.827335626333777 and parameters: {'x': 0.6970558365701868, 'y': 0.9627050484725296}. Best is trial 149 with value: 0.0026389185181298733.\n",
      "[I 2024-09-19 15:26:50,397] Trial 372 finished with value: 854.370553802266 and parameters: {'x': 1.9286334096326052, 'y': 0.7981405737897889}. Best is trial 149 with value: 0.0026389185181298733.\n",
      "[I 2024-09-19 15:26:50,407] Trial 373 finished with value: 36.444651531931505 and parameters: {'x': 1.0606502180728727, 'y': 0.5213152943210234}. Best is trial 149 with value: 0.0026389185181298733.\n",
      "[I 2024-09-19 15:26:50,417] Trial 374 finished with value: 17.373519854604506 and parameters: {'x': 0.841440394961324, 'y': 1.1245357880574567}. Best is trial 149 with value: 0.0026389185181298733.\n",
      "[I 2024-09-19 15:26:50,427] Trial 375 finished with value: 77.89047275102452 and parameters: {'x': 1.139361269385342, 'y': 0.4156983464055414}. Best is trial 149 with value: 0.0026389185181298733.\n",
      "[I 2024-09-19 15:26:50,439] Trial 376 finished with value: 7.497654022420439 and parameters: {'x': 0.9412995570636693, 'y': 0.6122893396465}. Best is trial 149 with value: 0.0026389185181298733.\n",
      "[I 2024-09-19 15:26:50,450] Trial 377 finished with value: 0.10778926272472775 and parameters: {'x': 0.7423845557475035, 'y': 0.5307820534681493}. Best is trial 149 with value: 0.0026389185181298733.\n"
     ]
    },
    {
     "name": "stderr",
     "output_type": "stream",
     "text": [
      "[I 2024-09-19 15:26:50,461] Trial 378 finished with value: 0.2970574282377114 and parameters: {'x': 0.7710393083138831, 'y': 0.5450410822243562}. Best is trial 149 with value: 0.0026389185181298733.\n",
      "[I 2024-09-19 15:26:50,473] Trial 379 finished with value: 0.5343434576413234 and parameters: {'x': 0.8708838902403195, 'y': 0.686489289695488}. Best is trial 149 with value: 0.0026389185181298733.\n",
      "[I 2024-09-19 15:26:50,485] Trial 380 finished with value: 0.3608903366695263 and parameters: {'x': 0.7330419552766506, 'y': 0.5911672099738888}. Best is trial 149 with value: 0.0026389185181298733.\n",
      "[I 2024-09-19 15:26:50,496] Trial 381 finished with value: 0.16198120400107519 and parameters: {'x': 0.9539487517331832, 'y': 0.8700356639197526}. Best is trial 149 with value: 0.0026389185181298733.\n",
      "[I 2024-09-19 15:26:50,508] Trial 382 finished with value: 0.4807146059573271 and parameters: {'x': 0.9962297507244767, 'y': 0.9231411559716487}. Best is trial 149 with value: 0.0026389185181298733.\n",
      "[I 2024-09-19 15:26:50,520] Trial 383 finished with value: 6.096967746272727 and parameters: {'x': 1.0014759986334185, 'y': 1.2498745186155933}. Best is trial 149 with value: 0.0026389185181298733.\n",
      "[I 2024-09-19 15:26:50,536] Trial 384 finished with value: 2.726261966860571 and parameters: {'x': 0.9173935103950909, 'y': 1.0065180430170886}. Best is trial 149 with value: 0.0026389185181298733.\n",
      "[I 2024-09-19 15:26:50,549] Trial 385 finished with value: 14.288998139198478 and parameters: {'x': 1.0983692682501571, 'y': 0.8285351528255391}. Best is trial 149 with value: 0.0026389185181298733.\n",
      "[I 2024-09-19 15:26:50,560] Trial 386 finished with value: 7.114568662586614 and parameters: {'x': -0.8255933906344455, 'y': 0.8760723729262726}. Best is trial 149 with value: 0.0026389185181298733.\n",
      "[I 2024-09-19 15:26:50,572] Trial 387 finished with value: 0.11240026601814768 and parameters: {'x': 0.8628602264393075, 'y': 0.7751207350075329}. Best is trial 149 with value: 0.0026389185181298733.\n",
      "[I 2024-09-19 15:26:50,583] Trial 388 finished with value: 4.6276185796556835 and parameters: {'x': 0.9856268648974382, 'y': 0.756346114750994}. Best is trial 149 with value: 0.0026389185181298733.\n",
      "[I 2024-09-19 15:26:50,595] Trial 389 finished with value: 0.4826517269600338 and parameters: {'x': 0.8897220916268177, 'y': 0.8601977111139647}. Best is trial 149 with value: 0.0026389185181298733.\n",
      "[I 2024-09-19 15:26:50,608] Trial 390 finished with value: 1.062406992357211 and parameters: {'x': 1.0536240064943958, 'y': 1.0071900025636658}. Best is trial 149 with value: 0.0026389185181298733.\n",
      "[I 2024-09-19 15:26:50,619] Trial 391 finished with value: 0.590169294967882 and parameters: {'x': 0.8336923732129472, 'y': 0.7700437110324956}. Best is trial 149 with value: 0.0026389185181298733.\n",
      "[I 2024-09-19 15:26:50,630] Trial 392 finished with value: 0.002096877095971208 and parameters: {'x': 0.9587147299333649, 'y': 0.9171530154941273}. Best is trial 392 with value: 0.002096877095971208.\n",
      "[I 2024-09-19 15:26:50,640] Trial 393 finished with value: 2.8649748810656934 and parameters: {'x': 0.9501520672883212, 'y': 1.0719779005130152}. Best is trial 392 with value: 0.002096877095971208.\n",
      "[I 2024-09-19 15:26:50,650] Trial 394 finished with value: 19.67184607201434 and parameters: {'x': 1.189579676095571, 'y': 0.9719756062776775}. Best is trial 392 with value: 0.002096877095971208.\n",
      "[I 2024-09-19 15:26:50,660] Trial 395 finished with value: 5.147761235493942 and parameters: {'x': 1.064192211868912, 'y': 0.9057091071491303}. Best is trial 392 with value: 0.002096877095971208.\n",
      "[I 2024-09-19 15:26:50,670] Trial 396 finished with value: 1.8760777740748236 and parameters: {'x': 0.924431410585486, 'y': 0.7178120654384293}. Best is trial 392 with value: 0.002096877095971208.\n",
      "[I 2024-09-19 15:26:50,680] Trial 397 finished with value: 3.0831522158327864 and parameters: {'x': 1.009053774210487, 'y': 0.8426027815657284}. Best is trial 392 with value: 0.002096877095971208.\n",
      "[I 2024-09-19 15:26:50,690] Trial 398 finished with value: 2.9272728734123876 and parameters: {'x': 0.8571214029003139, 'y': 0.9051522188852087}. Best is trial 392 with value: 0.002096877095971208.\n",
      "[I 2024-09-19 15:26:50,701] Trial 399 finished with value: 19.157129716894097 and parameters: {'x': 1.1274925825175766, 'y': 0.8337366624038292}. Best is trial 392 with value: 0.002096877095971208.\n",
      "[I 2024-09-19 15:26:50,710] Trial 400 finished with value: 1.2604632207179431 and parameters: {'x': 0.9368593064094949, 'y': 0.7656126986258247}. Best is trial 392 with value: 0.002096877095971208.\n",
      "[I 2024-09-19 15:26:50,720] Trial 401 finished with value: 6.450084794228524 and parameters: {'x': 0.8407000721685692, 'y': 0.9602466949285025}. Best is trial 392 with value: 0.002096877095971208.\n",
      "[I 2024-09-19 15:26:50,730] Trial 402 finished with value: 0.872638264835099 and parameters: {'x': 1.0186316753015854, 'y': 1.131007016924737}. Best is trial 392 with value: 0.002096877095971208.\n",
      "[I 2024-09-19 15:26:50,743] Trial 403 finished with value: 0.9954043453047985 and parameters: {'x': 0.8990431576747242, 'y': 0.7090207502367197}. Best is trial 392 with value: 0.002096877095971208.\n",
      "[I 2024-09-19 15:26:50,754] Trial 404 finished with value: 16.501310224559646 and parameters: {'x': 0.8021293170209001, 'y': 1.0491472840751186}. Best is trial 392 with value: 0.002096877095971208.\n",
      "[I 2024-09-19 15:26:50,764] Trial 405 finished with value: 0.8155712718598802 and parameters: {'x': 0.9499120700520111, 'y': 0.8121629640569938}. Best is trial 392 with value: 0.002096877095971208.\n",
      "[I 2024-09-19 15:26:50,774] Trial 406 finished with value: 0.048061184656634726 and parameters: {'x': 0.8286100467383809, 'y': 0.7002645285671054}. Best is trial 392 with value: 0.002096877095971208.\n",
      "[I 2024-09-19 15:26:50,785] Trial 407 finished with value: 0.03940738134885023 and parameters: {'x': 0.8035845225923068, 'y': 0.6486261773451533}. Best is trial 392 with value: 0.002096877095971208.\n",
      "[I 2024-09-19 15:26:50,796] Trial 408 finished with value: 0.106845942163812 and parameters: {'x': 0.783749172620981, 'y': 0.6387742979355393}. Best is trial 392 with value: 0.002096877095971208.\n",
      "[I 2024-09-19 15:26:50,806] Trial 409 finished with value: 0.25281651654974835 and parameters: {'x': 0.7944472450314165, 'y': 0.6770337416290134}. Best is trial 392 with value: 0.002096877095971208.\n",
      "[I 2024-09-19 15:26:50,816] Trial 410 finished with value: 0.5067524794126965 and parameters: {'x': 0.7611424038153525, 'y': 0.646397398622214}. Best is trial 392 with value: 0.002096877095971208.\n",
      "[I 2024-09-19 15:26:50,826] Trial 411 finished with value: 0.19253170576456916 and parameters: {'x': 0.8493226820286807, 'y': 0.6801388190322725}. Best is trial 392 with value: 0.002096877095971208.\n",
      "[I 2024-09-19 15:26:50,838] Trial 412 finished with value: 0.6126299103281441 and parameters: {'x': 0.7505281998646414, 'y': 0.6374811042704218}. Best is trial 392 with value: 0.002096877095971208.\n",
      "[I 2024-09-19 15:26:50,848] Trial 413 finished with value: 0.8998682484188683 and parameters: {'x': 0.819070157845766, 'y': 0.5777559663946259}. Best is trial 392 with value: 0.002096877095971208.\n",
      "[I 2024-09-19 15:26:50,859] Trial 414 finished with value: 6.362541382450565 and parameters: {'x': 0.6940059790506299, 'y': 0.7320221941803013}. Best is trial 392 with value: 0.002096877095971208.\n",
      "[I 2024-09-19 15:26:50,870] Trial 415 finished with value: 0.076434517495701 and parameters: {'x': 0.895020270929479, 'y': 0.7754851687851758}. Best is trial 392 with value: 0.002096877095971208.\n",
      "[I 2024-09-19 15:26:50,882] Trial 416 finished with value: 0.20484087527668146 and parameters: {'x': 0.8725454324384583, 'y': 0.7179078666980965}. Best is trial 392 with value: 0.002096877095971208.\n",
      "[I 2024-09-19 15:26:50,896] Trial 417 finished with value: 0.8124351937338901 and parameters: {'x': 0.7173895937161667, 'y': 0.6002379309360591}. Best is trial 392 with value: 0.002096877095971208.\n",
      "[I 2024-09-19 15:26:50,908] Trial 418 finished with value: 1.3624876667326102 and parameters: {'x': 0.8038353019469547, 'y': 0.5310856861839529}. Best is trial 392 with value: 0.002096877095971208.\n",
      "[I 2024-09-19 15:26:50,920] Trial 419 finished with value: 0.01873820333818199 and parameters: {'x': 0.8715373241577274, 'y': 0.7643054616420233}. Best is trial 392 with value: 0.002096877095971208.\n"
     ]
    },
    {
     "name": "stderr",
     "output_type": "stream",
     "text": [
      "[I 2024-09-19 15:26:50,931] Trial 420 finished with value: 368.7913011294028 and parameters: {'x': 0.8702598422335212, 'y': -1.162997953768055}. Best is trial 392 with value: 0.002096877095971208.\n",
      "[I 2024-09-19 15:26:50,942] Trial 421 finished with value: 4.198254513626927 and parameters: {'x': 0.7367796649704663, 'y': 0.7460429353605103}. Best is trial 392 with value: 0.002096877095971208.\n",
      "[I 2024-09-19 15:26:50,953] Trial 422 finished with value: 0.09330276456096523 and parameters: {'x': 0.7940269011170116, 'y': 0.6530348379578377}. Best is trial 392 with value: 0.002096877095971208.\n",
      "[I 2024-09-19 15:26:50,965] Trial 423 finished with value: 8.277822938155829 and parameters: {'x': 0.700097959148926, 'y': 0.7762819008107689}. Best is trial 392 with value: 0.002096877095971208.\n",
      "[I 2024-09-19 15:26:50,976] Trial 424 finished with value: 3.840608227358014 and parameters: {'x': 0.8699376698488077, 'y': 0.5612489193477702}. Best is trial 392 with value: 0.002096877095971208.\n",
      "[I 2024-09-19 15:26:50,989] Trial 425 finished with value: 0.47893454551176423 and parameters: {'x': 0.7853374038541794, 'y': 0.6825465178624385}. Best is trial 392 with value: 0.002096877095971208.\n",
      "[I 2024-09-19 15:26:51,000] Trial 426 finished with value: 3.9705915055127665 and parameters: {'x': 0.9078800575430807, 'y': 0.62519581778169}. Best is trial 392 with value: 0.002096877095971208.\n",
      "[I 2024-09-19 15:26:51,013] Trial 427 finished with value: 2453.4141279825817 and parameters: {'x': 1.7231653046370932, 'y': -1.9833684526646151}. Best is trial 392 with value: 0.002096877095971208.\n",
      "[I 2024-09-19 15:26:51,025] Trial 428 finished with value: 1.3954363283287903 and parameters: {'x': 0.8091941618561687, 'y': 0.7713726105130058}. Best is trial 392 with value: 0.002096877095971208.\n",
      "[I 2024-09-19 15:26:51,035] Trial 429 finished with value: 0.4324578718658205 and parameters: {'x': 0.6799891602536015, 'y': 0.5198353176194277}. Best is trial 392 with value: 0.002096877095971208.\n",
      "[I 2024-09-19 15:26:51,046] Trial 430 finished with value: 1.8740115554692287 and parameters: {'x': 0.8759419602065254, 'y': 0.6309430608443959}. Best is trial 392 with value: 0.002096877095971208.\n",
      "[I 2024-09-19 15:26:51,059] Trial 431 finished with value: 6.519341733244496 and parameters: {'x': 0.7362699151666644, 'y': 0.7960577196404575}. Best is trial 392 with value: 0.002096877095971208.\n",
      "[I 2024-09-19 15:26:51,070] Trial 432 finished with value: 0.13461268154700018 and parameters: {'x': 0.8132498520652122, 'y': 0.6929564972569813}. Best is trial 392 with value: 0.002096877095971208.\n",
      "[I 2024-09-19 15:26:51,081] Trial 433 finished with value: 10.542543858024427 and parameters: {'x': 0.9471561365315155, 'y': 0.5724549143169836}. Best is trial 392 with value: 0.002096877095971208.\n",
      "[I 2024-09-19 15:26:51,093] Trial 434 finished with value: 5.108087754986662 and parameters: {'x': 0.6452175329953957, 'y': 0.6395144719710515}. Best is trial 392 with value: 0.002096877095971208.\n",
      "[I 2024-09-19 15:26:51,104] Trial 435 finished with value: 1.152699215285507 and parameters: {'x': 0.7734143988526688, 'y': 0.7031154459169099}. Best is trial 392 with value: 0.002096877095971208.\n",
      "[I 2024-09-19 15:26:51,116] Trial 436 finished with value: 0.0972471391344589 and parameters: {'x': 0.692535000084649, 'y': 0.484812809445952}. Best is trial 392 with value: 0.002096877095971208.\n",
      "[I 2024-09-19 15:26:51,128] Trial 437 finished with value: 0.12796876031212792 and parameters: {'x': 0.6816745248780439, 'y': 0.4810012032387942}. Best is trial 392 with value: 0.002096877095971208.\n",
      "[I 2024-09-19 15:26:51,140] Trial 438 finished with value: 1.0855583612666733 and parameters: {'x': 0.6403730764827509, 'y': 0.5078645288150923}. Best is trial 392 with value: 0.002096877095971208.\n",
      "[I 2024-09-19 15:26:51,152] Trial 439 finished with value: 0.16227994393590095 and parameters: {'x': 0.7308592195166932, 'y': 0.5641290513939334}. Best is trial 392 with value: 0.002096877095971208.\n",
      "[I 2024-09-19 15:26:51,163] Trial 440 finished with value: 9.73712186941732 and parameters: {'x': 0.9277183550371626, 'y': 0.5487014572932212}. Best is trial 392 with value: 0.002096877095971208.\n",
      "[I 2024-09-19 15:26:51,176] Trial 441 finished with value: 3.912439715718215 and parameters: {'x': 0.5587442964082764, 'y': 0.5050094289007262}. Best is trial 392 with value: 0.002096877095971208.\n",
      "[I 2024-09-19 15:26:51,188] Trial 442 finished with value: 0.8413006445332769 and parameters: {'x': 0.7309949171985247, 'y': 0.6220426167446005}. Best is trial 392 with value: 0.002096877095971208.\n",
      "[I 2024-09-19 15:26:51,200] Trial 443 finished with value: 1.252249069284958 and parameters: {'x': 0.8374714270767311, 'y': 0.8120757580221374}. Best is trial 392 with value: 0.002096877095971208.\n",
      "[I 2024-09-19 15:26:51,215] Trial 444 finished with value: 30.57656327736234 and parameters: {'x': 1.0161904044630918, 'y': 0.4796845206250754}. Best is trial 392 with value: 0.002096877095971208.\n",
      "[I 2024-09-19 15:26:51,227] Trial 445 finished with value: 9.06815538898332 and parameters: {'x': 0.6635303183749925, 'y': 0.7395206002278123}. Best is trial 392 with value: 0.002096877095971208.\n",
      "[I 2024-09-19 15:26:51,239] Trial 446 finished with value: 1.7313045356226582 and parameters: {'x': 0.8746968571641278, 'y': 0.6341135376532576}. Best is trial 392 with value: 0.002096877095971208.\n",
      "[I 2024-09-19 15:26:51,250] Trial 447 finished with value: 2.428765834989003 and parameters: {'x': 0.7783722562629297, 'y': 0.4516023250411597}. Best is trial 392 with value: 0.002096877095971208.\n",
      "[I 2024-09-19 15:26:51,261] Trial 448 finished with value: 0.42164607728848985 and parameters: {'x': 0.9513460984547821, 'y': 0.8403076519526507}. Best is trial 392 with value: 0.002096877095971208.\n",
      "[I 2024-09-19 15:26:51,273] Trial 449 finished with value: 220.40518539132157 and parameters: {'x': -1.4284595806119271, 'y': 0.5758883976068249}. Best is trial 392 with value: 0.002096877095971208.\n",
      "[I 2024-09-19 15:26:51,284] Trial 450 finished with value: 0.2743300218180827 and parameters: {'x': 0.7966965833304849, 'y': 0.6829952856031277}. Best is trial 392 with value: 0.002096877095971208.\n",
      "[I 2024-09-19 15:26:51,296] Trial 451 finished with value: 88.58431914891948 and parameters: {'x': 0.6093494630428553, 'y': -0.5690745976495448}. Best is trial 392 with value: 0.002096877095971208.\n",
      "[I 2024-09-19 15:26:51,307] Trial 452 finished with value: 2.3425585724928637 and parameters: {'x': 0.8656887337112532, 'y': 0.9018807189115594}. Best is trial 392 with value: 0.002096877095971208.\n",
      "[I 2024-09-19 15:26:51,319] Trial 453 finished with value: 9.78998944825634 and parameters: {'x': 0.7000065774293394, 'y': 0.801457332450097}. Best is trial 392 with value: 0.002096877095971208.\n",
      "[I 2024-09-19 15:26:51,331] Trial 454 finished with value: 14.679360751388767 and parameters: {'x': 1.061449142696814, 'y': 0.7435870241395314}. Best is trial 392 with value: 0.002096877095971208.\n",
      "[I 2024-09-19 15:26:51,343] Trial 455 finished with value: 337.09790640979026 and parameters: {'x': 1.546635415884094, 'y': 0.5568724127284079}. Best is trial 392 with value: 0.002096877095971208.\n",
      "[I 2024-09-19 15:26:51,356] Trial 456 finished with value: 24.157165418555117 and parameters: {'x': 0.9760282060969132, 'y': 0.4611375111060226}. Best is trial 392 with value: 0.002096877095971208.\n",
      "[I 2024-09-19 15:26:51,368] Trial 457 finished with value: 0.4218126546657382 and parameters: {'x': 0.7714005915359107, 'y': 0.6558499052760876}. Best is trial 392 with value: 0.002096877095971208.\n",
      "[I 2024-09-19 15:26:51,379] Trial 458 finished with value: 5.3403852419915285 and parameters: {'x': 0.9128103397553069, 'y': 0.6022945196203204}. Best is trial 392 with value: 0.002096877095971208.\n",
      "[I 2024-09-19 15:26:51,391] Trial 459 finished with value: 9.927519999808364 and parameters: {'x': 0.7009056881462477, 'y': 0.8049256438338858}. Best is trial 392 with value: 0.002096877095971208.\n",
      "[I 2024-09-19 15:26:51,403] Trial 460 finished with value: 412.4236342261446 and parameters: {'x': 0.8267992869009646, 'y': -1.3471506727479818}. Best is trial 392 with value: 0.002096877095971208.\n",
      "[I 2024-09-19 15:26:51,415] Trial 461 finished with value: 29.86697110278687 and parameters: {'x': 0.5818955291467633, 'y': 0.8835075339433103}. Best is trial 392 with value: 0.002096877095971208.\n"
     ]
    },
    {
     "name": "stderr",
     "output_type": "stream",
     "text": [
      "[I 2024-09-19 15:26:51,426] Trial 462 finished with value: 1.3394673411261477 and parameters: {'x': 0.8924603991484105, 'y': 0.6812509088712}. Best is trial 392 with value: 0.002096877095971208.\n",
      "[I 2024-09-19 15:26:51,439] Trial 463 finished with value: 1.5263396938882436 and parameters: {'x': 0.7501316027794184, 'y': 0.44170545985630644}. Best is trial 392 with value: 0.002096877095971208.\n",
      "[I 2024-09-19 15:26:51,451] Trial 464 finished with value: 6.113561786302894 and parameters: {'x': 0.9956256669612887, 'y': 0.7440146770405435}. Best is trial 392 with value: 0.002096877095971208.\n",
      "[I 2024-09-19 15:26:51,463] Trial 465 finished with value: 1.7467151794950553 and parameters: {'x': 0.6497485369450849, 'y': 0.549610953620862}. Best is trial 392 with value: 0.002096877095971208.\n",
      "[I 2024-09-19 15:26:51,476] Trial 466 finished with value: 34.133785585923526 and parameters: {'x': 1.1081326871598862, 'y': 0.6438168630161607}. Best is trial 392 with value: 0.002096877095971208.\n",
      "[I 2024-09-19 15:26:51,488] Trial 467 finished with value: 6.9736683218013775 and parameters: {'x': 0.8244020136139406, 'y': 0.943131254310006}. Best is trial 392 with value: 0.002096877095971208.\n",
      "[I 2024-09-19 15:26:51,500] Trial 468 finished with value: 0.05409526840150846 and parameters: {'x': 0.9092941523453892, 'y': 0.8482326053836489}. Best is trial 392 with value: 0.002096877095971208.\n",
      "[I 2024-09-19 15:26:51,511] Trial 469 finished with value: 0.7610412140883697 and parameters: {'x': 0.9924782020842285, 'y': 0.8977785482362679}. Best is trial 392 with value: 0.002096877095971208.\n",
      "[I 2024-09-19 15:26:51,523] Trial 470 finished with value: 0.24585285785206043 and parameters: {'x': 0.9437171483333291, 'y': 0.841338976733167}. Best is trial 392 with value: 0.002096877095971208.\n",
      "[I 2024-09-19 15:26:51,535] Trial 471 finished with value: 13.685933265505424 and parameters: {'x': 1.0598390175678754, 'y': 0.753362101413441}. Best is trial 392 with value: 0.002096877095971208.\n",
      "[I 2024-09-19 15:26:51,548] Trial 472 finished with value: 29.69006982768583 and parameters: {'x': 1.176432512765636, 'y': 0.8393932239290167}. Best is trial 392 with value: 0.002096877095971208.\n",
      "[I 2024-09-19 15:26:51,560] Trial 473 finished with value: 3.320660895865624 and parameters: {'x': 0.8871692786799581, 'y': 0.9689464887922956}. Best is trial 392 with value: 0.002096877095971208.\n",
      "[I 2024-09-19 15:26:51,573] Trial 474 finished with value: 0.02194623391471332 and parameters: {'x': 0.8825916699310802, 'y': 0.7880021678219291}. Best is trial 392 with value: 0.002096877095971208.\n",
      "[I 2024-09-19 15:26:51,585] Trial 475 finished with value: 58.71888975870739 and parameters: {'x': 1.3001764550021155, 'y': 0.9247644635386412}. Best is trial 392 with value: 0.002096877095971208.\n",
      "[I 2024-09-19 15:26:51,598] Trial 476 finished with value: 1.954585326746191 and parameters: {'x': 0.9352377164328071, 'y': 0.7350131802495621}. Best is trial 392 with value: 0.002096877095971208.\n",
      "[I 2024-09-19 15:26:51,610] Trial 477 finished with value: 4.3699400128879775 and parameters: {'x': 1.0281700204061033, 'y': 0.8481085573649801}. Best is trial 392 with value: 0.002096877095971208.\n",
      "[I 2024-09-19 15:26:51,625] Trial 478 finished with value: 32.74126048390043 and parameters: {'x': -1.006399265529482, 'y': 1.5487090783997193}. Best is trial 392 with value: 0.002096877095971208.\n",
      "[I 2024-09-19 15:26:51,636] Trial 479 finished with value: 0.1158622005672229 and parameters: {'x': 0.8066211764206469, 'y': 0.6786496538434421}. Best is trial 392 with value: 0.002096877095971208.\n",
      "[I 2024-09-19 15:26:51,653] Trial 480 finished with value: 0.6511556790046248 and parameters: {'x': 0.9468950515045959, 'y': 0.9771295246666583}. Best is trial 392 with value: 0.002096877095971208.\n",
      "[I 2024-09-19 15:26:51,667] Trial 481 finished with value: 4.82418890888666 and parameters: {'x': 0.7549072628144213, 'y': 0.7881535819664633}. Best is trial 392 with value: 0.002096877095971208.\n",
      "[I 2024-09-19 15:26:51,679] Trial 482 finished with value: 2.5268114696052133 and parameters: {'x': 0.8802598014032476, 'y': 0.616349471017344}. Best is trial 392 with value: 0.002096877095971208.\n",
      "[I 2024-09-19 15:26:51,691] Trial 483 finished with value: 7.97448008745727 and parameters: {'x': 1.0751821954595377, 'y': 0.8737256319833104}. Best is trial 392 with value: 0.002096877095971208.\n",
      "[I 2024-09-19 15:26:51,703] Trial 484 finished with value: 0.04934531988469236 and parameters: {'x': 0.8246480094284, 'y': 0.6936814209921726}. Best is trial 392 with value: 0.002096877095971208.\n",
      "[I 2024-09-19 15:26:51,714] Trial 485 finished with value: 5.533678335901836 and parameters: {'x': 0.9860503967791767, 'y': 0.7370618043823747}. Best is trial 392 with value: 0.002096877095971208.\n",
      "[I 2024-09-19 15:26:51,726] Trial 486 finished with value: 0.14388961102477565 and parameters: {'x': 0.8545651398223608, 'y': 0.6952475501026472}. Best is trial 392 with value: 0.002096877095971208.\n",
      "[I 2024-09-19 15:26:51,740] Trial 487 finished with value: 0.09290385577071948 and parameters: {'x': 0.9186173347754806, 'y': 0.814484228197683}. Best is trial 392 with value: 0.002096877095971208.\n",
      "[I 2024-09-19 15:26:51,754] Trial 488 finished with value: 56.23949528580682 and parameters: {'x': 1.0172370050186044, 'y': 1.7846991087314832}. Best is trial 392 with value: 0.002096877095971208.\n",
      "[I 2024-09-19 15:26:51,767] Trial 489 finished with value: 0.017840049805000917 and parameters: {'x': 0.9287944745507998, 'y': 0.8513588118245718}. Best is trial 392 with value: 0.002096877095971208.\n",
      "[I 2024-09-19 15:26:51,780] Trial 490 finished with value: 8.624184714274147 and parameters: {'x': 1.1415310104250156, 'y': 1.0097646705571217}. Best is trial 392 with value: 0.002096877095971208.\n",
      "[I 2024-09-19 15:26:51,792] Trial 491 finished with value: 0.025464079750631093 and parameters: {'x': 0.9633944583105829, 'y': 0.91259694293067}. Best is trial 392 with value: 0.002096877095971208.\n",
      "[I 2024-09-19 15:26:51,804] Trial 492 finished with value: 8.87337409903036 and parameters: {'x': 1.097594126085144, 'y': 0.9069906883173035}. Best is trial 392 with value: 0.002096877095971208.\n",
      "[I 2024-09-19 15:26:51,816] Trial 493 finished with value: 0.000442502037418168 and parameters: {'x': 1.0050163074325325, 'y': 1.0080148912844176}. Best is trial 493 with value: 0.000442502037418168.\n",
      "[I 2024-09-19 15:26:51,830] Trial 494 finished with value: 8.292256434452568 and parameters: {'x': 1.168464786334483, 'y': 1.0778403750307917}. Best is trial 493 with value: 0.000442502037418168.\n",
      "[I 2024-09-19 15:26:51,843] Trial 495 finished with value: 0.4654334481192068 and parameters: {'x': 1.043017436286819, 'y': 1.019798446465774}. Best is trial 493 with value: 0.000442502037418168.\n",
      "[I 2024-09-19 15:26:51,855] Trial 496 finished with value: 35.97278859133096 and parameters: {'x': 1.2461669607301147, 'y': 0.9536642872813481}. Best is trial 493 with value: 0.000442502037418168.\n",
      "[I 2024-09-19 15:26:51,867] Trial 497 finished with value: 3.5698057281897944 and parameters: {'x': 0.9854401937869467, 'y': 1.1600260607284087}. Best is trial 493 with value: 0.000442502037418168.\n",
      "[I 2024-09-19 15:26:51,879] Trial 498 finished with value: 4.047904135228719 and parameters: {'x': 1.0978872363064927, 'y': 1.0044006117893822}. Best is trial 493 with value: 0.000442502037418168.\n",
      "[I 2024-09-19 15:26:51,891] Trial 499 finished with value: 0.5114673466748493 and parameters: {'x': 0.9706802167204563, 'y': 0.8707632642148005}. Best is trial 493 with value: 0.000442502037418168.\n",
      "[I 2024-09-19 15:26:51,903] Trial 500 finished with value: 5.574528089199034 and parameters: {'x': 1.0643993377051086, 'y': 0.8969294080066912}. Best is trial 493 with value: 0.000442502037418168.\n",
      "[I 2024-09-19 15:26:51,915] Trial 501 finished with value: 32.656375888422325 and parameters: {'x': -0.645972692263579, 'y': 0.9645206097352258}. Best is trial 493 with value: 0.000442502037418168.\n",
      "[I 2024-09-19 15:26:51,927] Trial 502 finished with value: 1.9569093996490219 and parameters: {'x': 0.9786904871532751, 'y': 0.8179617232086464}. Best is trial 493 with value: 0.000442502037418168.\n",
      "[I 2024-09-19 15:26:51,942] Trial 503 finished with value: 0.9040753134619921 and parameters: {'x': 0.9070685950869746, 'y': 0.9174010784252769}. Best is trial 493 with value: 0.000442502037418168.\n"
     ]
    },
    {
     "name": "stderr",
     "output_type": "stream",
     "text": [
      "[I 2024-09-19 15:26:51,956] Trial 504 finished with value: 0.006373034447019985 and parameters: {'x': 0.9242053428316855, 'y': 0.8516491151286285}. Best is trial 493 with value: 0.000442502037418168.\n",
      "[I 2024-09-19 15:26:51,967] Trial 505 finished with value: 7.229980985364172 and parameters: {'x': 1.1520067640382985, 'y': 1.0586633509169958}. Best is trial 493 with value: 0.000442502037418168.\n",
      "[I 2024-09-19 15:26:51,980] Trial 506 finished with value: 3.3495756082715626 and parameters: {'x': 1.0608380133180348, 'y': 0.9424599773668039}. Best is trial 493 with value: 0.000442502037418168.\n",
      "[I 2024-09-19 15:26:51,992] Trial 507 finished with value: 0.08080267057250595 and parameters: {'x': 0.9428687745638554, 'y': 0.8611557555154404}. Best is trial 493 with value: 0.000442502037418168.\n",
      "[I 2024-09-19 15:26:52,003] Trial 508 finished with value: 0.031144519407054615 and parameters: {'x': 1.0075684804333471, 'y': 1.0328258160082193}. Best is trial 493 with value: 0.000442502037418168.\n",
      "[I 2024-09-19 15:26:52,014] Trial 509 finished with value: 5.421171674922968 and parameters: {'x': 1.1923184982667172, 'y': 1.1895849288492069}. Best is trial 493 with value: 0.000442502037418168.\n",
      "[I 2024-09-19 15:26:52,028] Trial 510 finished with value: 0.37616787005623475 and parameters: {'x': 1.069786734634008, 'y': 1.083509456879974}. Best is trial 493 with value: 0.000442502037418168.\n",
      "[I 2024-09-19 15:26:52,039] Trial 511 finished with value: 0.09935102954443499 and parameters: {'x': 1.0011689523782974, 'y': 1.0338590527877933}. Best is trial 493 with value: 0.000442502037418168.\n",
      "[I 2024-09-19 15:26:52,050] Trial 512 finished with value: 6.344991077157479 and parameters: {'x': 1.1244259590969965, 'y': 1.0127485777965104}. Best is trial 493 with value: 0.000442502037418168.\n",
      "[I 2024-09-19 15:26:52,062] Trial 513 finished with value: 2.114730727945625 and parameters: {'x': 1.0250918880751059, 'y': 0.9054138905148447}. Best is trial 493 with value: 0.000442502037418168.\n",
      "[I 2024-09-19 15:26:52,074] Trial 514 finished with value: 0.015132109328815714 and parameters: {'x': 0.9727135731480197, 'y': 0.9581665110325189}. Best is trial 493 with value: 0.000442502037418168.\n",
      "[I 2024-09-19 15:26:52,086] Trial 515 finished with value: 9.295516255860708 and parameters: {'x': 0.9629990553571095, 'y': 1.2322302184890745}. Best is trial 493 with value: 0.000442502037418168.\n",
      "[I 2024-09-19 15:26:52,097] Trial 516 finished with value: 0.42438760875352805 and parameters: {'x': 1.0842970196304924, 'y': 1.1111026877295005}. Best is trial 493 with value: 0.000442502037418168.\n",
      "[I 2024-09-19 15:26:52,110] Trial 517 finished with value: 33.23899396483646 and parameters: {'x': 1.2511405299963094, 'y': 0.9893671884919597}. Best is trial 493 with value: 0.000442502037418168.\n",
      "[I 2024-09-19 15:26:52,121] Trial 518 finished with value: 1.3514434545033593 and parameters: {'x': 1.0045661527313283, 'y': 1.1254038586415134}. Best is trial 493 with value: 0.000442502037418168.\n",
      "[I 2024-09-19 15:26:52,133] Trial 519 finished with value: 0.29248933712851866 and parameters: {'x': 0.9297025402431224, 'y': 0.9179702787466127}. Best is trial 493 with value: 0.000442502037418168.\n",
      "[I 2024-09-19 15:26:52,144] Trial 520 finished with value: 0.07498020156972061 and parameters: {'x': 1.0230785016434685, 'y': 1.0194045358941306}. Best is trial 493 with value: 0.000442502037418168.\n",
      "[I 2024-09-19 15:26:52,156] Trial 521 finished with value: 9.730910570066895 and parameters: {'x': 1.16061496063898, 'y': 1.0354967768651806}. Best is trial 493 with value: 0.000442502037418168.\n",
      "[I 2024-09-19 15:26:52,167] Trial 522 finished with value: 5.297615764525733 and parameters: {'x': 1.1006539191434594, 'y': 0.9814937398566014}. Best is trial 493 with value: 0.000442502037418168.\n",
      "[I 2024-09-19 15:26:52,178] Trial 523 finished with value: 1.023524369151282 and parameters: {'x': 1.016387508065311, 'y': 1.1341996745591176}. Best is trial 493 with value: 0.000442502037418168.\n",
      "[I 2024-09-19 15:26:52,190] Trial 524 finished with value: 1.513112367910405 and parameters: {'x': 0.9652853883740564, 'y': 1.0547355192500347}. Best is trial 493 with value: 0.000442502037418168.\n",
      "[I 2024-09-19 15:26:52,201] Trial 525 finished with value: 3.435419734718217 and parameters: {'x': 1.0320970460994356, 'y': 0.8799032529341775}. Best is trial 493 with value: 0.000442502037418168.\n",
      "[I 2024-09-19 15:26:52,212] Trial 526 finished with value: 1.5426548307614127 and parameters: {'x': 0.9255713183396217, 'y': 0.9806627154897225}. Best is trial 493 with value: 0.000442502037418168.\n",
      "[I 2024-09-19 15:26:52,223] Trial 527 finished with value: 32.04289590216009 and parameters: {'x': 1.1900801172021052, 'y': 0.8505454648655637}. Best is trial 493 with value: 0.000442502037418168.\n",
      "[I 2024-09-19 15:26:52,234] Trial 528 finished with value: 2.015051067599909 and parameters: {'x': 1.096734112724744, 'y': 1.3444482256086965}. Best is trial 493 with value: 0.000442502037418168.\n",
      "[I 2024-09-19 15:26:52,245] Trial 529 finished with value: 0.6152631948737458 and parameters: {'x': 0.9229301836405465, 'y': 0.9298592961916803}. Best is trial 493 with value: 0.000442502037418168.\n",
      "[I 2024-09-19 15:26:52,256] Trial 530 finished with value: 3.9932586165486175 and parameters: {'x': 1.0245608741655516, 'y': 0.8499086847347583}. Best is trial 493 with value: 0.000442502037418168.\n",
      "[I 2024-09-19 15:26:52,268] Trial 531 finished with value: 13.027704321543252 and parameters: {'x': 0.9366749838843869, 'y': 1.2382435837175014}. Best is trial 493 with value: 0.000442502037418168.\n",
      "[I 2024-09-19 15:26:52,281] Trial 532 finished with value: 8.955685805997268 and parameters: {'x': 1.126532516110006, 'y': 0.9700826114698491}. Best is trial 493 with value: 0.000442502037418168.\n",
      "[I 2024-09-19 15:26:52,292] Trial 533 finished with value: 2.603084668639337 and parameters: {'x': 0.9950145173233391, 'y': 0.828713881824962}. Best is trial 493 with value: 0.000442502037418168.\n",
      "[I 2024-09-19 15:26:52,303] Trial 534 finished with value: 6.623313237865039 and parameters: {'x': 0.8929869073163674, 'y': 1.0545610174657059}. Best is trial 493 with value: 0.000442502037418168.\n",
      "[I 2024-09-19 15:26:52,314] Trial 535 finished with value: 1.8408072969991025 and parameters: {'x': 1.024026809968082, 'y': 0.9129758298768048}. Best is trial 493 with value: 0.000442502037418168.\n",
      "[I 2024-09-19 15:26:52,326] Trial 536 finished with value: 12.736601223102475 and parameters: {'x': 0.9049376329535447, 'y': 1.1756692409707783}. Best is trial 493 with value: 0.000442502037418168.\n",
      "[I 2024-09-19 15:26:52,338] Trial 537 finished with value: 1.2802257922180282 and parameters: {'x': 0.9651194607325639, 'y': 0.8183622872030598}. Best is trial 493 with value: 0.000442502037418168.\n",
      "[I 2024-09-19 15:26:52,349] Trial 538 finished with value: 34.13979548202243 and parameters: {'x': 1.2919456117479577, 'y': 1.0855605858532709}. Best is trial 493 with value: 0.000442502037418168.\n",
      "[I 2024-09-19 15:26:52,363] Trial 539 finished with value: 8.050353825157165 and parameters: {'x': 1.1125073345817582, 'y': 0.9541642640674416}. Best is trial 493 with value: 0.000442502037418168.\n",
      "[I 2024-09-19 15:26:52,377] Trial 540 finished with value: 5.553899404699425 and parameters: {'x': 1.0481684363685853, 'y': 0.8630391768054556}. Best is trial 493 with value: 0.000442502037418168.\n",
      "[I 2024-09-19 15:26:52,391] Trial 541 finished with value: 5.16304577081515 and parameters: {'x': 0.8887855006670082, 'y': 1.01689069849039}. Best is trial 493 with value: 0.000442502037418168.\n",
      "[I 2024-09-19 15:26:52,402] Trial 542 finished with value: 1.3811176797549298 and parameters: {'x': 0.9661699139875566, 'y': 0.816012041924985}. Best is trial 493 with value: 0.000442502037418168.\n",
      "[I 2024-09-19 15:26:52,413] Trial 543 finished with value: 2.7368064149886417 and parameters: {'x': 0.8682442057298426, 'y': 0.9187554543950053}. Best is trial 493 with value: 0.000442502037418168.\n",
      "[I 2024-09-19 15:26:52,425] Trial 544 finished with value: 11.430614005591377 and parameters: {'x': 1.055892503085555, 'y': 0.7768632706052234}. Best is trial 493 with value: 0.000442502037418168.\n",
      "[I 2024-09-19 15:26:52,437] Trial 545 finished with value: 18.01213370992634 and parameters: {'x': 1.183488283974544, 'y': 0.9766343089990271}. Best is trial 493 with value: 0.000442502037418168.\n"
     ]
    },
    {
     "name": "stderr",
     "output_type": "stream",
     "text": [
      "[I 2024-09-19 15:26:52,452] Trial 546 finished with value: 0.0823245798307235 and parameters: {'x': 0.9125101040242086, 'y': 0.8600005198390436}. Best is trial 493 with value: 0.000442502037418168.\n",
      "[I 2024-09-19 15:26:52,465] Trial 547 finished with value: 3.0544751076410503 and parameters: {'x': 0.9677529081327824, 'y': 1.1112865059139128}. Best is trial 493 with value: 0.000442502037418168.\n",
      "[I 2024-09-19 15:26:52,478] Trial 548 finished with value: 0.16733502570706588 and parameters: {'x': 0.8642325867751904, 'y': 0.7854858164349232}. Best is trial 493 with value: 0.000442502037418168.\n",
      "[I 2024-09-19 15:26:52,490] Trial 549 finished with value: 3.04986318941873 and parameters: {'x': 1.0404479438673544, 'y': 0.9079401957645508}. Best is trial 493 with value: 0.000442502037418168.\n",
      "[I 2024-09-19 15:26:52,502] Trial 550 finished with value: 5.994658939895713 and parameters: {'x': 0.8811212397478185, 'y': 1.0209257949336088}. Best is trial 493 with value: 0.000442502037418168.\n",
      "[I 2024-09-19 15:26:52,514] Trial 551 finished with value: 3.0961855447887237 and parameters: {'x': 0.9774920132312944, 'y': 0.7795452200963886}. Best is trial 493 with value: 0.000442502037418168.\n",
      "[I 2024-09-19 15:26:52,525] Trial 552 finished with value: 16.701917333454585 and parameters: {'x': 1.1327762231672192, 'y': 0.8747179242973759}. Best is trial 493 with value: 0.000442502037418168.\n",
      "[I 2024-09-19 15:26:52,543] Trial 553 finished with value: 5.067577951993653 and parameters: {'x': 0.8629558370182319, 'y': 0.9693880558418274}. Best is trial 493 with value: 0.000442502037418168.\n",
      "[I 2024-09-19 15:26:52,556] Trial 554 finished with value: 0.6868288219833969 and parameters: {'x': 0.9300318972544941, 'y': 0.7823800778809049}. Best is trial 493 with value: 0.000442502037418168.\n",
      "[I 2024-09-19 15:26:52,568] Trial 555 finished with value: 6.659454303166908 and parameters: {'x': 1.060604306223278, 'y': 0.8668934826184632}. Best is trial 493 with value: 0.000442502037418168.\n",
      "[I 2024-09-19 15:26:52,580] Trial 556 finished with value: 0.004986553643514247 and parameters: {'x': 0.9739111871301862, 'y': 0.9419410437833984}. Best is trial 493 with value: 0.000442502037418168.\n",
      "[I 2024-09-19 15:26:52,592] Trial 557 finished with value: 0.07074556434706669 and parameters: {'x': 1.0296613367792955, 'y': 1.0866346022061855}. Best is trial 493 with value: 0.000442502037418168.\n",
      "[I 2024-09-19 15:26:52,604] Trial 558 finished with value: 11.358266495751009 and parameters: {'x': 1.2682013130923866, 'y': 1.2723831670285906}. Best is trial 493 with value: 0.000442502037418168.\n",
      "[I 2024-09-19 15:26:52,617] Trial 559 finished with value: 52.536365441974745 and parameters: {'x': 1.3846983852308394, 'y': 1.1935914929294766}. Best is trial 493 with value: 0.000442502037418168.\n",
      "[I 2024-09-19 15:26:52,629] Trial 560 finished with value: 0.005525307662603557 and parameters: {'x': 1.0603306967924497, 'y': 1.1286434379201304}. Best is trial 493 with value: 0.000442502037418168.\n",
      "[I 2024-09-19 15:26:52,643] Trial 561 finished with value: 1.0061259627200096 and parameters: {'x': 1.1751050525879159, 'y': 1.282106294289934}. Best is trial 493 with value: 0.000442502037418168.\n",
      "[I 2024-09-19 15:26:52,655] Trial 562 finished with value: 3.499662905981195 and parameters: {'x': 1.1789942172353949, 'y': 1.2038117909145518}. Best is trial 493 with value: 0.000442502037418168.\n",
      "[I 2024-09-19 15:26:52,669] Trial 563 finished with value: 0.006073953748677208 and parameters: {'x': 1.077422328918669, 'y': 1.1599459205788583}. Best is trial 493 with value: 0.000442502037418168.\n",
      "[I 2024-09-19 15:26:52,682] Trial 564 finished with value: 1.8909524302777738 and parameters: {'x': 1.1231214346886196, 'y': 1.1244421446671662}. Best is trial 493 with value: 0.000442502037418168.\n",
      "[I 2024-09-19 15:26:52,694] Trial 565 finished with value: 24.156320115501828 and parameters: {'x': 1.286547588131944, 'y': 1.164549923849433}. Best is trial 493 with value: 0.000442502037418168.\n",
      "[I 2024-09-19 15:26:52,706] Trial 566 finished with value: 0.4047683062706936 and parameters: {'x': 1.0927477418757876, 'y': 1.1311558953800622}. Best is trial 493 with value: 0.000442502037418168.\n",
      "[I 2024-09-19 15:26:52,718] Trial 567 finished with value: 1.206729903784985 and parameters: {'x': 1.0927976770666517, 'y': 1.084748163755065}. Best is trial 493 with value: 0.000442502037418168.\n",
      "[I 2024-09-19 15:26:52,731] Trial 568 finished with value: 3.944717169605226 and parameters: {'x': 1.184884808930007, 'y': 1.2062012891440952}. Best is trial 493 with value: 0.000442502037418168.\n",
      "[I 2024-09-19 15:26:52,744] Trial 569 finished with value: 4.881281579251959 and parameters: {'x': 1.0439144941952163, 'y': 1.31065004907548}. Best is trial 493 with value: 0.000442502037418168.\n",
      "[I 2024-09-19 15:26:52,757] Trial 570 finished with value: 11.220482313070343 and parameters: {'x': 1.1917788273498688, 'y': 1.0859163314434772}. Best is trial 493 with value: 0.000442502037418168.\n",
      "[I 2024-09-19 15:26:52,769] Trial 571 finished with value: 22.03409620773786 and parameters: {'x': 1.2303208228127116, 'y': 1.0448498179785006}. Best is trial 493 with value: 0.000442502037418168.\n",
      "[I 2024-09-19 15:26:52,781] Trial 572 finished with value: 1.2655445394698617 and parameters: {'x': 1.0242445089720138, 'y': 1.1615471099380101}. Best is trial 493 with value: 0.000442502037418168.\n",
      "[I 2024-09-19 15:26:52,793] Trial 573 finished with value: 2.9670428737249788 and parameters: {'x': 1.1024716604469125, 'y': 1.0434977696220356}. Best is trial 493 with value: 0.000442502037418168.\n",
      "[I 2024-09-19 15:26:52,806] Trial 574 finished with value: 5.124742080485203 and parameters: {'x': 1.007833856254321, 'y': 1.2421066582457538}. Best is trial 493 with value: 0.000442502037418168.\n",
      "[I 2024-09-19 15:26:52,817] Trial 575 finished with value: 1.6296132430379744 and parameters: {'x': 1.1113771344752286, 'y': 1.362328643052372}. Best is trial 493 with value: 0.000442502037418168.\n",
      "[I 2024-09-19 15:26:52,829] Trial 576 finished with value: 0.007816129848406086 and parameters: {'x': 1.0356484525123584, 'y': 1.0806580309564067}. Best is trial 493 with value: 0.000442502037418168.\n",
      "[I 2024-09-19 15:26:52,841] Trial 577 finished with value: 3.1060584719908166 and parameters: {'x': 0.9904852595584196, 'y': 1.1572986146859972}. Best is trial 493 with value: 0.000442502037418168.\n",
      "[I 2024-09-19 15:26:52,853] Trial 578 finished with value: 17.525248045886087 and parameters: {'x': 1.2252480380204414, 'y': 1.083207499846704}. Best is trial 493 with value: 0.000442502037418168.\n",
      "[I 2024-09-19 15:26:52,865] Trial 579 finished with value: 0.5414172518913124 and parameters: {'x': 1.0928392909767723, 'y': 1.121304694459312}. Best is trial 493 with value: 0.000442502037418168.\n",
      "[I 2024-09-19 15:26:52,876] Trial 580 finished with value: 0.18742102183960002 and parameters: {'x': 0.9793142637335441, 'y': 1.002299128519339}. Best is trial 493 with value: 0.000442502037418168.\n",
      "[I 2024-09-19 15:26:52,891] Trial 581 finished with value: 2.5722375555398695 and parameters: {'x': 1.0590223698084507, 'y': 0.9612550533587634}. Best is trial 493 with value: 0.000442502037418168.\n",
      "[I 2024-09-19 15:26:52,903] Trial 582 finished with value: 2.1648800307742704 and parameters: {'x': 0.954700584023062, 'y': 1.058518768529572}. Best is trial 493 with value: 0.000442502037418168.\n",
      "[I 2024-09-19 15:26:52,916] Trial 583 finished with value: 2.4523130939078595 and parameters: {'x': 1.1224178672522358, 'y': 1.415941276863435}. Best is trial 493 with value: 0.000442502037418168.\n",
      "[I 2024-09-19 15:26:52,928] Trial 584 finished with value: 83.24749342935276 and parameters: {'x': 1.3689532227172911, 'y': 0.962378567424466}. Best is trial 493 with value: 0.000442502037418168.\n",
      "[I 2024-09-19 15:26:52,940] Trial 585 finished with value: 4.720171746523941 and parameters: {'x': 1.000977264419786, 'y': 1.2192150243312605}. Best is trial 493 with value: 0.000442502037418168.\n",
      "[I 2024-09-19 15:26:52,952] Trial 586 finished with value: 5.000862043637089 and parameters: {'x': 0.9254817739496158, 'y': 1.0800183948361852}. Best is trial 493 with value: 0.000442502037418168.\n",
      "[I 2024-09-19 15:26:52,965] Trial 587 finished with value: 3.507763366800835 and parameters: {'x': 1.0562373158871945, 'y': 1.3028430561411688}. Best is trial 493 with value: 0.000442502037418168.\n"
     ]
    },
    {
     "name": "stderr",
     "output_type": "stream",
     "text": [
      "[I 2024-09-19 15:26:52,978] Trial 588 finished with value: 6.1634100626081425 and parameters: {'x': 0.8532042058840912, 'y': 0.9757852010432738}. Best is trial 493 with value: 0.000442502037418168.\n",
      "[I 2024-09-19 15:26:52,990] Trial 589 finished with value: 2.0671585997711652 and parameters: {'x': 0.9525680224222476, 'y': 1.051083742937659}. Best is trial 493 with value: 0.000442502037418168.\n",
      "[I 2024-09-19 15:26:53,003] Trial 590 finished with value: 13.698410649270262 and parameters: {'x': 1.1413697793008506, 'y': 0.9328814219236063}. Best is trial 493 with value: 0.000442502037418168.\n",
      "[I 2024-09-19 15:26:53,016] Trial 591 finished with value: 0.6257000248359935 and parameters: {'x': 1.0238374397248193, 'y': 1.1273083798934025}. Best is trial 493 with value: 0.000442502037418168.\n",
      "[I 2024-09-19 15:26:53,027] Trial 592 finished with value: 53.620709827556915 and parameters: {'x': 0.8946222729557624, 'y': 1.5325348166635853}. Best is trial 493 with value: 0.000442502037418168.\n",
      "[I 2024-09-19 15:26:53,039] Trial 593 finished with value: 5.445580382072728 and parameters: {'x': 0.9722449671779589, 'y': 1.1786014436000054}. Best is trial 493 with value: 0.000442502037418168.\n",
      "[I 2024-09-19 15:26:53,052] Trial 594 finished with value: 4.906237262243519 and parameters: {'x': 0.8509453878051522, 'y': 0.9451062427214137}. Best is trial 493 with value: 0.000442502037418168.\n",
      "[I 2024-09-19 15:26:53,066] Trial 595 finished with value: 12.607856658321868 and parameters: {'x': 1.1736028004196037, 'y': 1.0226927369318854}. Best is trial 493 with value: 0.000442502037418168.\n",
      "[I 2024-09-19 15:26:53,079] Trial 596 finished with value: 517.5650449871595 and parameters: {'x': -1.7786454505635296, 'y': 0.9056067106129683}. Best is trial 493 with value: 0.000442502037418168.\n",
      "[I 2024-09-19 15:26:53,092] Trial 597 finished with value: 2.3382953738451304 and parameters: {'x': 1.0412010255626047, 'y': 1.2369589178180984}. Best is trial 493 with value: 0.000442502037418168.\n",
      "[I 2024-09-19 15:26:53,108] Trial 598 finished with value: 1.8022079688208485 and parameters: {'x': 0.9296663463899429, 'y': 0.9983414843405609}. Best is trial 493 with value: 0.000442502037418168.\n",
      "[I 2024-09-19 15:26:53,122] Trial 599 finished with value: 19.18812562726383 and parameters: {'x': 1.2439688035342502, 'y': 1.1100957788814612}. Best is trial 493 with value: 0.000442502037418168.\n",
      "[I 2024-09-19 15:26:53,135] Trial 600 finished with value: 2.798318467034225 and parameters: {'x': 0.8377432370710989, 'y': 0.868306710387156}. Best is trial 493 with value: 0.000442502037418168.\n",
      "[I 2024-09-19 15:26:53,148] Trial 601 finished with value: 7.181956080013705 and parameters: {'x': 1.0962718933757922, 'y': 0.9339933232155078}. Best is trial 493 with value: 0.000442502037418168.\n",
      "[I 2024-09-19 15:26:53,159] Trial 602 finished with value: 0.3950934241139072 and parameters: {'x': 0.978812633177689, 'y': 1.0208949094504198}. Best is trial 493 with value: 0.000442502037418168.\n",
      "[I 2024-09-19 15:26:53,172] Trial 603 finished with value: 0.5220241489833449 and parameters: {'x': 0.8980158204914542, 'y': 0.8779602668972828}. Best is trial 493 with value: 0.000442502037418168.\n",
      "[I 2024-09-19 15:26:53,186] Trial 604 finished with value: 0.3292633596360708 and parameters: {'x': 1.0514012275274114, 'y': 1.1625953306934287}. Best is trial 493 with value: 0.000442502037418168.\n",
      "[I 2024-09-19 15:26:53,198] Trial 605 finished with value: 11.688402207592079 and parameters: {'x': 0.8501612577058295, 'y': 1.064328706730751}. Best is trial 493 with value: 0.000442502037418168.\n",
      "[I 2024-09-19 15:26:53,211] Trial 606 finished with value: 294.31378973975495 and parameters: {'x': 0.9659723274208446, 'y': -0.7824516933862635}. Best is trial 493 with value: 0.000442502037418168.\n",
      "[I 2024-09-19 15:26:53,223] Trial 607 finished with value: 12.091519453921958 and parameters: {'x': 1.1369791243206815, 'y': 0.9452628096731954}. Best is trial 493 with value: 0.000442502037418168.\n",
      "[I 2024-09-19 15:26:53,234] Trial 608 finished with value: 1.093007539731717 and parameters: {'x': 0.8358411357532762, 'y': 0.8018805570995836}. Best is trial 493 with value: 0.000442502037418168.\n",
      "[I 2024-09-19 15:26:53,247] Trial 609 finished with value: 3.601584104493854 and parameters: {'x': 1.0120164673919652, 'y': 0.8344027347913135}. Best is trial 493 with value: 0.000442502037418168.\n",
      "[I 2024-09-19 15:26:53,259] Trial 610 finished with value: 81.4449855320106 and parameters: {'x': -0.3119968420329631, 'y': 0.9902230395317463}. Best is trial 493 with value: 0.000442502037418168.\n",
      "[I 2024-09-19 15:26:53,272] Trial 611 finished with value: 0.232319314046735 and parameters: {'x': 0.9231199232724717, 'y': 0.8997328230976016}. Best is trial 493 with value: 0.000442502037418168.\n",
      "[I 2024-09-19 15:26:53,285] Trial 612 finished with value: 4.838592396133633 and parameters: {'x': 1.0421378989932373, 'y': 1.3059790430189775}. Best is trial 493 with value: 0.000442502037418168.\n",
      "[I 2024-09-19 15:26:53,297] Trial 613 finished with value: 18.707529813357393 and parameters: {'x': 0.8286858121643355, 'y': 1.1189027901850492}. Best is trial 493 with value: 0.000442502037418168.\n",
      "[I 2024-09-19 15:26:53,310] Trial 614 finished with value: 1.419525362753956 and parameters: {'x': 0.9358141320063811, 'y': 0.7567772723544147}. Best is trial 493 with value: 0.000442502037418168.\n",
      "[I 2024-09-19 15:26:53,322] Trial 615 finished with value: 4.548616916439452 and parameters: {'x': 1.1181411042556564, 'y': 1.0372921271653008}. Best is trial 493 with value: 0.000442502037418168.\n",
      "[I 2024-09-19 15:26:53,334] Trial 616 finished with value: 82.2806207764785 and parameters: {'x': 1.315187856554342, 'y': 0.8231801998468001}. Best is trial 493 with value: 0.000442502037418168.\n",
      "[I 2024-09-19 15:26:53,347] Trial 617 finished with value: 0.2278429783865755 and parameters: {'x': 0.9815369822311539, 'y': 0.9157176677635362}. Best is trial 493 with value: 0.000442502037418168.\n",
      "[I 2024-09-19 15:26:53,358] Trial 618 finished with value: 0.15852317471156613 and parameters: {'x': 0.8408580885048382, 'y': 0.7435384928462965}. Best is trial 493 with value: 0.000442502037418168.\n",
      "[I 2024-09-19 15:26:53,371] Trial 619 finished with value: 1.0049116116023156 and parameters: {'x': 1.0621609587987586, 'y': 1.2282382700246324}. Best is trial 493 with value: 0.000442502037418168.\n",
      "[I 2024-09-19 15:26:53,383] Trial 620 finished with value: 1121.8126218983382 and parameters: {'x': 1.2233549851642194, 'y': -1.852675239298407}. Best is trial 493 with value: 0.000442502037418168.\n",
      "[I 2024-09-19 15:26:53,396] Trial 621 finished with value: 801.905932263475 and parameters: {'x': 1.954913336116182, 'y': 0.991502283521312}. Best is trial 493 with value: 0.000442502037418168.\n",
      "[I 2024-09-19 15:26:53,409] Trial 622 finished with value: 594.763856082325 and parameters: {'x': 1.816830222738413, 'y': 0.8634622763980397}. Best is trial 493 with value: 0.000442502037418168.\n",
      "[I 2024-09-19 15:26:53,423] Trial 623 finished with value: 8.682119584824333 and parameters: {'x': 0.8972026770827899, 'y': 1.0994476392263703}. Best is trial 493 with value: 0.000442502037418168.\n",
      "[I 2024-09-19 15:26:53,435] Trial 624 finished with value: 4.236696849254983 and parameters: {'x': 0.9754630293085746, 'y': 0.7457103675438814}. Best is trial 493 with value: 0.000442502037418168.\n",
      "[I 2024-09-19 15:26:53,447] Trial 625 finished with value: 7.806597643788954 and parameters: {'x': 0.8189365809683666, 'y': 0.949472720092789}. Best is trial 493 with value: 0.000442502037418168.\n",
      "[I 2024-09-19 15:26:53,462] Trial 626 finished with value: 0.012499635386421754 and parameters: {'x': 0.9199858161712597, 'y': 0.8385653388537542}. Best is trial 493 with value: 0.000442502037418168.\n",
      "[I 2024-09-19 15:26:53,473] Trial 627 finished with value: 24.460577707555963 and parameters: {'x': 1.1409335320005316, 'y': 0.8073538047508003}. Best is trial 493 with value: 0.000442502037418168.\n",
      "[I 2024-09-19 15:26:53,486] Trial 628 finished with value: 0.7644617447610133 and parameters: {'x': 0.8976676807576486, 'y': 0.7189746766552159}. Best is trial 493 with value: 0.000442502037418168.\n",
      "[I 2024-09-19 15:26:53,498] Trial 629 finished with value: 2.0337365465045805 and parameters: {'x': 1.0186503691215225, 'y': 1.1802455138276635}. Best is trial 493 with value: 0.000442502037418168.\n"
     ]
    },
    {
     "name": "stderr",
     "output_type": "stream",
     "text": [
      "[I 2024-09-19 15:26:53,510] Trial 630 finished with value: 3.150709027315092 and parameters: {'x': 0.8136661936673342, 'y': 0.8385743090833226}. Best is trial 493 with value: 0.000442502037418168.\n",
      "[I 2024-09-19 15:26:53,522] Trial 631 finished with value: 124.3539383380199 and parameters: {'x': 1.4776803320640717, 'y': 1.0694217559596508}. Best is trial 493 with value: 0.000442502037418168.\n",
      "[I 2024-09-19 15:26:53,534] Trial 632 finished with value: 257.30632977133115 and parameters: {'x': 1.0778915293129039, 'y': -0.4422080254200481}. Best is trial 493 with value: 0.000442502037418168.\n",
      "[I 2024-09-19 15:26:53,547] Trial 633 finished with value: 0.30981964396085604 and parameters: {'x': 0.9330696612752472, 'y': 0.9258765690799997}. Best is trial 493 with value: 0.000442502037418168.\n",
      "[I 2024-09-19 15:26:53,559] Trial 634 finished with value: 0.84442324650054 and parameters: {'x': 0.9574720347536279, 'y': 1.0085467395532821}. Best is trial 493 with value: 0.000442502037418168.\n",
      "[I 2024-09-19 15:26:53,571] Trial 635 finished with value: 0.0528107168923749 and parameters: {'x': 0.8749342003085135, 'y': 0.7462305232835992}. Best is trial 493 with value: 0.000442502037418168.\n",
      "[I 2024-09-19 15:26:53,583] Trial 636 finished with value: 0.5318252961725605 and parameters: {'x': 0.8152168189260243, 'y': 0.7351249339307461}. Best is trial 493 with value: 0.000442502037418168.\n",
      "[I 2024-09-19 15:26:53,595] Trial 637 finished with value: 0.4182581187900936 and parameters: {'x': 0.8147023311707822, 'y': 0.7257014000748905}. Best is trial 493 with value: 0.000442502037418168.\n",
      "[I 2024-09-19 15:26:53,607] Trial 638 finished with value: 0.19518275363318555 and parameters: {'x': 0.8501256643473126, 'y': 0.7642732935377688}. Best is trial 493 with value: 0.000442502037418168.\n",
      "[I 2024-09-19 15:26:53,619] Trial 639 finished with value: 0.019698767120565272 and parameters: {'x': 0.8955149819350889, 'y': 0.8113181277001779}. Best is trial 493 with value: 0.000442502037418168.\n",
      "[I 2024-09-19 15:26:53,631] Trial 640 finished with value: 2.6600567933976005 and parameters: {'x': 0.7942829532050658, 'y': 0.7926796398734964}. Best is trial 493 with value: 0.000442502037418168.\n",
      "[I 2024-09-19 15:26:53,643] Trial 641 finished with value: 1.175341937532283 and parameters: {'x': 0.8924283354975449, 'y': 0.6885501492473917}. Best is trial 493 with value: 0.000442502037418168.\n",
      "[I 2024-09-19 15:26:53,655] Trial 642 finished with value: 30.76142486834493 and parameters: {'x': -0.543774757028582, 'y': 0.8284027693176912}. Best is trial 493 with value: 0.000442502037418168.\n",
      "[I 2024-09-19 15:26:53,667] Trial 643 finished with value: 81.52676944071368 and parameters: {'x': 0.7849358913248422, 'y': -0.28654123724605485}. Best is trial 493 with value: 0.000442502037418168.\n",
      "[I 2024-09-19 15:26:53,679] Trial 644 finished with value: 0.9591693741920724 and parameters: {'x': 0.8919721114311597, 'y': 0.6982746693160997}. Best is trial 493 with value: 0.000442502037418168.\n",
      "[I 2024-09-19 15:26:53,692] Trial 645 finished with value: 0.13408991790762448 and parameters: {'x': 0.9601566212748999, 'y': 0.8854998550975987}. Best is trial 493 with value: 0.000442502037418168.\n",
      "[I 2024-09-19 15:26:53,705] Trial 646 finished with value: 0.0666272076738122 and parameters: {'x': 0.8762760239330397, 'y': 0.7905134966002061}. Best is trial 493 with value: 0.000442502037418168.\n",
      "[I 2024-09-19 15:26:53,717] Trial 647 finished with value: 414.95579633050124 and parameters: {'x': 1.0058853198428603, 'y': -1.0252410205243527}. Best is trial 493 with value: 0.000442502037418168.\n",
      "[I 2024-09-19 15:26:53,728] Trial 648 finished with value: 5.817709736483096 and parameters: {'x': 0.8059289827299585, 'y': 0.8899387911552181}. Best is trial 493 with value: 0.000442502037418168.\n",
      "[I 2024-09-19 15:26:53,740] Trial 649 finished with value: 34.13419979264643 and parameters: {'x': -1.1144165254033598, 'y': 0.6972826351966688}. Best is trial 493 with value: 0.000442502037418168.\n",
      "[I 2024-09-19 15:26:53,753] Trial 650 finished with value: 1.0842279425434207 and parameters: {'x': 0.9484014054074515, 'y': 0.7954668831199438}. Best is trial 493 with value: 0.000442502037418168.\n",
      "[I 2024-09-19 15:26:53,774] Trial 651 finished with value: 6.1107491144371835 and parameters: {'x': 1.0928864485163432, 'y': 0.9473760694921218}. Best is trial 493 with value: 0.000442502037418168.\n",
      "[I 2024-09-19 15:26:53,791] Trial 652 finished with value: 0.20674369540678722 and parameters: {'x': 0.8948657553265471, 'y': 0.8450216374446553}. Best is trial 493 with value: 0.000442502037418168.\n",
      "[I 2024-09-19 15:26:53,804] Trial 653 finished with value: 6.0488927180661225 and parameters: {'x': 0.9846108148519883, 'y': 0.7235183036161479}. Best is trial 493 with value: 0.000442502037418168.\n",
      "[I 2024-09-19 15:26:53,816] Trial 654 finished with value: 13.251111455380624 and parameters: {'x': 0.7563603681198808, 'y': 0.9352855106354756}. Best is trial 493 with value: 0.000442502037418168.\n",
      "[I 2024-09-19 15:26:53,829] Trial 655 finished with value: 24.22289565655224 and parameters: {'x': 1.1668280389311412, 'y': 0.8696028885486633}. Best is trial 493 with value: 0.000442502037418168.\n",
      "[I 2024-09-19 15:26:53,842] Trial 656 finished with value: 0.5033823192866397 and parameters: {'x': 0.8456062722907753, 'y': 0.7842991479586912}. Best is trial 493 with value: 0.000442502037418168.\n",
      "[I 2024-09-19 15:26:53,854] Trial 657 finished with value: 48.82808602220244 and parameters: {'x': 0.012281268580740322, 'y': 0.6919058275869219}. Best is trial 493 with value: 0.000442502037418168.\n",
      "[I 2024-09-19 15:26:53,866] Trial 658 finished with value: 1.7996755704779552 and parameters: {'x': 1.0625344962772718, 'y': 0.9949733989335753}. Best is trial 493 with value: 0.000442502037418168.\n",
      "[I 2024-09-19 15:26:53,879] Trial 659 finished with value: 2.9858707109901377 and parameters: {'x': 0.9827064093206599, 'y': 0.7929238189663691}. Best is trial 493 with value: 0.000442502037418168.\n",
      "[I 2024-09-19 15:26:53,891] Trial 660 finished with value: 7.5964481101560075 and parameters: {'x': 0.7934447053718253, 'y': 0.9043959642470059}. Best is trial 493 with value: 0.000442502037418168.\n",
      "[I 2024-09-19 15:26:53,904] Trial 661 finished with value: 6.398273249998273 and parameters: {'x': -0.7310125013316418, 'y': 0.7188208388573166}. Best is trial 493 with value: 0.000442502037418168.\n",
      "[I 2024-09-19 15:26:53,916] Trial 662 finished with value: 0.1398569673762445 and parameters: {'x': 0.9019808756082399, 'y': 0.8496595565755587}. Best is trial 493 with value: 0.000442502037418168.\n",
      "[I 2024-09-19 15:26:53,927] Trial 663 finished with value: 1.5142287640834038 and parameters: {'x': 1.0469859356855118, 'y': 0.9732152829280009}. Best is trial 493 with value: 0.000442502037418168.\n",
      "[I 2024-09-19 15:26:53,940] Trial 664 finished with value: 3.2256517169614396 and parameters: {'x': 0.9232677628657779, 'y': 1.0318603670700297}. Best is trial 493 with value: 0.000442502037418168.\n",
      "[I 2024-09-19 15:26:53,953] Trial 665 finished with value: 49.850903007506034 and parameters: {'x': 0.273208176541475, 'y': 0.7769437589376423}. Best is trial 493 with value: 0.000442502037418168.\n",
      "[I 2024-09-19 15:26:53,968] Trial 666 finished with value: 3.8211794286146983 and parameters: {'x': 0.8433255173585554, 'y': 0.9060474223281044}. Best is trial 493 with value: 0.000442502037418168.\n",
      "[I 2024-09-19 15:26:53,983] Trial 667 finished with value: 74.85433347081751 and parameters: {'x': 1.2288212340962372, 'y': 0.6451202790896517}. Best is trial 493 with value: 0.000442502037418168.\n",
      "[I 2024-09-19 15:26:53,997] Trial 668 finished with value: 6.654109285301026 and parameters: {'x': 0.9905100692101689, 'y': 0.7231563403541053}. Best is trial 493 with value: 0.000442502037418168.\n",
      "[I 2024-09-19 15:26:54,011] Trial 669 finished with value: 8.15509983136087 and parameters: {'x': 0.7660181407102816, 'y': 0.8713949708920928}. Best is trial 493 with value: 0.000442502037418168.\n",
      "[I 2024-09-19 15:26:54,027] Trial 670 finished with value: 1.190079671980168 and parameters: {'x': 1.1201785805247413, 'y': 1.1463732667951567}. Best is trial 493 with value: 0.000442502037418168.\n",
      "[I 2024-09-19 15:26:54,040] Trial 671 finished with value: 29.072527646709375 and parameters: {'x': 0.9015591539752431, 'y': 1.3519085004605247}. Best is trial 493 with value: 0.000442502037418168.\n"
     ]
    },
    {
     "name": "stderr",
     "output_type": "stream",
     "text": [
      "[I 2024-09-19 15:26:54,053] Trial 672 finished with value: 0.03898293999715833 and parameters: {'x': 1.0156126843775246, 'y': 1.0117868524207128}. Best is trial 493 with value: 0.000442502037418168.\n",
      "[I 2024-09-19 15:26:54,068] Trial 673 finished with value: 7.400004183360896 and parameters: {'x': 1.1459602857949327, 'y': 1.0415873544397356}. Best is trial 493 with value: 0.000442502037418168.\n",
      "[I 2024-09-19 15:26:54,083] Trial 674 finished with value: 1.4920304271526337 and parameters: {'x': 1.0586131563040853, 'y': 1.2426698031705543}. Best is trial 493 with value: 0.000442502037418168.\n",
      "[I 2024-09-19 15:26:54,098] Trial 675 finished with value: 71.95158388313845 and parameters: {'x': -0.411162699271856, 'y': -0.6673673991834588}. Best is trial 493 with value: 0.000442502037418168.\n",
      "[I 2024-09-19 15:26:54,111] Trial 676 finished with value: 0.8151483032698853 and parameters: {'x': 1.044176523657617, 'y': 1.000127190880913}. Best is trial 493 with value: 0.000442502037418168.\n",
      "[I 2024-09-19 15:26:54,125] Trial 677 finished with value: 31.387843700945183 and parameters: {'x': 1.1807647097637646, 'y': 1.9541621537028862}. Best is trial 493 with value: 0.000442502037418168.\n",
      "[I 2024-09-19 15:26:54,138] Trial 678 finished with value: 2.656378649342497 and parameters: {'x': 0.9693087588203858, 'y': 1.1025145771504943}. Best is trial 493 with value: 0.000442502037418168.\n",
      "[I 2024-09-19 15:26:54,152] Trial 679 finished with value: 770.5077267291254 and parameters: {'x': 1.107159570222589, 'y': -1.5499790959663189}. Best is trial 493 with value: 0.000442502037418168.\n",
      "[I 2024-09-19 15:26:54,165] Trial 680 finished with value: 0.3846483758713087 and parameters: {'x': 1.0117563790940036, 'y': 0.9616420871269066}. Best is trial 493 with value: 0.000442502037418168.\n",
      "[I 2024-09-19 15:26:54,178] Trial 681 finished with value: 16.557855058361593 and parameters: {'x': 1.24412541002908, 'y': 1.1416675606902442}. Best is trial 493 with value: 0.000442502037418168.\n",
      "[I 2024-09-19 15:26:54,192] Trial 682 finished with value: 1.4509997983873697 and parameters: {'x': 0.9630777316717148, 'y': 1.0479195704153605}. Best is trial 493 with value: 0.000442502037418168.\n",
      "[I 2024-09-19 15:26:54,207] Trial 683 finished with value: 4.540525849960706 and parameters: {'x': 1.07744029686109, 'y': 0.9479332613637422}. Best is trial 493 with value: 0.000442502037418168.\n",
      "[I 2024-09-19 15:26:54,221] Trial 684 finished with value: 1.4258088465033745 and parameters: {'x': 0.9354556564459612, 'y': 0.9943099515991031}. Best is trial 493 with value: 0.000442502037418168.\n",
      "[I 2024-09-19 15:26:54,235] Trial 685 finished with value: 1.5676090958435411 and parameters: {'x': 1.0279004460972487, 'y': 1.1817524336614231}. Best is trial 493 with value: 0.000442502037418168.\n",
      "[I 2024-09-19 15:26:54,248] Trial 686 finished with value: 5.073069247326518 and parameters: {'x': 0.8302627237761309, 'y': 0.913930458103482}. Best is trial 493 with value: 0.000442502037418168.\n",
      "[I 2024-09-19 15:26:54,262] Trial 687 finished with value: 307.8238978583689 and parameters: {'x': 1.6110715323540803, 'y': 0.8421248672999038}. Best is trial 493 with value: 0.000442502037418168.\n",
      "[I 2024-09-19 15:26:54,276] Trial 688 finished with value: 21.44847276246342 and parameters: {'x': 0.7640810791046846, 'y': 1.0463435707882098}. Best is trial 493 with value: 0.000442502037418168.\n",
      "[I 2024-09-19 15:26:54,290] Trial 689 finished with value: 5.073772923922407 and parameters: {'x': 0.9318827703090273, 'y': 1.093552848614593}. Best is trial 493 with value: 0.000442502037418168.\n",
      "[I 2024-09-19 15:26:54,302] Trial 690 finished with value: 12.239617556205475 and parameters: {'x': 1.1257992617598398, 'y': 0.9177985767860781}. Best is trial 493 with value: 0.000442502037418168.\n",
      "[I 2024-09-19 15:26:54,316] Trial 691 finished with value: 4.2818857546950175 and parameters: {'x': 1.0092062751745494, 'y': 0.8115721744830596}. Best is trial 493 with value: 0.000442502037418168.\n",
      "[I 2024-09-19 15:26:54,330] Trial 692 finished with value: 5.744653873436194 and parameters: {'x': 0.8710658785837118, 'y': 0.9980887935975624}. Best is trial 493 with value: 0.000442502037418168.\n",
      "[I 2024-09-19 15:26:54,344] Trial 693 finished with value: 27.398013742704784 and parameters: {'x': 1.1801865750226457, 'y': 0.869719462002779}. Best is trial 493 with value: 0.000442502037418168.\n",
      "[I 2024-09-19 15:26:54,358] Trial 694 finished with value: 3.931452946536465 and parameters: {'x': 0.9708547172629858, 'y': 1.1408163787130183}. Best is trial 493 with value: 0.000442502037418168.\n",
      "[I 2024-09-19 15:26:54,372] Trial 695 finished with value: 20.061311016088396 and parameters: {'x': 1.3142113258968764, 'y': 1.2803563525318884}. Best is trial 493 with value: 0.000442502037418168.\n",
      "[I 2024-09-19 15:26:54,386] Trial 696 finished with value: 3.1304866028088294 and parameters: {'x': 1.0689594645582117, 'y': 0.9658769614622487}. Best is trial 493 with value: 0.000442502037418168.\n",
      "[I 2024-09-19 15:26:54,401] Trial 697 finished with value: 2.209731719439182 and parameters: {'x': 0.8134702963942049, 'y': 0.8092106463336775}. Best is trial 493 with value: 0.000442502037418168.\n",
      "[I 2024-09-19 15:26:54,415] Trial 698 finished with value: 1.4689573645015257 and parameters: {'x': 0.8856208457759499, 'y': 0.6636646465717295}. Best is trial 493 with value: 0.000442502037418168.\n",
      "[I 2024-09-19 15:26:54,430] Trial 699 finished with value: 43.42859412108675 and parameters: {'x': 1.0016158792749645, 'y': 1.6622380988162933}. Best is trial 493 with value: 0.000442502037418168.\n",
      "[I 2024-09-19 15:26:54,444] Trial 700 finished with value: 4.404690358871293 and parameters: {'x': 0.9208351591474858, 'y': 1.0576615731634513}. Best is trial 493 with value: 0.000442502037418168.\n",
      "[I 2024-09-19 15:26:54,459] Trial 701 finished with value: 9.545027817619834 and parameters: {'x': 0.782801156918608, 'y': 0.9209635120809025}. Best is trial 493 with value: 0.000442502037418168.\n",
      "[I 2024-09-19 15:26:54,472] Trial 702 finished with value: 0.010360706869712182 and parameters: {'x': 1.099819890245886, 'y': 1.2076120671516966}. Best is trial 493 with value: 0.000442502037418168.\n",
      "[I 2024-09-19 15:26:54,491] Trial 703 finished with value: 1.847319319995337 and parameters: {'x': 1.2266944615796584, 'y': 1.3707670287112188}. Best is trial 493 with value: 0.000442502037418168.\n",
      "[I 2024-09-19 15:26:54,506] Trial 704 finished with value: 0.10728224078854598 and parameters: {'x': 1.1654151923495328, 'y': 1.3299224352696253}. Best is trial 493 with value: 0.000442502037418168.\n",
      "[I 2024-09-19 15:26:54,520] Trial 705 finished with value: 0.25568070861513326 and parameters: {'x': 1.1331785439893134, 'y': 1.2353140898011552}. Best is trial 493 with value: 0.000442502037418168.\n",
      "[I 2024-09-19 15:26:54,534] Trial 706 finished with value: 1.7459950552985668 and parameters: {'x': 1.2622269814048586, 'y': 1.4637089580253957}. Best is trial 493 with value: 0.000442502037418168.\n",
      "[I 2024-09-19 15:26:54,550] Trial 707 finished with value: 0.7117807512159514 and parameters: {'x': 1.0924571460844978, 'y': 1.2773215706724277}. Best is trial 493 with value: 0.000442502037418168.\n",
      "[I 2024-09-19 15:26:54,563] Trial 708 finished with value: 50.37574536576632 and parameters: {'x': 1.361908808230661, 'y': 1.1459601670129522}. Best is trial 493 with value: 0.000442502037418168.\n",
      "[I 2024-09-19 15:26:54,576] Trial 709 finished with value: 0.7447415901469928 and parameters: {'x': 1.088661944537327, 'y': 1.0993430768375523}. Best is trial 493 with value: 0.000442502037418168.\n",
      "[I 2024-09-19 15:26:54,590] Trial 710 finished with value: 0.41045783782117934 and parameters: {'x': 1.0352647669753112, 'y': 1.1357429926747311}. Best is trial 493 with value: 0.000442502037418168.\n",
      "[I 2024-09-19 15:26:54,604] Trial 711 finished with value: 4.305120721922419 and parameters: {'x': 1.186971126314003, 'y': 1.2022567390995054}. Best is trial 493 with value: 0.000442502037418168.\n",
      "[I 2024-09-19 15:26:54,618] Trial 712 finished with value: 0.019350676507086006 and parameters: {'x': 1.0303831560533414, 'y': 1.0481146406056543}. Best is trial 493 with value: 0.000442502037418168.\n",
      "[I 2024-09-19 15:26:54,632] Trial 713 finished with value: 0.02141327168022209 and parameters: {'x': 1.1140956925512397, 'y': 1.232046546271064}. Best is trial 493 with value: 0.000442502037418168.\n"
     ]
    },
    {
     "name": "stderr",
     "output_type": "stream",
     "text": [
      "[I 2024-09-19 15:26:54,646] Trial 714 finished with value: 23.143743476256816 and parameters: {'x': 1.301142940051117, 'y': 1.212836965478999}. Best is trial 493 with value: 0.000442502037418168.\n",
      "[I 2024-09-19 15:26:54,661] Trial 715 finished with value: 5.081911699071389 and parameters: {'x': 1.2169584429758347, 'y': 1.2566033441518256}. Best is trial 493 with value: 0.000442502037418168.\n",
      "[I 2024-09-19 15:26:54,675] Trial 716 finished with value: 1.4990097087909482 and parameters: {'x': 1.1414423103962514, 'y': 1.4245048473530886}. Best is trial 493 with value: 0.000442502037418168.\n",
      "[I 2024-09-19 15:26:54,689] Trial 717 finished with value: 1.8803506607538616 and parameters: {'x': 1.149824438220306, 'y': 1.1857913122415256}. Best is trial 493 with value: 0.000442502037418168.\n",
      "[I 2024-09-19 15:26:54,705] Trial 718 finished with value: 0.9267321882186934 and parameters: {'x': 1.0958681161741795, 'y': 1.296715314217907}. Best is trial 493 with value: 0.000442502037418168.\n",
      "[I 2024-09-19 15:26:54,720] Trial 719 finished with value: 3.453431048435936 and parameters: {'x': 1.246145793448053, 'y': 1.3686826149742535}. Best is trial 493 with value: 0.000442502037418168.\n",
      "[I 2024-09-19 15:26:54,733] Trial 720 finished with value: 0.06312113020261904 and parameters: {'x': 1.0736049217549368, 'y': 1.1766490695356664}. Best is trial 493 with value: 0.000442502037418168.\n",
      "[I 2024-09-19 15:26:54,747] Trial 721 finished with value: 10.138836683687234 and parameters: {'x': 1.1899787066381582, 'y': 1.0982011702250123}. Best is trial 493 with value: 0.000442502037418168.\n",
      "[I 2024-09-19 15:26:54,760] Trial 722 finished with value: 96.3583198758084 and parameters: {'x': 1.4278808518595991, 'y': 1.0581539807939135}. Best is trial 493 with value: 0.000442502037418168.\n",
      "[I 2024-09-19 15:26:54,774] Trial 723 finished with value: 16.029786652024633 and parameters: {'x': 1.0579536098156608, 'y': 1.5195960546094827}. Best is trial 493 with value: 0.000442502037418168.\n",
      "[I 2024-09-19 15:26:54,788] Trial 724 finished with value: 3.2690337521808996 and parameters: {'x': 1.0396678863868296, 'y': 1.2616704882159844}. Best is trial 493 with value: 0.000442502037418168.\n",
      "[I 2024-09-19 15:26:54,802] Trial 725 finished with value: 0.5113487529059969 and parameters: {'x': 1.1293102473844157, 'y': 1.2050118678332349}. Best is trial 493 with value: 0.000442502037418168.\n",
      "[I 2024-09-19 15:26:54,817] Trial 726 finished with value: 0.006457221765325628 and parameters: {'x': 1.0202116412201878, 'y': 1.0486091390381453}. Best is trial 493 with value: 0.000442502037418168.\n",
      "[I 2024-09-19 15:26:54,831] Trial 727 finished with value: 34.481354107049064 and parameters: {'x': 1.2756096804475654, 'y': 1.0406189482610313}. Best is trial 493 with value: 0.000442502037418168.\n",
      "[I 2024-09-19 15:26:54,844] Trial 728 finished with value: 2.867936415645656 and parameters: {'x': 1.1356261736788789, 'y': 1.120840942801262}. Best is trial 493 with value: 0.000442502037418168.\n",
      "[I 2024-09-19 15:26:54,858] Trial 729 finished with value: 151.42718144207524 and parameters: {'x': 1.0292765023919574, 'y': -0.1711439207804626}. Best is trial 493 with value: 0.000442502037418168.\n",
      "[I 2024-09-19 15:26:54,871] Trial 730 finished with value: 1.3588525585941824 and parameters: {'x': 1.079706560767538, 'y': 1.0494692486856176}. Best is trial 493 with value: 0.000442502037418168.\n",
      "[I 2024-09-19 15:26:54,884] Trial 731 finished with value: 1.256099322842385 and parameters: {'x': 1.0052325489507739, 'y': 1.1225670929400264}. Best is trial 493 with value: 0.000442502037418168.\n",
      "[I 2024-09-19 15:26:54,897] Trial 732 finished with value: 11.11659682304401 and parameters: {'x': 1.1572159001711104, 'y': 1.0061038981133792}. Best is trial 493 with value: 0.000442502037418168.\n",
      "[I 2024-09-19 15:26:54,910] Trial 733 finished with value: 6.987068018424352 and parameters: {'x': 0.9891078091581629, 'y': 1.242662640620568}. Best is trial 493 with value: 0.000442502037418168.\n",
      "[I 2024-09-19 15:26:54,923] Trial 734 finished with value: 1.5512402998339314 and parameters: {'x': 1.102400431311905, 'y': 1.339413841411747}. Best is trial 493 with value: 0.000442502037418168.\n",
      "[I 2024-09-19 15:26:54,936] Trial 735 finished with value: 13.032041580740556 and parameters: {'x': 1.229864651160895, 'y': 1.1523004391444178}. Best is trial 493 with value: 0.000442502037418168.\n",
      "[I 2024-09-19 15:26:54,949] Trial 736 finished with value: 0.27337300800034725 and parameters: {'x': 1.031218446813582, 'y': 1.011219683338109}. Best is trial 493 with value: 0.000442502037418168.\n",
      "[I 2024-09-19 15:26:54,963] Trial 737 finished with value: 1.3558578280404363 and parameters: {'x': 0.9912330288557899, 'y': 1.0989809253896998}. Best is trial 493 with value: 0.000442502037418168.\n",
      "[I 2024-09-19 15:26:54,977] Trial 738 finished with value: 3.888961648782442 and parameters: {'x': 1.0862961388101795, 'y': 0.9830237021868998}. Best is trial 493 with value: 0.000442502037418168.\n",
      "[I 2024-09-19 15:26:54,991] Trial 739 finished with value: 132.5487044039526 and parameters: {'x': -0.19228478592671772, 'y': 1.1820811255083146}. Best is trial 493 with value: 0.000442502037418168.\n",
      "[I 2024-09-19 15:26:55,006] Trial 740 finished with value: 11.566909502083044 and parameters: {'x': 1.1875942519295335, 'y': 1.0707962751697524}. Best is trial 493 with value: 0.000442502037418168.\n",
      "[I 2024-09-19 15:26:55,019] Trial 741 finished with value: 0.08532216526606332 and parameters: {'x': 0.9695253857797594, 'y': 0.9690300267047143}. Best is trial 493 with value: 0.000442502037418168.\n",
      "[I 2024-09-19 15:26:55,032] Trial 742 finished with value: 14.332055606165412 and parameters: {'x': 0.9701914086077748, 'y': 1.3198366484368471}. Best is trial 493 with value: 0.000442502037418168.\n",
      "[I 2024-09-19 15:26:55,045] Trial 743 finished with value: 56.86917973144319 and parameters: {'x': 1.3381981104955938, 'y': 1.0374163544785986}. Best is trial 493 with value: 0.000442502037418168.\n",
      "[I 2024-09-19 15:26:55,058] Trial 744 finished with value: 0.1403693307073656 and parameters: {'x': 1.0540581425544482, 'y': 1.1481124195777228}. Best is trial 493 with value: 0.000442502037418168.\n",
      "[I 2024-09-19 15:26:55,070] Trial 745 finished with value: 14.813085639281278 and parameters: {'x': 1.150655091528889, 'y': 0.9394243958639032}. Best is trial 493 with value: 0.000442502037418168.\n",
      "[I 2024-09-19 15:26:55,084] Trial 746 finished with value: 10.312180590653488 and parameters: {'x': 0.9586709288141085, 'y': 1.240149194513059}. Best is trial 493 with value: 0.000442502037418168.\n",
      "[I 2024-09-19 15:26:55,097] Trial 747 finished with value: 0.9785125024910803 and parameters: {'x': 1.0504074407119546, 'y': 1.0045645169686974}. Best is trial 493 with value: 0.000442502037418168.\n",
      "[I 2024-09-19 15:26:55,110] Trial 748 finished with value: 2.3014468229599823 and parameters: {'x': 0.9491134070575656, 'y': 1.0524360925132699}. Best is trial 493 with value: 0.000442502037418168.\n",
      "[I 2024-09-19 15:26:55,122] Trial 749 finished with value: 7.624621172907003 and parameters: {'x': 1.0989847548789051, 'y': 0.9318178005484921}. Best is trial 493 with value: 0.000442502037418168.\n",
      "[I 2024-09-19 15:26:55,135] Trial 750 finished with value: 1.3071241182613957 and parameters: {'x': 0.9893803747796388, 'y': 1.0931981227323289}. Best is trial 493 with value: 0.000442502037418168.\n",
      "[I 2024-09-19 15:26:55,147] Trial 751 finished with value: 7.53486486446577 and parameters: {'x': 1.215996613492044, 'y': 1.2050018189157412}. Best is trial 493 with value: 0.000442502037418168.\n",
      "[I 2024-09-19 15:26:55,160] Trial 752 finished with value: 1.8226004151671882 and parameters: {'x': 1.040854368839113, 'y': 0.9484359283158027}. Best is trial 493 with value: 0.000442502037418168.\n",
      "[I 2024-09-19 15:26:55,173] Trial 753 finished with value: 1.2321879290378808 and parameters: {'x': 0.9427537842629247, 'y': 0.999640946994043}. Best is trial 493 with value: 0.000442502037418168.\n",
      "[I 2024-09-19 15:26:55,185] Trial 754 finished with value: 1.9718142313272635 and parameters: {'x': 1.1326087736584634, 'y': 1.422596380254141}. Best is trial 493 with value: 0.000442502037418168.\n",
      "[I 2024-09-19 15:26:55,198] Trial 755 finished with value: 2.512868690982236 and parameters: {'x': 1.0242663125646658, 'y': 0.8906197491886504}. Best is trial 493 with value: 0.000442502037418168.\n"
     ]
    },
    {
     "name": "stderr",
     "output_type": "stream",
     "text": [
      "[I 2024-09-19 15:26:55,211] Trial 756 finished with value: 7.634846435722613 and parameters: {'x': 0.9088627515767894, 'y': 1.1021934181595734}. Best is trial 493 with value: 0.000442502037418168.\n",
      "[I 2024-09-19 15:26:55,224] Trial 757 finished with value: 1.1687330403064728 and parameters: {'x': 1.0893402868389284, 'y': 1.2944004317350506}. Best is trial 493 with value: 0.000442502037418168.\n",
      "[I 2024-09-19 15:26:55,239] Trial 758 finished with value: 8.280397206939657 and parameters: {'x': 1.20737283796029, 'y': 1.170740568701114}. Best is trial 493 with value: 0.000442502037418168.\n",
      "[I 2024-09-19 15:26:55,252] Trial 759 finished with value: 0.2173293459902658 and parameters: {'x': 0.9308846335516541, 'y': 0.9126496078101818}. Best is trial 493 with value: 0.000442502037418168.\n",
      "[I 2024-09-19 15:26:55,265] Trial 760 finished with value: 0.31085813326618866 and parameters: {'x': 0.9892492205325639, 'y': 1.0343583073864615}. Best is trial 493 with value: 0.000442502037418168.\n",
      "[I 2024-09-19 15:26:55,279] Trial 761 finished with value: 4.929554864894375 and parameters: {'x': 1.0904049217338054, 'y': 0.9671410168837564}. Best is trial 493 with value: 0.000442502037418168.\n",
      "[I 2024-09-19 15:26:55,291] Trial 762 finished with value: 0.12632221584151873 and parameters: {'x': 0.921141184218694, 'y': 0.8831570335685935}. Best is trial 493 with value: 0.000442502037418168.\n",
      "[I 2024-09-19 15:26:55,304] Trial 763 finished with value: 0.5286945275542323 and parameters: {'x': 1.0107923571575133, 'y': 1.0944045628398391}. Best is trial 493 with value: 0.000442502037418168.\n",
      "[I 2024-09-19 15:26:55,317] Trial 764 finished with value: 8.87240568162945 and parameters: {'x': 1.1366343344606742, 'y': 0.9943853167149554}. Best is trial 493 with value: 0.000442502037418168.\n",
      "[I 2024-09-19 15:26:55,329] Trial 765 finished with value: 13.709039255106221 and parameters: {'x': 1.2555883017096705, 'y': 1.2071280011562415}. Best is trial 493 with value: 0.000442502037418168.\n",
      "[I 2024-09-19 15:26:55,343] Trial 766 finished with value: 0.42326743582392595 and parameters: {'x': 0.9096765808416999, 'y': 0.8919404438355053}. Best is trial 493 with value: 0.000442502037418168.\n",
      "[I 2024-09-19 15:26:55,356] Trial 767 finished with value: 0.015224295828801518 and parameters: {'x': 1.0354453523660658, 'y': 1.0603284810243352}. Best is trial 493 with value: 0.000442502037418168.\n",
      "[I 2024-09-19 15:26:55,368] Trial 768 finished with value: 0.38430408353734113 and parameters: {'x': 1.0646772957979542, 'y': 1.0718837961432892}. Best is trial 493 with value: 0.000442502037418168.\n",
      "[I 2024-09-19 15:26:55,381] Trial 769 finished with value: 9.581562879724789 and parameters: {'x': 1.199330608714216, 'y': 1.1294953789253521}. Best is trial 493 with value: 0.000442502037418168.\n",
      "[I 2024-09-19 15:26:55,394] Trial 770 finished with value: 2.270164272569041 and parameters: {'x': 1.1485416096566012, 'y': 1.1692111870676893}. Best is trial 493 with value: 0.000442502037418168.\n",
      "[I 2024-09-19 15:26:55,408] Trial 771 finished with value: 0.4031042054992657 and parameters: {'x': 1.028516416239469, 'y': 0.9944196028805662}. Best is trial 493 with value: 0.000442502037418168.\n",
      "[I 2024-09-19 15:26:55,421] Trial 772 finished with value: 0.0170741017904052 and parameters: {'x': 1.1167575327820256, 'y': 1.253014055866451}. Best is trial 493 with value: 0.000442502037418168.\n",
      "[I 2024-09-19 15:26:55,434] Trial 773 finished with value: 0.8945715417428284 and parameters: {'x': 1.1848559038673803, 'y': 1.3111257727376269}. Best is trial 493 with value: 0.000442502037418168.\n",
      "[I 2024-09-19 15:26:55,447] Trial 774 finished with value: 2.629500169684232 and parameters: {'x': 1.2346760987404408, 'y': 1.3639748491574315}. Best is trial 493 with value: 0.000442502037418168.\n",
      "[I 2024-09-19 15:26:55,460] Trial 775 finished with value: 1.6233023512223235 and parameters: {'x': 1.1401367166269814, 'y': 1.4265475905510354}. Best is trial 493 with value: 0.000442502037418168.\n",
      "[I 2024-09-19 15:26:55,473] Trial 776 finished with value: 37.15753439723261 and parameters: {'x': -1.3299253261110677, 'y': 1.2054165217176713}. Best is trial 493 with value: 0.000442502037418168.\n",
      "[I 2024-09-19 15:26:55,486] Trial 777 finished with value: 15.899598968704074 and parameters: {'x': 1.2832601594659003, 'y': 1.2490210129868897}. Best is trial 493 with value: 0.000442502037418168.\n",
      "[I 2024-09-19 15:26:55,499] Trial 778 finished with value: 37.03996340009947 and parameters: {'x': 1.0898935623914587, 'y': 1.7964062468664563}. Best is trial 493 with value: 0.000442502037418168.\n",
      "[I 2024-09-19 15:26:55,512] Trial 779 finished with value: 13.467113338145358 and parameters: {'x': 1.2852935547125355, 'y': 1.286114506707827}. Best is trial 493 with value: 0.000442502037418168.\n",
      "[I 2024-09-19 15:26:55,525] Trial 780 finished with value: 66.09568464433235 and parameters: {'x': 1.3996467693741617, 'y': 1.1470014294213153}. Best is trial 493 with value: 0.000442502037418168.\n",
      "[I 2024-09-19 15:26:55,540] Trial 781 finished with value: 28.05464048207868 and parameters: {'x': 1.3322340607225185, 'y': 1.246224276652395}. Best is trial 493 with value: 0.000442502037418168.\n",
      "[I 2024-09-19 15:26:55,553] Trial 782 finished with value: 6.141799943572306 and parameters: {'x': 1.15427857163916, 'y': 1.5797048934782216}. Best is trial 493 with value: 0.000442502037418168.\n",
      "[I 2024-09-19 15:26:55,566] Trial 783 finished with value: 7.542093247064961 and parameters: {'x': 1.0557752487022611, 'y': 1.38923344952887}. Best is trial 493 with value: 0.000442502037418168.\n",
      "[I 2024-09-19 15:26:55,579] Trial 784 finished with value: 2.9737615679036375 and parameters: {'x': 1.1177993337831376, 'y': 1.07743219076339}. Best is trial 493 with value: 0.000442502037418168.\n",
      "[I 2024-09-19 15:26:55,592] Trial 785 finished with value: 1.7471354277648952 and parameters: {'x': 1.0143186211833344, 'y': 1.1610137601203308}. Best is trial 493 with value: 0.000442502037418168.\n",
      "[I 2024-09-19 15:26:55,605] Trial 786 finished with value: 0.8856265740840558 and parameters: {'x': 1.0759947833839905, 'y': 1.0639643811740884}. Best is trial 493 with value: 0.000442502037418168.\n",
      "[I 2024-09-19 15:26:55,618] Trial 787 finished with value: 1.448521504009128 and parameters: {'x': 1.1942325711236814, 'y': 1.3074145333028084}. Best is trial 493 with value: 0.000442502037418168.\n",
      "[I 2024-09-19 15:26:55,630] Trial 788 finished with value: 0.1325149559986952 and parameters: {'x': 1.001253860079565, 'y': 1.0389116801351403}. Best is trial 493 with value: 0.000442502037418168.\n",
      "[I 2024-09-19 15:26:55,643] Trial 789 finished with value: 0.009636686839026137 and parameters: {'x': 1.0969560680754737, 'y': 1.2048495203021383}. Best is trial 493 with value: 0.000442502037418168.\n",
      "[I 2024-09-19 15:26:55,656] Trial 790 finished with value: 18.71330274893846 and parameters: {'x': 1.2941416236686578, 'y': 1.2432149675204043}. Best is trial 493 with value: 0.000442502037418168.\n",
      "[I 2024-09-19 15:26:55,668] Trial 791 finished with value: 0.2129879150381948 and parameters: {'x': 1.1932694363302188, 'y': 1.4658007582116097}. Best is trial 493 with value: 0.000442502037418168.\n",
      "[I 2024-09-19 15:26:55,681] Trial 792 finished with value: 0.42757302804963276 and parameters: {'x': 1.1215813436307935, 'y': 1.322193523982976}. Best is trial 493 with value: 0.000442502037418168.\n",
      "[I 2024-09-19 15:26:55,695] Trial 793 finished with value: 0.02685805917066588 and parameters: {'x': 1.089691424171043, 'y': 1.2011436339434698}. Best is trial 493 with value: 0.000442502037418168.\n",
      "[I 2024-09-19 15:26:55,709] Trial 794 finished with value: 11.598531300488581 and parameters: {'x': 1.2580576972693187, 'y': 1.2431221038658942}. Best is trial 493 with value: 0.000442502037418168.\n",
      "[I 2024-09-19 15:26:55,725] Trial 795 finished with value: 0.11718208482360756 and parameters: {'x': 1.1617269953721137, 'y': 1.319439019506442}. Best is trial 493 with value: 0.000442502037418168.\n",
      "[I 2024-09-19 15:26:55,740] Trial 796 finished with value: 291.9232197022445 and parameters: {'x': 1.7529465078360489, 'y': 1.365905259696837}. Best is trial 493 with value: 0.000442502037418168.\n",
      "[I 2024-09-19 15:26:55,752] Trial 797 finished with value: 0.266659998695518 and parameters: {'x': 1.090462720851466, 'y': 1.2399495292408182}. Best is trial 493 with value: 0.000442502037418168.\n"
     ]
    },
    {
     "name": "stderr",
     "output_type": "stream",
     "text": [
      "[I 2024-09-19 15:26:55,766] Trial 798 finished with value: 6.648043989271654 and parameters: {'x': 1.2021506665638544, 'y': 1.188121888530306}. Best is trial 493 with value: 0.000442502037418168.\n",
      "[I 2024-09-19 15:26:55,779] Trial 799 finished with value: 0.07590981134300731 and parameters: {'x': 1.1004578079960043, 'y': 1.1853523603511553}. Best is trial 493 with value: 0.000442502037418168.\n",
      "[I 2024-09-19 15:26:55,792] Trial 800 finished with value: 4.675062509155056 and parameters: {'x': 1.04137446534016, 'y': 1.3006401161024057}. Best is trial 493 with value: 0.000442502037418168.\n",
      "[I 2024-09-19 15:26:55,805] Trial 801 finished with value: 205.70175355260506 and parameters: {'x': -0.08666018134831105, 'y': 1.4376181060309912}. Best is trial 493 with value: 0.000442502037418168.\n",
      "[I 2024-09-19 15:26:55,818] Trial 802 finished with value: 3.3637779133820542 and parameters: {'x': 1.1648282333087885, 'y': 1.1741609259629568}. Best is trial 493 with value: 0.000442502037418168.\n",
      "[I 2024-09-19 15:26:55,831] Trial 803 finished with value: 28.162464397079916 and parameters: {'x': 1.3339870558263551, 'y': 1.2498903005871764}. Best is trial 493 with value: 0.000442502037418168.\n",
      "[I 2024-09-19 15:26:55,844] Trial 804 finished with value: 2.0471101598787134 and parameters: {'x': 0.9927564803581351, 'y': 1.1286408531541223}. Best is trial 493 with value: 0.000442502037418168.\n",
      "[I 2024-09-19 15:26:55,859] Trial 805 finished with value: 0.4494531122963298 and parameters: {'x': 1.0890356321038628, 'y': 1.119551202586367}. Best is trial 493 with value: 0.000442502037418168.\n",
      "[I 2024-09-19 15:26:55,872] Trial 806 finished with value: 14.455963936549821 and parameters: {'x': 1.2586741037106757, 'y': 1.2049314648103642}. Best is trial 493 with value: 0.000442502037418168.\n",
      "[I 2024-09-19 15:26:55,885] Trial 807 finished with value: 2.9420436999929707 and parameters: {'x': 0.9719707576818936, 'y': 1.1162281176801176}. Best is trial 493 with value: 0.000442502037418168.\n",
      "[I 2024-09-19 15:26:55,899] Trial 808 finished with value: 1.2375754007642723 and parameters: {'x': 1.0864762217966433, 'y': 1.2913403304989344}. Best is trial 493 with value: 0.000442502037418168.\n",
      "[I 2024-09-19 15:26:55,911] Trial 809 finished with value: 0.03633111934437017 and parameters: {'x': 1.1902570105046293, 'y': 1.417866693903404}. Best is trial 493 with value: 0.000442502037418168.\n",
      "[I 2024-09-19 15:26:55,925] Trial 810 finished with value: 133.1561937507909 and parameters: {'x': 1.5011132110032648, 'y': 1.1004962196584753}. Best is trial 493 with value: 0.000442502037418168.\n",
      "[I 2024-09-19 15:26:55,938] Trial 811 finished with value: 512.3699511244544 and parameters: {'x': -1.894235968422528, 'y': 1.3431502843729648}. Best is trial 493 with value: 0.000442502037418168.\n",
      "[I 2024-09-19 15:26:55,951] Trial 812 finished with value: 38.02814676016749 and parameters: {'x': 0.9388593956074518, 'y': 1.49809631301615}. Best is trial 493 with value: 0.000442502037418168.\n",
      "[I 2024-09-19 15:26:55,965] Trial 813 finished with value: 0.8772912454099975 and parameters: {'x': 1.0502043390100664, 'y': 1.196458334670304}. Best is trial 493 with value: 0.000442502037418168.\n",
      "[I 2024-09-19 15:26:55,983] Trial 814 finished with value: 90.12053028438453 and parameters: {'x': 0.17711830368347037, 'y': 0.977116081159958}. Best is trial 493 with value: 0.000442502037418168.\n",
      "[I 2024-09-19 15:26:55,997] Trial 815 finished with value: 188.51238402782 and parameters: {'x': -1.5714016498240748, 'y': 1.1205990352551398}. Best is trial 493 with value: 0.000442502037418168.\n",
      "[I 2024-09-19 15:26:56,010] Trial 816 finished with value: 0.16700452588910947 and parameters: {'x': 0.9598785749411342, 'y': 0.9620356377884342}. Best is trial 493 with value: 0.000442502037418168.\n",
      "[I 2024-09-19 15:26:56,024] Trial 817 finished with value: 0.2653712626708929 and parameters: {'x': 1.1302025633938153, 'y': 1.227516229677243}. Best is trial 493 with value: 0.000442502037418168.\n",
      "[I 2024-09-19 15:26:56,038] Trial 818 finished with value: 4.96676039383065 and parameters: {'x': 0.9135481340232499, 'y': 1.0572647478638153}. Best is trial 493 with value: 0.000442502037418168.\n",
      "[I 2024-09-19 15:26:56,051] Trial 819 finished with value: 2.9800883882321365 and parameters: {'x': 1.0411579811605958, 'y': 0.9114296876837509}. Best is trial 493 with value: 0.000442502037418168.\n",
      "[I 2024-09-19 15:26:56,064] Trial 820 finished with value: 48.536858368575174 and parameters: {'x': -0.8401158039260483, 'y': 1.377738253586894}. Best is trial 493 with value: 0.000442502037418168.\n",
      "[I 2024-09-19 15:26:56,078] Trial 821 finished with value: 4.776474914877683 and parameters: {'x': 0.9671170961367338, 'y': 1.1538422180977514}. Best is trial 493 with value: 0.000442502037418168.\n",
      "[I 2024-09-19 15:26:56,092] Trial 822 finished with value: 21.52267588976759 and parameters: {'x': 1.2363124436954718, 'y': 1.0651453280108363}. Best is trial 493 with value: 0.000442502037418168.\n",
      "[I 2024-09-19 15:26:56,106] Trial 823 finished with value: 0.02692495371023338 and parameters: {'x': 1.1344025355744858, 'y': 1.2774558709056822}. Best is trial 493 with value: 0.000442502037418168.\n",
      "[I 2024-09-19 15:26:56,120] Trial 824 finished with value: 1.2848029078129364 and parameters: {'x': 1.0251663960656285, 'y': 0.9376449341784593}. Best is trial 493 with value: 0.000442502037418168.\n",
      "[I 2024-09-19 15:26:56,133] Trial 825 finished with value: 0.17902199711700836 and parameters: {'x': 0.9013377628094349, 'y': 0.8535543564873237}. Best is trial 493 with value: 0.000442502037418168.\n",
      "[I 2024-09-19 15:26:56,146] Trial 826 finished with value: 61.41833052011655 and parameters: {'x': 1.3416096661201686, 'y': 1.0169629001811118}. Best is trial 493 with value: 0.000442502037418168.\n",
      "[I 2024-09-19 15:26:56,159] Trial 827 finished with value: 0.06153498788275079 and parameters: {'x': 1.0907284861630195, 'y': 1.166601116654966}. Best is trial 493 with value: 0.000442502037418168.\n",
      "[I 2024-09-19 15:26:56,172] Trial 828 finished with value: 0.030696163766785783 and parameters: {'x': 0.9750769680686652, 'y': 0.9334329466611018}. Best is trial 493 with value: 0.000442502037418168.\n",
      "[I 2024-09-19 15:26:56,186] Trial 829 finished with value: 11.715818171218192 and parameters: {'x': 1.1963430879243462, 'y': 1.0895166124944584}. Best is trial 493 with value: 0.000442502037418168.\n",
      "[I 2024-09-19 15:26:56,200] Trial 830 finished with value: 0.301392503239824 and parameters: {'x': 0.9004774641054778, 'y': 0.8648492705181123}. Best is trial 493 with value: 0.000442502037418168.\n",
      "[I 2024-09-19 15:26:56,215] Trial 831 finished with value: 3.476984799872616 and parameters: {'x': 1.043473696467244, 'y': 1.2752534177669632}. Best is trial 493 with value: 0.000442502037418168.\n",
      "[I 2024-09-19 15:26:56,232] Trial 832 finished with value: 7.453011888849305 and parameters: {'x': 1.1351985212631404, 'y': 1.0160086100656942}. Best is trial 493 with value: 0.000442502037418168.\n",
      "[I 2024-09-19 15:26:56,246] Trial 833 finished with value: 7.118088362228119 and parameters: {'x': 0.9633820905726441, 'y': 1.194877380291488}. Best is trial 493 with value: 0.000442502037418168.\n",
      "[I 2024-09-19 15:26:56,259] Trial 834 finished with value: 1.995977656540965 and parameters: {'x': 1.0559938163131612, 'y': 0.9739548718511272}. Best is trial 493 with value: 0.000442502037418168.\n",
      "[I 2024-09-19 15:26:56,272] Trial 835 finished with value: 0.3594692140366195 and parameters: {'x': 0.8983752326875456, 'y': 0.8661662657112947}. Best is trial 493 with value: 0.000442502037418168.\n",
      "[I 2024-09-19 15:26:56,286] Trial 836 finished with value: 1.3761397562663376 and parameters: {'x': 0.9914834043466635, 'y': 1.1003452328422298}. Best is trial 493 with value: 0.000442502037418168.\n",
      "[I 2024-09-19 15:26:56,301] Trial 837 finished with value: 0.03824489563736638 and parameters: {'x': 1.1506095596576609, 'y': 1.3363769955146327}. Best is trial 493 with value: 0.000442502037418168.\n",
      "[I 2024-09-19 15:26:56,317] Trial 838 finished with value: 1.2357495393524704 and parameters: {'x': 1.0699347054466806, 'y': 1.0338162034906777}. Best is trial 493 with value: 0.000442502037418168.\n",
      "[I 2024-09-19 15:26:56,335] Trial 839 finished with value: 39.1842076304684 and parameters: {'x': 1.2526927349259678, 'y': 0.9437764272828809}. Best is trial 493 with value: 0.000442502037418168.\n"
     ]
    },
    {
     "name": "stderr",
     "output_type": "stream",
     "text": [
      "[I 2024-09-19 15:26:56,351] Trial 840 finished with value: 296.8452990311518 and parameters: {'x': 0.9162493747556801, 'y': -0.8833866301398019}. Best is trial 493 with value: 0.000442502037418168.\n",
      "[I 2024-09-19 15:26:56,369] Trial 841 finished with value: 2.0010226952986163 and parameters: {'x': 0.9997507399731527, 'y': 1.1409590492360149}. Best is trial 493 with value: 0.000442502037418168.\n",
      "[I 2024-09-19 15:26:56,386] Trial 842 finished with value: 17.245066576391938 and parameters: {'x': 1.1167450951802989, 'y': 0.8320119449584278}. Best is trial 493 with value: 0.000442502037418168.\n",
      "[I 2024-09-19 15:26:56,403] Trial 843 finished with value: 13.170274015567257 and parameters: {'x': 0.9131899800426029, 'y': 1.1967208188346308}. Best is trial 493 with value: 0.000442502037418168.\n",
      "[I 2024-09-19 15:26:56,418] Trial 844 finished with value: 1.6424766296352338 and parameters: {'x': 1.023357281050844, 'y': 0.919122266610541}. Best is trial 493 with value: 0.000442502037418168.\n",
      "[I 2024-09-19 15:26:56,432] Trial 845 finished with value: 8.910116585949716 and parameters: {'x': 0.8726486838699743, 'y': 1.05974211980211}. Best is trial 493 with value: 0.000442502037418168.\n",
      "[I 2024-09-19 15:26:56,446] Trial 846 finished with value: 24.410798630076766 and parameters: {'x': 1.2186339712774104, 'y': 0.9914798802999633}. Best is trial 493 with value: 0.000442502037418168.\n",
      "[I 2024-09-19 15:26:56,460] Trial 847 finished with value: 17.311867714259797 and parameters: {'x': -0.9382652549038482, 'y': 1.248512783512827}. Best is trial 493 with value: 0.000442502037418168.\n",
      "[I 2024-09-19 15:26:56,474] Trial 848 finished with value: 1.3731182640930344 and parameters: {'x': 0.9851382384550016, 'y': 0.853326644672009}. Best is trial 493 with value: 0.000442502037418168.\n",
      "[I 2024-09-19 15:26:56,488] Trial 849 finished with value: 0.42562764004263204 and parameters: {'x': 1.0842404826311207, 'y': 1.1108834382788113}. Best is trial 493 with value: 0.000442502037418168.\n",
      "[I 2024-09-19 15:26:56,502] Trial 850 finished with value: 17.390951481104814 and parameters: {'x': 1.1682682475380686, 'y': 0.9481657179390987}. Best is trial 493 with value: 0.000442502037418168.\n",
      "[I 2024-09-19 15:26:56,516] Trial 851 finished with value: 33.32458259557939 and parameters: {'x': 0.887772947410539, 'y': 1.365306186995973}. Best is trial 493 with value: 0.000442502037418168.\n",
      "[I 2024-09-19 15:26:56,529] Trial 852 finished with value: 1.4439287107241034 and parameters: {'x': 0.9647137849892322, 'y': 1.0507844513077136}. Best is trial 493 with value: 0.000442502037418168.\n",
      "[I 2024-09-19 15:26:56,547] Trial 853 finished with value: 115.70172783641223 and parameters: {'x': 1.3836435429107194, 'y': 0.8395064522966369}. Best is trial 493 with value: 0.000442502037418168.\n",
      "[I 2024-09-19 15:26:56,561] Trial 854 finished with value: 0.03855553650006144 and parameters: {'x': 1.0715166879792977, 'y': 1.166434865775661}. Best is trial 493 with value: 0.000442502037418168.\n",
      "[I 2024-09-19 15:26:56,574] Trial 855 finished with value: 4.765111385036766 and parameters: {'x': 1.0161613745474345, 'y': 1.2508693072760575}. Best is trial 493 with value: 0.000442502037418168.\n",
      "[I 2024-09-19 15:26:56,588] Trial 856 finished with value: 48.05393191587818 and parameters: {'x': 1.2963500693624377, 'y': 0.9879478129542005}. Best is trial 493 with value: 0.000442502037418168.\n",
      "[I 2024-09-19 15:26:56,604] Trial 857 finished with value: 16.279206711509598 and parameters: {'x': 1.1413621770776097, 'y': 0.8994803453048266}. Best is trial 493 with value: 0.000442502037418168.\n",
      "[I 2024-09-19 15:26:56,617] Trial 858 finished with value: 9.565816420653015 and parameters: {'x': 0.8877539947360334, 'y': 1.0971899475564741}. Best is trial 493 with value: 0.000442502037418168.\n",
      "[I 2024-09-19 15:26:56,632] Trial 859 finished with value: 0.26548410933152533 and parameters: {'x': 0.9801848008749491, 'y': 0.9092752098465068}. Best is trial 493 with value: 0.000442502037418168.\n",
      "[I 2024-09-19 15:26:56,646] Trial 860 finished with value: 4.681614366720971 and parameters: {'x': 1.102831886855685, 'y': 1.0001122821246011}. Best is trial 493 with value: 0.000442502037418168.\n",
      "[I 2024-09-19 15:26:56,660] Trial 861 finished with value: 0.7035594420815132 and parameters: {'x': 0.9458373362489385, 'y': 0.8109048707772718}. Best is trial 493 with value: 0.000442502037418168.\n",
      "[I 2024-09-19 15:26:56,674] Trial 862 finished with value: 19.73508097171267 and parameters: {'x': 0.8539841414330689, 'y': 1.1732907194546893}. Best is trial 493 with value: 0.000442502037418168.\n",
      "[I 2024-09-19 15:26:56,688] Trial 863 finished with value: 0.015732174681095383 and parameters: {'x': 1.0449732489458257, 'y': 1.0802602987773464}. Best is trial 493 with value: 0.000442502037418168.\n",
      "[I 2024-09-19 15:26:56,702] Trial 864 finished with value: 2.4790730016222238 and parameters: {'x': 0.9372420633122127, 'y': 1.0357482852884177}. Best is trial 493 with value: 0.000442502037418168.\n",
      "[I 2024-09-19 15:26:56,717] Trial 865 finished with value: 1.5534270829021661 and parameters: {'x': 1.039206076862655, 'y': 0.955374394453265}. Best is trial 493 with value: 0.000442502037418168.\n",
      "[I 2024-09-19 15:26:56,731] Trial 866 finished with value: 0.29261407203599343 and parameters: {'x': 1.009683996877563, 'y': 1.0735469186683695}. Best is trial 493 with value: 0.000442502037418168.\n",
      "[I 2024-09-19 15:26:56,746] Trial 867 finished with value: 1.8956627709606642 and parameters: {'x': 0.8601075165394174, 'y': 0.8767554793228852}. Best is trial 493 with value: 0.000442502037418168.\n",
      "[I 2024-09-19 15:26:56,760] Trial 868 finished with value: 19.10334837432772 and parameters: {'x': 1.191838974937887, 'y': 0.9838275779835242}. Best is trial 493 with value: 0.000442502037418168.\n",
      "[I 2024-09-19 15:26:56,779] Trial 869 finished with value: 0.2935249053550403 and parameters: {'x': 0.9266949212915028, 'y': 0.9124432005810461}. Best is trial 493 with value: 0.000442502037418168.\n",
      "[I 2024-09-19 15:26:56,793] Trial 870 finished with value: 3.774943781944785 and parameters: {'x': 1.0102407029810034, 'y': 0.8262968312583161}. Best is trial 493 with value: 0.000442502037418168.\n",
      "[I 2024-09-19 15:26:56,807] Trial 871 finished with value: 0.02446338737424873 and parameters: {'x': 1.0548421557849752, 'y': 1.0980442006425468}. Best is trial 493 with value: 0.000442502037418168.\n",
      "[I 2024-09-19 15:26:56,822] Trial 872 finished with value: 7.601984999445102 and parameters: {'x': 1.1826157571397673, 'y': 1.1234684792106644}. Best is trial 493 with value: 0.000442502037418168.\n",
      "[I 2024-09-19 15:26:56,837] Trial 873 finished with value: 122.27249191925273 and parameters: {'x': 0.08092457974286141, 'y': 1.1084915823610408}. Best is trial 493 with value: 0.000442502037418168.\n",
      "[I 2024-09-19 15:26:56,851] Trial 874 finished with value: 0.8929043789913721 and parameters: {'x': 1.1136519827198148, 'y': 1.1464130840339002}. Best is trial 493 with value: 0.000442502037418168.\n",
      "[I 2024-09-19 15:26:56,865] Trial 875 finished with value: 24.879292864352575 and parameters: {'x': 1.2434335934703435, 'y': 1.047930022395567}. Best is trial 493 with value: 0.000442502037418168.\n",
      "[I 2024-09-19 15:26:56,880] Trial 876 finished with value: 1.823449632970747 and parameters: {'x': 1.0638493275790724, 'y': 1.266659523412309}. Best is trial 493 with value: 0.000442502037418168.\n",
      "[I 2024-09-19 15:26:56,894] Trial 877 finished with value: 5.9076446223072105 and parameters: {'x': 1.143070640876122, 'y': 1.0639754675397701}. Best is trial 493 with value: 0.000442502037418168.\n",
      "[I 2024-09-19 15:26:56,908] Trial 878 finished with value: 0.5497554825075482 and parameters: {'x': 1.0639005642394077, 'y': 1.2057540390161419}. Best is trial 493 with value: 0.000442502037418168.\n",
      "[I 2024-09-19 15:26:56,923] Trial 879 finished with value: 1.9169131424223917 and parameters: {'x': 0.9855907204056755, 'y': 1.1098342022312608}. Best is trial 493 with value: 0.000442502037418168.\n",
      "[I 2024-09-19 15:26:56,936] Trial 880 finished with value: 8.015967883753694 and parameters: {'x': 0.8629721850630612, 'y': 1.027514048360577}. Best is trial 493 with value: 0.000442502037418168.\n",
      "[I 2024-09-19 15:26:56,950] Trial 881 finished with value: 3.42020103445663 and parameters: {'x': 1.2186023163638686, 'y': 1.3013502685502436}. Best is trial 493 with value: 0.000442502037418168.\n"
     ]
    },
    {
     "name": "stderr",
     "output_type": "stream",
     "text": [
      "[I 2024-09-19 15:26:56,964] Trial 882 finished with value: 507.80150716486776 and parameters: {'x': 1.855156782236607, 'y': 1.1897847264812231}. Best is trial 493 with value: 0.000442502037418168.\n",
      "[I 2024-09-19 15:26:56,978] Trial 883 finished with value: 1.9525426819861174 and parameters: {'x': 1.0617183128630538, 'y': 0.9876487296305537}. Best is trial 493 with value: 0.000442502037418168.\n",
      "[I 2024-09-19 15:26:56,991] Trial 884 finished with value: 680.449828340582 and parameters: {'x': 1.1357477127399902, 'y': -1.318585137400477}. Best is trial 493 with value: 0.000442502037418168.\n",
      "[I 2024-09-19 15:26:57,005] Trial 885 finished with value: 226.27909731545319 and parameters: {'x': 1.6276611635245162, 'y': 1.1463332966979793}. Best is trial 493 with value: 0.000442502037418168.\n",
      "[I 2024-09-19 15:26:57,019] Trial 886 finished with value: 2.5232557190909572 and parameters: {'x': 0.9481186720494091, 'y': 1.0576918597660752}. Best is trial 493 with value: 0.000442502037418168.\n",
      "[I 2024-09-19 15:26:57,033] Trial 887 finished with value: 0.6802550678632369 and parameters: {'x': 1.0317623433089047, 'y': 0.9821171377711206}. Best is trial 493 with value: 0.000442502037418168.\n",
      "[I 2024-09-19 15:26:57,047] Trial 888 finished with value: 27.06970735722783 and parameters: {'x': 0.8660126210277581, 'y': 1.2700908738398116}. Best is trial 493 with value: 0.000442502037418168.\n",
      "[I 2024-09-19 15:26:57,061] Trial 889 finished with value: 1.9997565884203463 and parameters: {'x': 1.1253040667066423, 'y': 1.1254527382846478}. Best is trial 493 with value: 0.000442502037418168.\n",
      "[I 2024-09-19 15:26:57,075] Trial 890 finished with value: 26.014185399753558 and parameters: {'x': 0.9477436629350958, 'y': 1.408232311953746}. Best is trial 493 with value: 0.000442502037418168.\n",
      "[I 2024-09-19 15:26:57,090] Trial 891 finished with value: 2.854726039476224 and parameters: {'x': 1.0522308412765646, 'y': 0.9383111485177913}. Best is trial 493 with value: 0.000442502037418168.\n",
      "[I 2024-09-19 15:26:57,105] Trial 892 finished with value: 75.13765149285761 and parameters: {'x': 1.3086515222062725, 'y': 0.8462987232229339}. Best is trial 493 with value: 0.000442502037418168.\n",
      "[I 2024-09-19 15:26:57,121] Trial 893 finished with value: 12.599745278662736 and parameters: {'x': 1.1918027489215177, 'y': 1.0659511737909657}. Best is trial 493 with value: 0.000442502037418168.\n",
      "[I 2024-09-19 15:26:57,136] Trial 894 finished with value: 71.59855607746726 and parameters: {'x': 0.8658676785230983, 'y': 1.5957798173085451}. Best is trial 493 with value: 0.000442502037418168.\n",
      "[I 2024-09-19 15:26:57,151] Trial 895 finished with value: 3.240997582847677 and parameters: {'x': 1.0089747605637025, 'y': 1.198055538889056}. Best is trial 493 with value: 0.000442502037418168.\n",
      "[I 2024-09-19 15:26:57,166] Trial 896 finished with value: 1.6324117011241148 and parameters: {'x': 0.9639788657115758, 'y': 0.8015401730269667}. Best is trial 493 with value: 0.000442502037418168.\n",
      "[I 2024-09-19 15:26:57,180] Trial 897 finished with value: 5.147702417312761 and parameters: {'x': 1.1074499614439162, 'y': 0.9998145074031572}. Best is trial 493 with value: 0.000442502037418168.\n",
      "[I 2024-09-19 15:26:57,194] Trial 898 finished with value: 0.19423726294337226 and parameters: {'x': 0.9228032896354744, 'y': 0.8949569162884511}. Best is trial 493 with value: 0.000442502037418168.\n",
      "[I 2024-09-19 15:26:57,210] Trial 899 finished with value: 25.447489000649757 and parameters: {'x': 1.2727082888343737, 'y': 1.116069015431502}. Best is trial 493 with value: 0.000442502037418168.\n",
      "[I 2024-09-19 15:26:57,225] Trial 900 finished with value: 53.24333094096887 and parameters: {'x': 1.4419475895017386, 'y': 1.3508721801044528}. Best is trial 493 with value: 0.000442502037418168.\n",
      "[I 2024-09-19 15:26:57,240] Trial 901 finished with value: 685.343474981912 and parameters: {'x': 1.0399136916432605, 'y': -1.5364830298767624}. Best is trial 493 with value: 0.000442502037418168.\n",
      "[I 2024-09-19 15:26:57,253] Trial 902 finished with value: 17.21785950806303 and parameters: {'x': 1.1707661178086448, 'y': 0.9561007503230918}. Best is trial 493 with value: 0.000442502037418168.\n",
      "[I 2024-09-19 15:26:57,267] Trial 903 finished with value: 12.20909717347435 and parameters: {'x': 0.8277253538232299, 'y': 1.0341194993306921}. Best is trial 493 with value: 0.000442502037418168.\n",
      "[I 2024-09-19 15:26:57,281] Trial 904 finished with value: 1.8536039316611397 and parameters: {'x': 0.9604542817774676, 'y': 0.7863827485757547}. Best is trial 493 with value: 0.000442502037418168.\n",
      "[I 2024-09-19 15:26:57,295] Trial 905 finished with value: 0.26769033922136193 and parameters: {'x': 1.0653154401914227, 'y': 1.1862218575430048}. Best is trial 493 with value: 0.000442502037418168.\n",
      "[I 2024-09-19 15:26:57,309] Trial 906 finished with value: 1.9261652243663439 and parameters: {'x': 0.872497094972916, 'y': 0.8994506103144505}. Best is trial 493 with value: 0.000442502037418168.\n",
      "[I 2024-09-19 15:26:57,322] Trial 907 finished with value: 3.2768781619826317 and parameters: {'x': 1.1241748908555724, 'y': 1.0831740923160826}. Best is trial 493 with value: 0.000442502037418168.\n",
      "[I 2024-09-19 15:26:57,336] Trial 908 finished with value: 6.714700144007401 and parameters: {'x': 0.994953619462229, 'y': 1.2490595980829668}. Best is trial 493 with value: 0.000442502037418168.\n",
      "[I 2024-09-19 15:26:57,350] Trial 909 finished with value: 2.5740593405098156 and parameters: {'x': 0.9089714219171272, 'y': 0.9864093548417069}. Best is trial 493 with value: 0.000442502037418168.\n",
      "[I 2024-09-19 15:26:57,364] Trial 910 finished with value: 0.40858542081036725 and parameters: {'x': 1.1868830564039448, 'y': 1.4698191364732436}. Best is trial 493 with value: 0.000442502037418168.\n",
      "[I 2024-09-19 15:26:57,378] Trial 911 finished with value: 4.433111195096425 and parameters: {'x': 1.0217063750456385, 'y': 0.8333455585845886}. Best is trial 493 with value: 0.000442502037418168.\n",
      "[I 2024-09-19 15:26:57,392] Trial 912 finished with value: 0.17834923679955103 and parameters: {'x': 1.0956280197792345, 'y': 1.159266280868033}. Best is trial 493 with value: 0.000442502037418168.\n",
      "[I 2024-09-19 15:26:57,406] Trial 913 finished with value: 18.586191955636565 and parameters: {'x': 0.9290285638517161, 'y': 1.2941527112811104}. Best is trial 493 with value: 0.000442502037418168.\n",
      "[I 2024-09-19 15:26:57,422] Trial 914 finished with value: 11.559387503145377 and parameters: {'x': 0.8406912872863199, 'y': 1.0463793936167116}. Best is trial 493 with value: 0.000442502037418168.\n",
      "[I 2024-09-19 15:26:57,441] Trial 915 finished with value: 385.8970416984457 and parameters: {'x': 1.2484448725564223, 'y': -0.4056545183171337}. Best is trial 493 with value: 0.000442502037418168.\n",
      "[I 2024-09-19 15:26:57,459] Trial 916 finished with value: 0.5808138662112438 and parameters: {'x': 0.9982786661663448, 'y': 0.9203493444548166}. Best is trial 493 with value: 0.000442502037418168.\n",
      "[I 2024-09-19 15:26:57,475] Trial 917 finished with value: 1.3363098998508662 and parameters: {'x': 1.1007839750192947, 'y': 1.0965666652315385}. Best is trial 493 with value: 0.000442502037418168.\n",
      "[I 2024-09-19 15:26:57,491] Trial 918 finished with value: 14.85747359015653 and parameters: {'x': 0.9129734050704471, 'y': 1.2188761177315162}. Best is trial 493 with value: 0.000442502037418168.\n",
      "[I 2024-09-19 15:26:57,506] Trial 919 finished with value: 9.693379848712251 and parameters: {'x': 0.8026979275821329, 'y': 0.9550400993285193}. Best is trial 493 with value: 0.000442502037418168.\n",
      "[I 2024-09-19 15:26:57,520] Trial 920 finished with value: 4.603245674004013 and parameters: {'x': 1.010719143259083, 'y': 0.8070041065250386}. Best is trial 493 with value: 0.000442502037418168.\n",
      "[I 2024-09-19 15:26:57,535] Trial 921 finished with value: 14.76884838888513 and parameters: {'x': 1.1928796781083975, 'y': 1.0391436645197085}. Best is trial 493 with value: 0.000442502037418168.\n",
      "[I 2024-09-19 15:26:57,552] Trial 922 finished with value: 0.11787629006366578 and parameters: {'x': 1.0719366212756996, 'y': 1.1154770889809056}. Best is trial 493 with value: 0.000442502037418168.\n",
      "[I 2024-09-19 15:26:57,567] Trial 923 finished with value: 0.008525481612790037 and parameters: {'x': 0.9508111128445232, 'y': 0.8962277240664068}. Best is trial 493 with value: 0.000442502037418168.\n"
     ]
    },
    {
     "name": "stderr",
     "output_type": "stream",
     "text": [
      "[I 2024-09-19 15:26:57,582] Trial 924 finished with value: 0.511918464335044 and parameters: {'x': 0.8375509765127463, 'y': 0.771171533428378}. Best is trial 493 with value: 0.000442502037418168.\n",
      "[I 2024-09-19 15:26:57,597] Trial 925 finished with value: 0.7784503638894703 and parameters: {'x': 0.880702474833817, 'y': 0.8630564387667109}. Best is trial 493 with value: 0.000442502037418168.\n",
      "[I 2024-09-19 15:26:57,611] Trial 926 finished with value: 7.953236786791593 and parameters: {'x': 0.7771977033244779, 'y': 0.8851696178326416}. Best is trial 493 with value: 0.000442502037418168.\n",
      "[I 2024-09-19 15:26:57,627] Trial 927 finished with value: 0.9695180537011531 and parameters: {'x': 0.9402301586054976, 'y': 0.7857502186360839}. Best is trial 493 with value: 0.000442502037418168.\n",
      "[I 2024-09-19 15:26:57,642] Trial 928 finished with value: 0.20375947862015883 and parameters: {'x': 0.9460837054707598, 'y': 0.8502578058441623}. Best is trial 493 with value: 0.000442502037418168.\n",
      "[I 2024-09-19 15:26:57,657] Trial 929 finished with value: 107.63351373304272 and parameters: {'x': 0.8285006365741785, 'y': 1.7237372739734669}. Best is trial 493 with value: 0.000442502037418168.\n",
      "[I 2024-09-19 15:26:57,672] Trial 930 finished with value: 0.01878260975959442 and parameters: {'x': 0.9759863191389673, 'y': 0.9390563514753482}. Best is trial 493 with value: 0.000442502037418168.\n",
      "[I 2024-09-19 15:26:57,686] Trial 931 finished with value: 0.07337214158770289 and parameters: {'x': 0.9903439078262136, 'y': 0.9537109797671925}. Best is trial 493 with value: 0.000442502037418168.\n",
      "[I 2024-09-19 15:26:57,701] Trial 932 finished with value: 0.34886135820298186 and parameters: {'x': 1.0186025122459572, 'y': 0.978515893128019}. Best is trial 493 with value: 0.000442502037418168.\n",
      "[I 2024-09-19 15:26:57,716] Trial 933 finished with value: 14.336151472356793 and parameters: {'x': 1.1388067950002299, 'y': 0.9185043295099311}. Best is trial 493 with value: 0.000442502037418168.\n",
      "[I 2024-09-19 15:26:57,731] Trial 934 finished with value: 0.7088097603878725 and parameters: {'x': 0.9537246131820017, 'y': 0.9936542059362888}. Best is trial 493 with value: 0.000442502037418168.\n",
      "[I 2024-09-19 15:26:57,745] Trial 935 finished with value: 7.026258596630868 and parameters: {'x': 1.0823488274156097, 'y': 0.9065360230398073}. Best is trial 493 with value: 0.000442502037418168.\n",
      "[I 2024-09-19 15:26:57,760] Trial 936 finished with value: 0.04793072343551789 and parameters: {'x': 1.0045455460602954, 'y': 0.9872233870059004}. Best is trial 493 with value: 0.000442502037418168.\n",
      "[I 2024-09-19 15:26:57,780] Trial 937 finished with value: 18.152264698726857 and parameters: {'x': 1.1404068180506297, 'y': 0.8747043831580701}. Best is trial 493 with value: 0.000442502037418168.\n",
      "[I 2024-09-19 15:26:57,797] Trial 938 finished with value: 3.973085253491648 and parameters: {'x': 0.9023926827569748, 'y': 1.0133994209918977}. Best is trial 493 with value: 0.000442502037418168.\n",
      "[I 2024-09-19 15:26:57,812] Trial 939 finished with value: 4.232760520298368 and parameters: {'x': 1.061795841757952, 'y': 0.9217664990339566}. Best is trial 493 with value: 0.000442502037418168.\n",
      "[I 2024-09-19 15:26:57,825] Trial 940 finished with value: 43.40345296589222 and parameters: {'x': 1.295738995363874, 'y': 1.0207906900278603}. Best is trial 493 with value: 0.000442502037418168.\n",
      "[I 2024-09-19 15:26:57,841] Trial 941 finished with value: 1.1483988618604497 and parameters: {'x': 0.9743987500973028, 'y': 0.8423201356592025}. Best is trial 493 with value: 0.000442502037418168.\n",
      "[I 2024-09-19 15:26:57,855] Trial 942 finished with value: 29.10571990348524 and parameters: {'x': 1.2215377830762084, 'y': 0.9531124336206805}. Best is trial 493 with value: 0.000442502037418168.\n",
      "[I 2024-09-19 15:26:57,870] Trial 943 finished with value: 9.054941280245348 and parameters: {'x': 0.880796987116852, 'y': 1.0764814315164444}. Best is trial 493 with value: 0.000442502037418168.\n",
      "[I 2024-09-19 15:26:57,885] Trial 944 finished with value: 7.570878820422718 and parameters: {'x': 1.039357834784213, 'y': 1.3553888585445293}. Best is trial 493 with value: 0.000442502037418168.\n",
      "[I 2024-09-19 15:26:57,899] Trial 945 finished with value: 3.155892973769865 and parameters: {'x': 1.1531849077171512, 'y': 1.1528487833642975}. Best is trial 493 with value: 0.000442502037418168.\n",
      "[I 2024-09-19 15:26:57,913] Trial 946 finished with value: 0.01083667890005529 and parameters: {'x': 0.943871872900073, 'y': 0.8821269508540255}. Best is trial 493 with value: 0.000442502037418168.\n",
      "[I 2024-09-19 15:26:57,928] Trial 947 finished with value: 1.9789960856209907 and parameters: {'x': 0.7941313503941682, 'y': 0.7698068876880587}. Best is trial 493 with value: 0.000442502037418168.\n",
      "[I 2024-09-19 15:26:57,942] Trial 948 finished with value: 0.5784309882042105 and parameters: {'x': 0.8693723671644279, 'y': 0.8307327687259767}. Best is trial 493 with value: 0.000442502037418168.\n",
      "[I 2024-09-19 15:26:57,956] Trial 949 finished with value: 0.1526110923613549 and parameters: {'x': 0.9148496283043497, 'y': 0.8750760153822279}. Best is trial 493 with value: 0.000442502037418168.\n",
      "[I 2024-09-19 15:26:57,971] Trial 950 finished with value: 12.56486335047736 and parameters: {'x': 0.7716858314403131, 'y': 0.9492324812945089}. Best is trial 493 with value: 0.000442502037418168.\n",
      "[I 2024-09-19 15:26:57,985] Trial 951 finished with value: 2.2031807144343376 and parameters: {'x': 0.9648229269575479, 'y': 0.7824938168767056}. Best is trial 493 with value: 0.000442502037418168.\n",
      "[I 2024-09-19 15:26:58,000] Trial 952 finished with value: 64.36465187803293 and parameters: {'x': 0.8724469668957432, 'y': -0.04101072299114117}. Best is trial 493 with value: 0.000442502037418168.\n",
      "[I 2024-09-19 15:26:58,014] Trial 953 finished with value: 0.01395765322983028 and parameters: {'x': 0.9495363812256907, 'y': 0.91230160326812}. Best is trial 493 with value: 0.000442502037418168.\n",
      "[I 2024-09-19 15:26:58,030] Trial 954 finished with value: 0.23643455523820475 and parameters: {'x': 0.9788862989272343, 'y': 0.9096397111873535}. Best is trial 493 with value: 0.000442502037418168.\n",
      "[I 2024-09-19 15:26:58,043] Trial 955 finished with value: 0.6757147111477527 and parameters: {'x': 0.9567283753345335, 'y': 0.9974170808205274}. Best is trial 493 with value: 0.000442502037418168.\n",
      "[I 2024-09-19 15:26:58,057] Trial 956 finished with value: 4.157889903406237 and parameters: {'x': 1.0395998674669007, 'y': 0.876897294260418}. Best is trial 493 with value: 0.000442502037418168.\n",
      "[I 2024-09-19 15:26:58,071] Trial 957 finished with value: 0.04519327231314302 and parameters: {'x': 1.0167121135247295, 'y': 1.0125106037314868}. Best is trial 493 with value: 0.000442502037418168.\n",
      "[I 2024-09-19 15:26:58,085] Trial 958 finished with value: 0.28993606386435034 and parameters: {'x': 0.9466431579343468, 'y': 0.9497139656662758}. Best is trial 493 with value: 0.000442502037418168.\n",
      "[I 2024-09-19 15:26:58,100] Trial 959 finished with value: 3.1598821860771378 and parameters: {'x': 0.8630415967021876, 'y': 0.9220729781767645}. Best is trial 493 with value: 0.000442502037418168.\n",
      "[I 2024-09-19 15:26:58,116] Trial 960 finished with value: 1.1281624285375307 and parameters: {'x': 1.059135856607063, 'y': 1.015718520931115}. Best is trial 493 with value: 0.000442502037418168.\n",
      "[I 2024-09-19 15:26:58,135] Trial 961 finished with value: 0.6515394893387062 and parameters: {'x': 0.9717836871554052, 'y': 0.8636948710010761}. Best is trial 493 with value: 0.000442502037418168.\n",
      "[I 2024-09-19 15:26:58,150] Trial 962 finished with value: 17.44318801351876 and parameters: {'x': 0.8017272872857465, 'y': 1.0599461722174601}. Best is trial 493 with value: 0.000442502037418168.\n",
      "[I 2024-09-19 15:26:58,164] Trial 963 finished with value: 0.5784641925447644 and parameters: {'x': 0.9336495577995596, 'y': 0.9474683636384206}. Best is trial 493 with value: 0.000442502037418168.\n",
      "[I 2024-09-19 15:26:58,178] Trial 964 finished with value: 8.681921421267745 and parameters: {'x': 1.076844072235319, 'y': 0.8650423723441173}. Best is trial 493 with value: 0.000442502037418168.\n",
      "[I 2024-09-19 15:26:58,192] Trial 965 finished with value: 0.12566703628638096 and parameters: {'x': 1.0114369172954827, 'y': 1.0584357303988907}. Best is trial 493 with value: 0.000442502037418168.\n"
     ]
    },
    {
     "name": "stderr",
     "output_type": "stream",
     "text": [
      "[I 2024-09-19 15:26:58,206] Trial 966 finished with value: 1.4591442294018488 and parameters: {'x': 0.916734727369325, 'y': 0.9609102830956796}. Best is trial 493 with value: 0.000442502037418168.\n",
      "[I 2024-09-19 15:26:58,220] Trial 967 finished with value: 10.947703501905972 and parameters: {'x': 0.8440845788557969, 'y': 1.0429843569012156}. Best is trial 493 with value: 0.000442502037418168.\n",
      "[I 2024-09-19 15:26:58,235] Trial 968 finished with value: 17.806810085444152 and parameters: {'x': 1.1053057541719304, 'y': 0.799851064637535}. Best is trial 493 with value: 0.000442502037418168.\n",
      "[I 2024-09-19 15:26:58,249] Trial 969 finished with value: 3.0353000516265682 and parameters: {'x': 1.0396102676831889, 'y': 0.9066134173646745}. Best is trial 493 with value: 0.000442502037418168.\n",
      "[I 2024-09-19 15:26:58,264] Trial 970 finished with value: 1.0261252075884328 and parameters: {'x': 0.9479918813079404, 'y': 0.9998528479006221}. Best is trial 493 with value: 0.000442502037418168.\n",
      "[I 2024-09-19 15:26:58,279] Trial 971 finished with value: 8.951883749141748 and parameters: {'x': 0.7408274496666394, 'y': 0.8468976728416571}. Best is trial 493 with value: 0.000442502037418168.\n",
      "[I 2024-09-19 15:26:58,294] Trial 972 finished with value: 1.8242016980675662 and parameters: {'x': 1.112534762220034, 'y': 1.1031402234121437}. Best is trial 493 with value: 0.000442502037418168.\n",
      "[I 2024-09-19 15:26:58,309] Trial 973 finished with value: 6.226213426198309 and parameters: {'x': 0.8387713346953947, 'y': 0.9525397363065706}. Best is trial 493 with value: 0.000442502037418168.\n",
      "[I 2024-09-19 15:26:58,323] Trial 974 finished with value: 218.30576309124933 and parameters: {'x': 0.98099455442675, 'y': -0.5151658495256919}. Best is trial 493 with value: 0.000442502037418168.\n",
      "[I 2024-09-19 15:26:58,337] Trial 975 finished with value: 38.80689340878392 and parameters: {'x': 1.1802281391560556, 'y': 0.7702474357361199}. Best is trial 493 with value: 0.000442502037418168.\n",
      "[I 2024-09-19 15:26:58,353] Trial 976 finished with value: 5.263291572903368 and parameters: {'x': 0.8954406521717383, 'y': 1.0309942162890062}. Best is trial 493 with value: 0.000442502037418168.\n",
      "[I 2024-09-19 15:26:58,367] Trial 977 finished with value: 3.6356468217740954 and parameters: {'x': 1.0422543451802075, 'y': 0.895667222886956}. Best is trial 493 with value: 0.000442502037418168.\n",
      "[I 2024-09-19 15:26:58,381] Trial 978 finished with value: 1.2668889725713257 and parameters: {'x': 1.0068758295270204, 'y': 1.1263529984530891}. Best is trial 493 with value: 0.000442502037418168.\n",
      "[I 2024-09-19 15:26:58,395] Trial 979 finished with value: 5.616439479706072 and parameters: {'x': 1.1123653981400008, 'y': 1.0006330265374839}. Best is trial 493 with value: 0.000442502037418168.\n",
      "[I 2024-09-19 15:26:58,413] Trial 980 finished with value: 0.9290712892167684 and parameters: {'x': 0.9214967472492759, 'y': 0.7530881268380231}. Best is trial 493 with value: 0.000442502037418168.\n",
      "[I 2024-09-19 15:26:58,427] Trial 981 finished with value: 11.796576169064394 and parameters: {'x': 0.7678701927572358, 'y': 0.9323007470861155}. Best is trial 493 with value: 0.000442502037418168.\n",
      "[I 2024-09-19 15:26:58,441] Trial 982 finished with value: 1.1241868582029215 and parameters: {'x': 0.8642806528980868, 'y': 0.8521365088874905}. Best is trial 493 with value: 0.000442502037418168.\n",
      "[I 2024-09-19 15:26:58,457] Trial 983 finished with value: 1.4116959378150076 and parameters: {'x': 0.9918042313603775, 'y': 1.1024876178910024}. Best is trial 493 with value: 0.000442502037418168.\n",
      "[I 2024-09-19 15:26:58,471] Trial 984 finished with value: 8.998261511948332 and parameters: {'x': 1.1574300479398139, 'y': 1.0400866871619872}. Best is trial 493 with value: 0.000442502037418168.\n",
      "[I 2024-09-19 15:26:58,485] Trial 985 finished with value: 10.348248501999459 and parameters: {'x': 1.0732555960334362, 'y': 0.8302740588944907}. Best is trial 493 with value: 0.000442502037418168.\n",
      "[I 2024-09-19 15:26:58,499] Trial 986 finished with value: 8.899287753273052 and parameters: {'x': 0.9359436460187853, 'y': 1.1742384680597577}. Best is trial 493 with value: 0.000442502037418168.\n",
      "[I 2024-09-19 15:26:58,514] Trial 987 finished with value: 5.49360976839049 and parameters: {'x': 0.8368383958887339, 'y': 0.9341144125961595}. Best is trial 493 with value: 0.000442502037418168.\n",
      "[I 2024-09-19 15:26:58,528] Trial 988 finished with value: 17.665575287240344 and parameters: {'x': 1.2258584640685952, 'y': 1.0830319017271415}. Best is trial 493 with value: 0.000442502037418168.\n",
      "[I 2024-09-19 15:26:58,543] Trial 989 finished with value: 0.4495651873818617 and parameters: {'x': 1.0244867056140556, 'y': 0.9825681154848345}. Best is trial 493 with value: 0.000442502037418168.\n",
      "[I 2024-09-19 15:26:58,557] Trial 990 finished with value: 18.544093972328383 and parameters: {'x': 1.0949340138210066, 'y': 0.7683566102052037}. Best is trial 493 with value: 0.000442502037418168.\n",
      "[I 2024-09-19 15:26:58,572] Trial 991 finished with value: 0.028046348737922833 and parameters: {'x': 0.9369734354924001, 'y': 0.8624034201266805}. Best is trial 493 with value: 0.000442502037418168.\n",
      "[I 2024-09-19 15:26:58,589] Trial 992 finished with value: 88.66767507467497 and parameters: {'x': -0.4727620923872461, 'y': 1.1535504835133843}. Best is trial 493 with value: 0.000442502037418168.\n",
      "[I 2024-09-19 15:26:58,603] Trial 993 finished with value: 0.03946332456926618 and parameters: {'x': 1.0088358918451852, 'y': 1.0375955744964458}. Best is trial 493 with value: 0.000442502037418168.\n",
      "[I 2024-09-19 15:26:58,617] Trial 994 finished with value: 17.903934170359808 and parameters: {'x': 1.162408038133398, 'y': 0.9283738358958522}. Best is trial 493 with value: 0.000442502037418168.\n",
      "[I 2024-09-19 15:26:58,632] Trial 995 finished with value: 73.50736114819821 and parameters: {'x': 1.3583931716799993, 'y': 0.9886170692195678}. Best is trial 493 with value: 0.000442502037418168.\n",
      "[I 2024-09-19 15:26:58,647] Trial 996 finished with value: 5.626562419731224 and parameters: {'x': 0.76465180618432, 'y': 0.820725722333552}. Best is trial 493 with value: 0.000442502037418168.\n",
      "[I 2024-09-19 15:26:58,661] Trial 997 finished with value: 11.419447568755258 and parameters: {'x': 0.8899670125496012, 'y': 1.1297888268731613}. Best is trial 493 with value: 0.000442502037418168.\n",
      "[I 2024-09-19 15:26:58,676] Trial 998 finished with value: 5.5685607349550255 and parameters: {'x': 1.068507447670589, 'y': 0.9058296490167169}. Best is trial 493 with value: 0.000442502037418168.\n",
      "[I 2024-09-19 15:26:58,690] Trial 999 finished with value: 1.08333468955342 and parameters: {'x': 0.9757849342400523, 'y': 1.0562114309435335}. Best is trial 493 with value: 0.000442502037418168.\n"
     ]
    }
   ],
   "source": [
    "import optuna\n",
    "\n",
    "study = optuna.create_study()\n",
    "study.optimize(objective, n_trials=1000)"
   ]
  },
  {
   "cell_type": "code",
   "execution_count": null,
   "id": "30272030",
   "metadata": {},
   "outputs": [],
   "source": [
    "study.best_params"
   ]
  },
  {
   "cell_type": "code",
   "execution_count": 33,
   "id": "fc625893",
   "metadata": {},
   "outputs": [],
   "source": [
    "def hp_space(trial):\n",
    "\n",
    "    return {\"num_train_epochs\": trial.suggest_int(\"num_train_epochs\", 5, 10),\n",
    "        \"alpha\": trial.suggest_float(\"alpha\", 0, 1),\n",
    "        \"temperature\": trial.suggest_int(\"temperature\", 2, 20)}"
   ]
  },
  {
   "cell_type": "code",
   "execution_count": null,
   "id": "33dbd91d",
   "metadata": {},
   "outputs": [
    {
     "name": "stderr",
     "output_type": "stream",
     "text": [
      "[I 2024-09-19 15:26:58,698] A new study created in memory with name: no-name-950748a5-06af-4420-a33e-12546db91619\n",
      "Some weights of DistilBertForSequenceClassification were not initialized from the model checkpoint at distilbert-base-uncased and are newly initialized: ['classifier.bias', 'classifier.weight', 'pre_classifier.bias', 'pre_classifier.weight']\n",
      "You should probably TRAIN this model on a down-stream task to be able to use it for predictions and inference.\n"
     ]
    },
    {
     "data": {
      "text/html": [
       "\n",
       "    <div>\n",
       "      \n",
       "      <progress value='2544' max='2544' style='width:300px; height:20px; vertical-align: middle;'></progress>\n",
       "      [2544/2544 05:45, Epoch 8/8]\n",
       "    </div>\n",
       "    <table border=\"1\" class=\"dataframe\">\n",
       "  <thead>\n",
       " <tr style=\"text-align: left;\">\n",
       "      <th>Epoch</th>\n",
       "      <th>Training Loss</th>\n",
       "      <th>Validation Loss</th>\n",
       "      <th>Accuracy</th>\n",
       "    </tr>\n",
       "  </thead>\n",
       "  <tbody>\n",
       "    <tr>\n",
       "      <td>1</td>\n",
       "      <td>No log</td>\n",
       "      <td>0.410439</td>\n",
       "      <td>0.672581</td>\n",
       "    </tr>\n",
       "    <tr>\n",
       "      <td>2</td>\n",
       "      <td>0.644900</td>\n",
       "      <td>0.142742</td>\n",
       "      <td>0.842258</td>\n",
       "    </tr>\n",
       "    <tr>\n",
       "      <td>3</td>\n",
       "      <td>0.644900</td>\n",
       "      <td>0.074758</td>\n",
       "      <td>0.894839</td>\n",
       "    </tr>\n",
       "    <tr>\n",
       "      <td>4</td>\n",
       "      <td>0.166900</td>\n",
       "      <td>0.053175</td>\n",
       "      <td>0.910323</td>\n",
       "    </tr>\n",
       "    <tr>\n",
       "      <td>5</td>\n",
       "      <td>0.084500</td>\n",
       "      <td>0.044639</td>\n",
       "      <td>0.923226</td>\n",
       "    </tr>\n",
       "    <tr>\n",
       "      <td>6</td>\n",
       "      <td>0.084500</td>\n",
       "      <td>0.040241</td>\n",
       "      <td>0.922581</td>\n",
       "    </tr>\n",
       "    <tr>\n",
       "      <td>7</td>\n",
       "      <td>0.065000</td>\n",
       "      <td>0.037843</td>\n",
       "      <td>0.925806</td>\n",
       "    </tr>\n",
       "    <tr>\n",
       "      <td>8</td>\n",
       "      <td>0.057700</td>\n",
       "      <td>0.037051</td>\n",
       "      <td>0.927742</td>\n",
       "    </tr>\n",
       "  </tbody>\n",
       "</table><p>"
      ],
      "text/plain": [
       "<IPython.core.display.HTML object>"
      ]
     },
     "metadata": {},
     "output_type": "display_data"
    },
    {
     "name": "stderr",
     "output_type": "stream",
     "text": [
      "[I 2024-09-19 15:32:45,149] Trial 0 finished with value: 0.927741935483871 and parameters: {'num_train_epochs': 8, 'alpha': 0.3135032537062875, 'temperature': 2}. Best is trial 0 with value: 0.927741935483871.\n",
      "Some weights of DistilBertForSequenceClassification were not initialized from the model checkpoint at distilbert-base-uncased and are newly initialized: ['classifier.bias', 'classifier.weight', 'pre_classifier.bias', 'pre_classifier.weight']\n",
      "You should probably TRAIN this model on a down-stream task to be able to use it for predictions and inference.\n"
     ]
    },
    {
     "data": {
      "text/html": [
       "\n",
       "    <div>\n",
       "      \n",
       "      <progress value='1908' max='1908' style='width:300px; height:20px; vertical-align: middle;'></progress>\n",
       "      [1908/1908 04:24, Epoch 6/6]\n",
       "    </div>\n",
       "    <table border=\"1\" class=\"dataframe\">\n",
       "  <thead>\n",
       " <tr style=\"text-align: left;\">\n",
       "      <th>Epoch</th>\n",
       "      <th>Training Loss</th>\n",
       "      <th>Validation Loss</th>\n",
       "      <th>Accuracy</th>\n",
       "    </tr>\n",
       "  </thead>\n",
       "  <tbody>\n",
       "    <tr>\n",
       "      <td>1</td>\n",
       "      <td>No log</td>\n",
       "      <td>0.197174</td>\n",
       "      <td>0.569677</td>\n",
       "    </tr>\n",
       "    <tr>\n",
       "      <td>2</td>\n",
       "      <td>0.312600</td>\n",
       "      <td>0.100628</td>\n",
       "      <td>0.811935</td>\n",
       "    </tr>\n",
       "    <tr>\n",
       "      <td>3</td>\n",
       "      <td>0.312600</td>\n",
       "      <td>0.070571</td>\n",
       "      <td>0.871613</td>\n",
       "    </tr>\n",
       "    <tr>\n",
       "      <td>4</td>\n",
       "      <td>0.115900</td>\n",
       "      <td>0.057442</td>\n",
       "      <td>0.887097</td>\n",
       "    </tr>\n",
       "    <tr>\n",
       "      <td>5</td>\n",
       "      <td>0.079600</td>\n",
       "      <td>0.050582</td>\n",
       "      <td>0.892581</td>\n",
       "    </tr>\n",
       "    <tr>\n",
       "      <td>6</td>\n",
       "      <td>0.079600</td>\n",
       "      <td>0.048641</td>\n",
       "      <td>0.895161</td>\n",
       "    </tr>\n",
       "  </tbody>\n",
       "</table><p>"
      ],
      "text/plain": [
       "<IPython.core.display.HTML object>"
      ]
     },
     "metadata": {},
     "output_type": "display_data"
    },
    {
     "name": "stderr",
     "output_type": "stream",
     "text": [
      "[I 2024-09-19 15:37:10,449] Trial 1 finished with value: 0.8951612903225806 and parameters: {'num_train_epochs': 6, 'alpha': 0.979315817401237, 'temperature': 17}. Best is trial 0 with value: 0.927741935483871.\n",
      "Some weights of DistilBertForSequenceClassification were not initialized from the model checkpoint at distilbert-base-uncased and are newly initialized: ['classifier.bias', 'classifier.weight', 'pre_classifier.bias', 'pre_classifier.weight']\n",
      "You should probably TRAIN this model on a down-stream task to be able to use it for predictions and inference.\n"
     ]
    },
    {
     "data": {
      "text/html": [
       "\n",
       "    <div>\n",
       "      \n",
       "      <progress value='2544' max='2544' style='width:300px; height:20px; vertical-align: middle;'></progress>\n",
       "      [2544/2544 06:20, Epoch 8/8]\n",
       "    </div>\n",
       "    <table border=\"1\" class=\"dataframe\">\n",
       "  <thead>\n",
       " <tr style=\"text-align: left;\">\n",
       "      <th>Epoch</th>\n",
       "      <th>Training Loss</th>\n",
       "      <th>Validation Loss</th>\n",
       "      <th>Accuracy</th>\n",
       "    </tr>\n",
       "  </thead>\n",
       "  <tbody>\n",
       "    <tr>\n",
       "      <td>1</td>\n",
       "      <td>No log</td>\n",
       "      <td>0.202199</td>\n",
       "      <td>0.595484</td>\n",
       "    </tr>\n",
       "    <tr>\n",
       "      <td>2</td>\n",
       "      <td>0.324400</td>\n",
       "      <td>0.098591</td>\n",
       "      <td>0.828387</td>\n",
       "    </tr>\n",
       "    <tr>\n",
       "      <td>3</td>\n",
       "      <td>0.324400</td>\n",
       "      <td>0.065904</td>\n",
       "      <td>0.878710</td>\n",
       "    </tr>\n",
       "    <tr>\n",
       "      <td>4</td>\n",
       "      <td>0.114000</td>\n",
       "      <td>0.051150</td>\n",
       "      <td>0.893871</td>\n",
       "    </tr>\n",
       "    <tr>\n",
       "      <td>5</td>\n",
       "      <td>0.073400</td>\n",
       "      <td>0.042686</td>\n",
       "      <td>0.905161</td>\n",
       "    </tr>\n",
       "    <tr>\n",
       "      <td>6</td>\n",
       "      <td>0.073400</td>\n",
       "      <td>0.037792</td>\n",
       "      <td>0.909355</td>\n",
       "    </tr>\n",
       "    <tr>\n",
       "      <td>7</td>\n",
       "      <td>0.059000</td>\n",
       "      <td>0.035605</td>\n",
       "      <td>0.915484</td>\n",
       "    </tr>\n",
       "    <tr>\n",
       "      <td>8</td>\n",
       "      <td>0.052900</td>\n",
       "      <td>0.034730</td>\n",
       "      <td>0.915806</td>\n",
       "    </tr>\n",
       "  </tbody>\n",
       "</table><p>"
      ],
      "text/plain": [
       "<IPython.core.display.HTML object>"
      ]
     },
     "metadata": {},
     "output_type": "display_data"
    },
    {
     "name": "stderr",
     "output_type": "stream",
     "text": [
      "[I 2024-09-19 15:43:31,029] Trial 2 finished with value: 0.9158064516129032 and parameters: {'num_train_epochs': 8, 'alpha': 0.9664558038786579, 'temperature': 10}. Best is trial 0 with value: 0.927741935483871.\n",
      "Some weights of DistilBertForSequenceClassification were not initialized from the model checkpoint at distilbert-base-uncased and are newly initialized: ['classifier.bias', 'classifier.weight', 'pre_classifier.bias', 'pre_classifier.weight']\n",
      "You should probably TRAIN this model on a down-stream task to be able to use it for predictions and inference.\n"
     ]
    },
    {
     "data": {
      "text/html": [
       "\n",
       "    <div>\n",
       "      \n",
       "      <progress value='2544' max='2544' style='width:300px; height:20px; vertical-align: middle;'></progress>\n",
       "      [2544/2544 06:21, Epoch 8/8]\n",
       "    </div>\n",
       "    <table border=\"1\" class=\"dataframe\">\n",
       "  <thead>\n",
       " <tr style=\"text-align: left;\">\n",
       "      <th>Epoch</th>\n",
       "      <th>Training Loss</th>\n",
       "      <th>Validation Loss</th>\n",
       "      <th>Accuracy</th>\n",
       "    </tr>\n",
       "  </thead>\n",
       "  <tbody>\n",
       "    <tr>\n",
       "      <td>1</td>\n",
       "      <td>No log</td>\n",
       "      <td>0.192412</td>\n",
       "      <td>0.578710</td>\n",
       "    </tr>\n",
       "    <tr>\n",
       "      <td>2</td>\n",
       "      <td>0.308800</td>\n",
       "      <td>0.095389</td>\n",
       "      <td>0.822258</td>\n",
       "    </tr>\n",
       "    <tr>\n",
       "      <td>3</td>\n",
       "      <td>0.308800</td>\n",
       "      <td>0.064737</td>\n",
       "      <td>0.877419</td>\n",
       "    </tr>\n",
       "    <tr>\n",
       "      <td>4</td>\n",
       "      <td>0.110000</td>\n",
       "      <td>0.050768</td>\n",
       "      <td>0.891613</td>\n",
       "    </tr>\n",
       "    <tr>\n",
       "      <td>5</td>\n",
       "      <td>0.071800</td>\n",
       "      <td>0.042599</td>\n",
       "      <td>0.904194</td>\n",
       "    </tr>\n",
       "    <tr>\n",
       "      <td>6</td>\n",
       "      <td>0.071800</td>\n",
       "      <td>0.037887</td>\n",
       "      <td>0.908065</td>\n",
       "    </tr>\n",
       "    <tr>\n",
       "      <td>7</td>\n",
       "      <td>0.058000</td>\n",
       "      <td>0.035747</td>\n",
       "      <td>0.911613</td>\n",
       "    </tr>\n",
       "    <tr>\n",
       "      <td>8</td>\n",
       "      <td>0.052100</td>\n",
       "      <td>0.034889</td>\n",
       "      <td>0.913871</td>\n",
       "    </tr>\n",
       "  </tbody>\n",
       "</table><p>"
      ],
      "text/plain": [
       "<IPython.core.display.HTML object>"
      ]
     },
     "metadata": {},
     "output_type": "display_data"
    },
    {
     "name": "stderr",
     "output_type": "stream",
     "text": [
      "[I 2024-09-19 15:49:53,296] Trial 3 finished with value: 0.9138709677419354 and parameters: {'num_train_epochs': 8, 'alpha': 0.7609341909546662, 'temperature': 18}. Best is trial 0 with value: 0.927741935483871.\n",
      "Some weights of DistilBertForSequenceClassification were not initialized from the model checkpoint at distilbert-base-uncased and are newly initialized: ['classifier.bias', 'classifier.weight', 'pre_classifier.bias', 'pre_classifier.weight']\n",
      "You should probably TRAIN this model on a down-stream task to be able to use it for predictions and inference.\n"
     ]
    },
    {
     "data": {
      "text/html": [
       "\n",
       "    <div>\n",
       "      \n",
       "      <progress value='2226' max='2226' style='width:300px; height:20px; vertical-align: middle;'></progress>\n",
       "      [2226/2226 05:35, Epoch 7/7]\n",
       "    </div>\n",
       "    <table border=\"1\" class=\"dataframe\">\n",
       "  <thead>\n",
       " <tr style=\"text-align: left;\">\n",
       "      <th>Epoch</th>\n",
       "      <th>Training Loss</th>\n",
       "      <th>Validation Loss</th>\n",
       "      <th>Accuracy</th>\n",
       "    </tr>\n",
       "  </thead>\n",
       "  <tbody>\n",
       "    <tr>\n",
       "      <td>1</td>\n",
       "      <td>No log</td>\n",
       "      <td>0.201887</td>\n",
       "      <td>0.588065</td>\n",
       "    </tr>\n",
       "    <tr>\n",
       "      <td>2</td>\n",
       "      <td>0.322300</td>\n",
       "      <td>0.100059</td>\n",
       "      <td>0.822258</td>\n",
       "    </tr>\n",
       "    <tr>\n",
       "      <td>3</td>\n",
       "      <td>0.322300</td>\n",
       "      <td>0.068092</td>\n",
       "      <td>0.876774</td>\n",
       "    </tr>\n",
       "    <tr>\n",
       "      <td>4</td>\n",
       "      <td>0.115600</td>\n",
       "      <td>0.053779</td>\n",
       "      <td>0.889355</td>\n",
       "    </tr>\n",
       "    <tr>\n",
       "      <td>5</td>\n",
       "      <td>0.076300</td>\n",
       "      <td>0.045709</td>\n",
       "      <td>0.900323</td>\n",
       "    </tr>\n",
       "    <tr>\n",
       "      <td>6</td>\n",
       "      <td>0.076300</td>\n",
       "      <td>0.041688</td>\n",
       "      <td>0.904839</td>\n",
       "    </tr>\n",
       "    <tr>\n",
       "      <td>7</td>\n",
       "      <td>0.063000</td>\n",
       "      <td>0.040540</td>\n",
       "      <td>0.903871</td>\n",
       "    </tr>\n",
       "  </tbody>\n",
       "</table><p>"
      ],
      "text/plain": [
       "<IPython.core.display.HTML object>"
      ]
     },
     "metadata": {},
     "output_type": "display_data"
    },
    {
     "name": "stderr",
     "output_type": "stream",
     "text": [
      "[I 2024-09-19 15:55:28,991] Trial 4 finished with value: 0.9038709677419355 and parameters: {'num_train_epochs': 7, 'alpha': 0.8418102774144052, 'temperature': 11}. Best is trial 0 with value: 0.927741935483871.\n",
      "Some weights of DistilBertForSequenceClassification were not initialized from the model checkpoint at distilbert-base-uncased and are newly initialized: ['classifier.bias', 'classifier.weight', 'pre_classifier.bias', 'pre_classifier.weight']\n",
      "You should probably TRAIN this model on a down-stream task to be able to use it for predictions and inference.\n"
     ]
    },
    {
     "data": {
      "text/html": [
       "\n",
       "    <div>\n",
       "      \n",
       "      <progress value='429' max='1908' style='width:300px; height:20px; vertical-align: middle;'></progress>\n",
       "      [ 429/1908 01:01 < 03:34, 6.91 it/s, Epoch 1.35/6]\n",
       "    </div>\n",
       "    <table border=\"1\" class=\"dataframe\">\n",
       "  <thead>\n",
       " <tr style=\"text-align: left;\">\n",
       "      <th>Epoch</th>\n",
       "      <th>Training Loss</th>\n",
       "      <th>Validation Loss</th>\n",
       "      <th>Accuracy</th>\n",
       "    </tr>\n",
       "  </thead>\n",
       "  <tbody>\n",
       "    <tr>\n",
       "      <td>1</td>\n",
       "      <td>No log</td>\n",
       "      <td>0.421135</td>\n",
       "      <td>0.667419</td>\n",
       "    </tr>\n",
       "  </tbody>\n",
       "</table><p>"
      ],
      "text/plain": [
       "<IPython.core.display.HTML object>"
      ]
     },
     "metadata": {},
     "output_type": "display_data"
    }
   ],
   "source": [
    "best_run = distilbert_trainer.hyperparameter_search(\n",
    "    n_trials=20, direction=\"maximize\", hp_space=hp_space)"
   ]
  },
  {
   "cell_type": "code",
   "execution_count": null,
   "id": "0fa3f38f",
   "metadata": {},
   "outputs": [],
   "source": [
    "print(best_run)"
   ]
  },
  {
   "cell_type": "code",
   "execution_count": null,
   "id": "d854ea59",
   "metadata": {},
   "outputs": [],
   "source": [
    "for k,v in best_run.hyperparameters.items():\n",
    "    setattr(student_training_args, k, v)\n",
    "\n",
    "# Define a new repository to store our distilled model\n",
    "distilled_ckpt = \"distilbert-base-uncased-distilled-clinc\"\n",
    "student_training_args.output_dir = distilled_ckpt\n",
    "\n",
    "# Create a new Trainer with optimal parameters\n",
    "distil_trainer = DistillationTrainer(model_init=student_init,\n",
    "    teacher_model=teacher_model, args=student_training_args,\n",
    "    train_dataset=clinc_enc['train'], eval_dataset=clinc_enc['validation'],\n",
    "    compute_metrics=compute_metrics, tokenizer=student_tokenizer)\n",
    "\n",
    "distil_trainer.train();"
   ]
  },
  {
   "cell_type": "code",
   "execution_count": null,
   "id": "13d0cd2d",
   "metadata": {},
   "outputs": [],
   "source": [
    "# distil_trainer.push_to_hub(\"Training complete\")"
   ]
  },
  {
   "cell_type": "markdown",
   "id": "cc406c48",
   "metadata": {},
   "source": [
    "### Benchmarking Our Distilled Model"
   ]
  },
  {
   "cell_type": "code",
   "execution_count": null,
   "id": "16ab1c08",
   "metadata": {},
   "outputs": [],
   "source": [
    "distilled_ckpt = \"transformersbook/distilbert-base-uncased-distilled-clinc\"\n",
    "pipe = pipeline(\"text-classification\", model=distilled_ckpt)\n",
    "optim_type = \"Distillation\"\n",
    "pb = PerformanceBenchmark(pipe, clinc[\"test\"], optim_type=optim_type)\n",
    "perf_metrics.update(pb.run_benchmark())"
   ]
  },
  {
   "cell_type": "code",
   "execution_count": null,
   "id": "ac136a90",
   "metadata": {},
   "outputs": [],
   "source": [
    "plot_metrics(perf_metrics, optim_type)"
   ]
  },
  {
   "cell_type": "markdown",
   "id": "54ee1189",
   "metadata": {},
   "source": [
    "### Making Models Faster with Quantization"
   ]
  },
  {
   "cell_type": "code",
   "execution_count": null,
   "id": "650105b8",
   "metadata": {},
   "outputs": [],
   "source": [
    "import matplotlib.pyplot as plt\n",
    "\n",
    "state_dict = pipe.model.state_dict()\n",
    "weights = state_dict[\"distilbert.transformer.layer.0.attention.out_lin.weight\"]\n",
    "plt.hist(weights.flatten().numpy(), bins=250, range=(-0.3,0.3), edgecolor=\"C0\")\n",
    "plt.show()"
   ]
  },
  {
   "cell_type": "code",
   "execution_count": null,
   "id": "6538ecaa",
   "metadata": {},
   "outputs": [],
   "source": [
    "zero_point = 0\n",
    "scale = (weights.max() - weights.min()) / (127 - (-128))"
   ]
  },
  {
   "cell_type": "code",
   "execution_count": null,
   "id": "281f5427",
   "metadata": {},
   "outputs": [],
   "source": [
    "(weights / scale + zero_point).clamp(-128, 127).round().char()"
   ]
  },
  {
   "cell_type": "code",
   "execution_count": null,
   "id": "e26d47ca",
   "metadata": {},
   "outputs": [],
   "source": [
    "from torch import quantize_per_tensor\n",
    "\n",
    "dtype = torch.qint8\n",
    "quantized_weights = quantize_per_tensor(weights, scale, zero_point, dtype)\n",
    "quantized_weights.int_repr()"
   ]
  },
  {
   "cell_type": "code",
   "execution_count": null,
   "id": "52bca699",
   "metadata": {},
   "outputs": [],
   "source": [
    "%%timeit\n",
    "weights @ weights"
   ]
  },
  {
   "cell_type": "code",
   "execution_count": null,
   "id": "a8eb1ae8",
   "metadata": {},
   "outputs": [],
   "source": [
    "from torch.nn.quantized import QFunctional\n",
    "\n",
    "q_fn = QFunctional()"
   ]
  },
  {
   "cell_type": "code",
   "execution_count": null,
   "id": "a333281e",
   "metadata": {},
   "outputs": [],
   "source": [
    "%%timeit\n",
    "q_fn.mul(quantized_weights, quantized_weights)"
   ]
  },
  {
   "cell_type": "code",
   "execution_count": null,
   "id": "756e8c0e",
   "metadata": {},
   "outputs": [],
   "source": [
    "import sys\n",
    "\n",
    "sys.getsizeof(weights.storage()) / sys.getsizeof(quantized_weights.storage())"
   ]
  },
  {
   "cell_type": "code",
   "execution_count": null,
   "id": "c661e61e",
   "metadata": {},
   "outputs": [],
   "source": [
    "from torch.quantization import quantize_dynamic\n",
    "\n",
    "model_ckpt = \"transformersbook/distilbert-base-uncased-distilled-clinc\"\n",
    "tokenizer = AutoTokenizer.from_pretrained(model_ckpt)\n",
    "model = (AutoModelForSequenceClassification\n",
    "         .from_pretrained(model_ckpt).to(\"cpu\"))\n",
    "\n",
    "model_quantized = quantize_dynamic(model, {nn.Linear}, dtype=torch.qint8)"
   ]
  },
  {
   "cell_type": "code",
   "execution_count": null,
   "id": "3cd94377",
   "metadata": {},
   "outputs": [],
   "source": [
    "pipe = pipeline(\"text-classification\", model=model_quantized,\n",
    "                 tokenizer=tokenizer)\n",
    "optim_type = \"Distillation + quantization\"\n",
    "pb = PerformanceBenchmark(pipe, clinc[\"test\"], optim_type=optim_type)\n",
    "perf_metrics.update(pb.run_benchmark())"
   ]
  },
  {
   "cell_type": "markdown",
   "id": "5a073a95",
   "metadata": {},
   "source": [
    "### Optimizing Inference with ONNX and the ONNX Runtime"
   ]
  },
  {
   "cell_type": "code",
   "execution_count": null,
   "id": "319a747f",
   "metadata": {},
   "outputs": [],
   "source": [
    "import os\n",
    "from psutil import cpu_count\n",
    "\n",
    "os.environ[\"OMP_NUM_THREADS\"] = f\"{cpu_count()}\"\n",
    "os.environ[\"OMP_WAIT_POLICY\"] = \"ACTIVE\""
   ]
  },
  {
   "cell_type": "code",
   "execution_count": null,
   "id": "ce18e5bf",
   "metadata": {},
   "outputs": [],
   "source": [
    "from transformers.convert_graph_to_onnx import convert\n",
    "\n",
    "model_ckpt = \"transformersbook/distilbert-base-uncased-distilled-clinc\"\n",
    "onnx_model_path = Path(\"onnx/model.onnx\")\n",
    "convert(framework=\"pt\", model=model_ckpt, tokenizer=tokenizer,\n",
    "     output=onnx_model_path, opset=12, pipeline_name=\"text-classification\")"
   ]
  },
  {
   "cell_type": "code",
   "execution_count": null,
   "id": "0c77a233",
   "metadata": {},
   "outputs": [],
   "source": [
    "from onnxruntime import (GraphOptimizationLevel, InferenceSession,\n",
    "                         SessionOptions)\n",
    "\n",
    "def create_model_for_provider(model_path, provider=\"CPUExecutionProvider\"):\n",
    "    options = SessionOptions()\n",
    "    options.intra_op_num_threads = 1\n",
    "    options.graph_optimization_level = GraphOptimizationLevel.ORT_ENABLE_ALL\n",
    "    session = InferenceSession(str(model_path), options, providers=[provider])\n",
    "    session.disable_fallback()\n",
    "    return session\n",
    "\n",
    "onnx_model = create_model_for_provider(onnx_model_path)"
   ]
  },
  {
   "cell_type": "code",
   "execution_count": null,
   "id": "00e07e88",
   "metadata": {},
   "outputs": [],
   "source": [
    "inputs = clinc_enc[\"test\"][:1]\n",
    "del inputs[\"labels\"]\n",
    "logits_onnx = onnx_model.run(None, inputs)[0]\n",
    "logits_onnx.shape"
   ]
  },
  {
   "cell_type": "code",
   "execution_count": null,
   "id": "abde0a5e",
   "metadata": {},
   "outputs": [],
   "source": [
    "np.argmax(logits_onnx)"
   ]
  },
  {
   "cell_type": "code",
   "execution_count": null,
   "id": "a722942f",
   "metadata": {},
   "outputs": [],
   "source": [
    "clinc_enc[\"test\"][0][\"labels\"]"
   ]
  },
  {
   "cell_type": "code",
   "execution_count": null,
   "id": "3af13398",
   "metadata": {},
   "outputs": [],
   "source": [
    "from scipy.special import softmax\n",
    "\n",
    "class OnnxPipeline:\n",
    "    def __init__(self, model, tokenizer):\n",
    "        self.model = model\n",
    "        self.tokenizer = tokenizer\n",
    "        \n",
    "    def __call__(self, query):\n",
    "        model_inputs = self.tokenizer(query, return_tensors=\"pt\")\n",
    "        inputs_onnx = {k: v.cpu().detach().numpy()\n",
    "        for k, v in model_inputs.items()}\n",
    "        logits = self.model.run(None, inputs_onnx)[0][0, :]\n",
    "        probs = softmax(logits)\n",
    "        pred_idx = np.argmax(probs).item()\n",
    "        return [{\"label\": intents.int2str(pred_idx), \"score\": probs[pred_idx]}]"
   ]
  },
  {
   "cell_type": "code",
   "execution_count": null,
   "id": "7fd8fb3b",
   "metadata": {},
   "outputs": [],
   "source": [
    "pipe = OnnxPipeline(onnx_model, tokenizer)\n",
    "pipe(query)"
   ]
  },
  {
   "cell_type": "code",
   "execution_count": null,
   "id": "dbad30ba",
   "metadata": {},
   "outputs": [],
   "source": [
    "class OnnxPerformanceBenchmark(PerformanceBenchmark):\n",
    "    def __init__(self, *args, model_path, **kwargs):\n",
    "        super().__init__(*args, **kwargs)\n",
    "        self.model_path = model_path\n",
    "\n",
    "    def compute_size(self):\n",
    "        size_mb = Path(self.model_path).stat().st_size / (1024 * 1024)\n",
    "        print(f\"Model size (MB) - {size_mb:.2f}\")\n",
    "        return {\"size_mb\": size_mb}"
   ]
  },
  {
   "cell_type": "code",
   "execution_count": null,
   "id": "9a3336bb",
   "metadata": {},
   "outputs": [],
   "source": [
    "optim_type = \"Distillation + ORT\"\n",
    "pb = OnnxPerformanceBenchmark(pipe, clinc[\"test\"], optim_type,\n",
    "                              model_path=\"onnx/model.onnx\")\n",
    "perf_metrics.update(pb.run_benchmark())"
   ]
  },
  {
   "cell_type": "code",
   "execution_count": null,
   "id": "a4fa179d",
   "metadata": {},
   "outputs": [],
   "source": [
    "plot_metrics(perf_metrics, optim_type)"
   ]
  },
  {
   "cell_type": "code",
   "execution_count": null,
   "id": "e96a1ffd",
   "metadata": {},
   "outputs": [],
   "source": [
    "from onnxruntime.quantization import quantize_dynamic, QuantType\n",
    "\n",
    "model_input = \"onnx/model.onnx\"\n",
    "model_output = \"onnx/model.quant.onnx\"\n",
    "quantize_dynamic(model_input, model_output, weight_type=QuantType.QInt8)"
   ]
  },
  {
   "cell_type": "code",
   "execution_count": null,
   "id": "82d804bd",
   "metadata": {},
   "outputs": [],
   "source": [
    "onnx_quantized_model = create_model_for_provider(model_output)\n",
    "pipe = OnnxPipeline(onnx_quantized_model, tokenizer)\n",
    "optim_type = \"Distillation + ORT (quantized)\"\n",
    "pb = OnnxPerformanceBenchmark(pipe, clinc[\"test\"], optim_type,\n",
    "                             model_path=model_output)\n",
    "perf_metrics.update(pb.run_benchmark())"
   ]
  },
  {
   "cell_type": "code",
   "execution_count": null,
   "id": "608571a0",
   "metadata": {},
   "outputs": [],
   "source": []
  }
 ],
 "metadata": {
  "kernelspec": {
   "display_name": "Python 3 (ipykernel)",
   "language": "python",
   "name": "python3"
  },
  "language_info": {
   "codemirror_mode": {
    "name": "ipython",
    "version": 3
   },
   "file_extension": ".py",
   "mimetype": "text/x-python",
   "name": "python",
   "nbconvert_exporter": "python",
   "pygments_lexer": "ipython3",
   "version": "3.12.3"
  }
 },
 "nbformat": 4,
 "nbformat_minor": 5
}
