{
 "cells": [
  {
   "cell_type": "markdown",
   "id": "b158030e-653a-4719-abd7-d0bd19073ddd",
   "metadata": {},
   "source": [
    "## 1. Fetching Data"
   ]
  },
  {
   "cell_type": "code",
   "execution_count": 16,
   "id": "3cc58627-6466-47a0-9026-6a317d6e4f30",
   "metadata": {},
   "outputs": [],
   "source": [
    "!pip install opendatasets --upgrade --quiet"
   ]
  },
  {
   "cell_type": "code",
   "execution_count": 17,
   "id": "888aa795-5643-4082-99a0-3e2cfae29a41",
   "metadata": {},
   "outputs": [
    {
     "name": "stdout",
     "output_type": "stream",
     "text": [
      "Please provide your Kaggle credentials to download this dataset. Learn more: http://bit.ly/kaggle-creds\n",
      "Your Kaggle username:"
     ]
    },
    {
     "name": "stdin",
     "output_type": "stream",
     "text": [
      "  aquibalikhan\n"
     ]
    },
    {
     "name": "stdout",
     "output_type": "stream",
     "text": [
      "Your Kaggle Key:"
     ]
    },
    {
     "name": "stdin",
     "output_type": "stream",
     "text": [
      "  ········\n"
     ]
    },
    {
     "name": "stdout",
     "output_type": "stream",
     "text": [
      "Downloading tweet-sentiment-extraction.zip to .\\tweet-sentiment-extraction\n"
     ]
    },
    {
     "name": "stderr",
     "output_type": "stream",
     "text": [
      "100%|██████████████████████████████████████████████████████████████████████████████| 1.39M/1.39M [00:01<00:00, 757kB/s]"
     ]
    },
    {
     "name": "stdout",
     "output_type": "stream",
     "text": [
      "\n",
      "Extracting archive .\\tweet-sentiment-extraction/tweet-sentiment-extraction.zip to .\\tweet-sentiment-extraction\n"
     ]
    },
    {
     "name": "stderr",
     "output_type": "stream",
     "text": [
      "\n"
     ]
    }
   ],
   "source": [
    "import pandas as pd\n",
    "import os\n",
    "import opendatasets as od\n",
    "\n",
    "# Assign the Kaggle data set URL into variable\n",
    "dataset = 'https://kaggle.com/c/tweet-sentiment-extraction/data'\n",
    "\n",
    "# Using opendatasets let's download the data sets\n",
    "od.download(dataset)"
   ]
  },
  {
   "cell_type": "markdown",
   "id": "8287e078-5281-476a-ad28-d24fb63005be",
   "metadata": {},
   "source": [
    "## Data Prep"
   ]
  },
  {
   "cell_type": "code",
   "execution_count": 1,
   "id": "0147023b-152a-4e59-8dab-485aa7916288",
   "metadata": {},
   "outputs": [
    {
     "name": "stdout",
     "output_type": "stream",
     "text": [
      "Train size: 21984, Test size: 5496\n"
     ]
    }
   ],
   "source": [
    "import pandas as pd\n",
    "from sklearn.model_selection import train_test_split\n",
    "\n",
    "# Load the dataset\n",
    "dataset = pd.read_csv(\"tweet-sentiment-extraction/train.csv\")\n",
    "dataset = dataset.dropna(subset=[\"text\", \"sentiment\"])\n",
    "\n",
    "dataset = dataset[[\"text\", \"sentiment\"]]\n",
    "train_data, test_data = train_test_split(dataset, test_size=0.2, random_state=42)\n",
    "\n",
    "train_data = pd.DataFrame(train_data)\n",
    "test_data = pd.DataFrame(test_data)\n",
    "\n",
    "# Check the dataset sizes\n",
    "print(f\"Train size: {len(train_data)}, Test size: {len(test_data)}\")"
   ]
  },
  {
   "cell_type": "code",
   "execution_count": 2,
   "id": "7dc01ea8-24e1-4a68-9d48-0091623a7aa3",
   "metadata": {},
   "outputs": [],
   "source": [
    "# Define the mapping\n",
    "sentiment_mapping = {'neutral': 0, 'negative': 1, 'positive': 2}\n",
    "\n",
    "# Map sentiments in both train and test datasets\n",
    "train_data['sentiment'] = train_data['sentiment'].map(sentiment_mapping)\n",
    "test_data['sentiment'] = test_data['sentiment'].map(sentiment_mapping)"
   ]
  },
  {
   "cell_type": "code",
   "execution_count": 3,
   "id": "462464b0-d38d-4a9c-9e63-5257e48f5f82",
   "metadata": {},
   "outputs": [
    {
     "name": "stdout",
     "output_type": "stream",
     "text": [
      "[50256]\n"
     ]
    }
   ],
   "source": [
    "import tiktoken\n",
    "\n",
    "tokenizer = tiktoken.get_encoding(\"gpt2\")\n",
    "print(tokenizer.encode(\"<|endoftext|>\", allowed_special={\"<|endoftext|>\"}))"
   ]
  },
  {
   "cell_type": "code",
   "execution_count": 4,
   "id": "c0991f3d-b18c-4966-b64d-2b844dcace7b",
   "metadata": {},
   "outputs": [],
   "source": [
    "import torch\n",
    "from torch.utils.data import Dataset\n",
    "\n",
    "\n",
    "class SentimentDataset(Dataset):\n",
    "    def __init__(self, data, tokenizer, max_length=None, pad_token_id=50256):\n",
    "        # self.data = pd.read_csv(csv_file)\n",
    "        self.data = data\n",
    "        \n",
    "        # Pre-tokenize texts\n",
    "        self.encoded_texts = [\n",
    "            tokenizer.encode(text) for text in self.data[\"text\"]\n",
    "        ]\n",
    "\n",
    "        if max_length is None:\n",
    "            self.max_length = self._longest_encoded_length()\n",
    "        else:\n",
    "            self.max_length = max_length\n",
    "            # Truncate sequences if they are longer than max_length\n",
    "            self.encoded_texts = [\n",
    "                encoded_text[:self.max_length]\n",
    "                for encoded_text in self.encoded_texts\n",
    "            ]\n",
    "\n",
    "        # Pad sequences to the longest sequence\n",
    "        self.encoded_texts = [\n",
    "            encoded_text + [pad_token_id] * (self.max_length - len(encoded_text))\n",
    "            for encoded_text in self.encoded_texts\n",
    "        ]\n",
    "\n",
    "    def __getitem__(self, index):\n",
    "        encoded = self.encoded_texts[index]\n",
    "        label = self.data.iloc[index][\"sentiment\"]\n",
    "        return (\n",
    "            torch.tensor(encoded, dtype=torch.long),\n",
    "            torch.tensor(label, dtype=torch.long)\n",
    "        )\n",
    "\n",
    "    def __len__(self):\n",
    "        return len(self.data)\n",
    "\n",
    "    def _longest_encoded_length(self):\n",
    "        max_length = 0\n",
    "        for encoded_text in self.encoded_texts:\n",
    "            encoded_length = len(encoded_text)\n",
    "            if encoded_length > max_length:\n",
    "                max_length = encoded_length\n",
    "        return max_length"
   ]
  },
  {
   "cell_type": "code",
   "execution_count": 5,
   "id": "a1044222-76b5-4fe3-aa99-eaa683e6215c",
   "metadata": {},
   "outputs": [
    {
     "name": "stdout",
     "output_type": "stream",
     "text": [
      "100\n"
     ]
    }
   ],
   "source": [
    "train_dataset = SentimentDataset(\n",
    "    data=train_data,\n",
    "    max_length=None,\n",
    "    tokenizer=tokenizer\n",
    ")\n",
    "\n",
    "print(train_dataset.max_length)"
   ]
  },
  {
   "cell_type": "code",
   "execution_count": 6,
   "id": "60269f92-032c-4525-97f3-0e8796671e33",
   "metadata": {},
   "outputs": [],
   "source": [
    "# val_dataset = SentimentDataset(\n",
    "#     data=dataset['validation'],\n",
    "#     max_length=train_dataset.max_length,\n",
    "#     tokenizer=tokenizer\n",
    "# )\n",
    "test_dataset = SentimentDataset(\n",
    "    data=test_data,\n",
    "    max_length=train_dataset.max_length,\n",
    "    tokenizer=tokenizer\n",
    ")"
   ]
  },
  {
   "cell_type": "code",
   "execution_count": 7,
   "id": "b5bf4991-c615-404e-b64c-6ef2fc3db9fa",
   "metadata": {},
   "outputs": [],
   "source": [
    "from torch.utils.data import DataLoader\n",
    "\n",
    "num_workers = 0\n",
    "batch_size = 8\n",
    "\n",
    "torch.manual_seed(123)\n",
    "\n",
    "train_loader = DataLoader(\n",
    "    dataset=train_dataset,\n",
    "    batch_size=batch_size,\n",
    "    shuffle=True,\n",
    "    num_workers=num_workers,\n",
    "    drop_last=True,\n",
    ")\n",
    "\n",
    "# val_loader = DataLoader(\n",
    "#     dataset=val_dataset,\n",
    "#     batch_size=batch_size,\n",
    "#     num_workers=num_workers,\n",
    "#     drop_last=False,\n",
    "# )\n",
    "\n",
    "test_loader = DataLoader(\n",
    "    dataset=test_dataset,\n",
    "    batch_size=batch_size,\n",
    "    num_workers=num_workers,\n",
    "    drop_last=False,\n",
    ")"
   ]
  },
  {
   "cell_type": "code",
   "execution_count": 8,
   "id": "da49832a-d0dc-42d9-ad4a-3aecb70c3f00",
   "metadata": {},
   "outputs": [
    {
     "name": "stdout",
     "output_type": "stream",
     "text": [
      "Train loader:\n",
      "Input batch dimensions: torch.Size([8, 100])\n",
      "Label batch dimensions torch.Size([8])\n"
     ]
    }
   ],
   "source": [
    "print(\"Train loader:\")\n",
    "for input_batch, target_batch in train_loader:\n",
    "    pass\n",
    "\n",
    "print(\"Input batch dimensions:\", input_batch.shape)\n",
    "print(\"Label batch dimensions\", target_batch.shape)"
   ]
  },
  {
   "cell_type": "code",
   "execution_count": 9,
   "id": "3865f679-982e-4af4-b1f9-b778c84dbb06",
   "metadata": {},
   "outputs": [
    {
     "name": "stdout",
     "output_type": "stream",
     "text": [
      "2748 training batches\n",
      "687 test batches\n"
     ]
    }
   ],
   "source": [
    "print(f\"{len(train_loader)} training batches\")\n",
    "print(f\"{len(test_loader)} test batches\")"
   ]
  },
  {
   "cell_type": "code",
   "execution_count": 10,
   "id": "a863d57e-9b43-4c54-a076-285f2494fbf9",
   "metadata": {},
   "outputs": [],
   "source": [
    "CHOOSE_MODEL = \"gpt2-small (124M)\"\n",
    "INPUT_PROMPT = \"Every effort moves\"\n",
    "\n",
    "BASE_CONFIG = {\n",
    "    \"vocab_size\": 50257,     # Vocabulary size\n",
    "    \"context_length\": 1024,  # Context length\n",
    "    \"drop_rate\": 0.0,        # Dropout rate\n",
    "    \"qkv_bias\": True         # Query-key-value bias\n",
    "}\n",
    "\n",
    "model_configs = {\n",
    "    \"gpt2-small (124M)\": {\"emb_dim\": 768, \"n_layers\": 12, \"n_heads\": 12},\n",
    "    \"gpt2-medium (355M)\": {\"emb_dim\": 1024, \"n_layers\": 24, \"n_heads\": 16},\n",
    "    \"gpt2-large (774M)\": {\"emb_dim\": 1280, \"n_layers\": 36, \"n_heads\": 20},\n",
    "    \"gpt2-xl (1558M)\": {\"emb_dim\": 1600, \"n_layers\": 48, \"n_heads\": 25},\n",
    "}\n",
    "\n",
    "BASE_CONFIG.update(model_configs[CHOOSE_MODEL])\n",
    "\n",
    "assert train_dataset.max_length <= BASE_CONFIG[\"context_length\"], (\n",
    "    f\"Dataset length {train_dataset.max_length} exceeds model's context \"\n",
    "    f\"length {BASE_CONFIG['context_length']}. Reinitialize data sets with \"\n",
    "    f\"`max_length={BASE_CONFIG['context_length']}`\"\n",
    ")"
   ]
  },
  {
   "cell_type": "code",
   "execution_count": 11,
   "id": "c7891f17-c02d-4c4b-8bfe-c6b374286eb6",
   "metadata": {},
   "outputs": [
    {
     "name": "stdout",
     "output_type": "stream",
     "text": [
      "File already exists and is up-to-date: gpt2\\124M\\checkpoint\n",
      "File already exists and is up-to-date: gpt2\\124M\\encoder.json\n",
      "File already exists and is up-to-date: gpt2\\124M\\hparams.json\n",
      "File already exists and is up-to-date: gpt2\\124M\\model.ckpt.data-00000-of-00001\n",
      "File already exists and is up-to-date: gpt2\\124M\\model.ckpt.index\n",
      "File already exists and is up-to-date: gpt2\\124M\\model.ckpt.meta\n",
      "File already exists and is up-to-date: gpt2\\124M\\vocab.bpe\n"
     ]
    }
   ],
   "source": [
    "from gpt_download import download_and_load_gpt2\n",
    "from utils import GPTModel, load_weights_into_gpt\n",
    "\n",
    "model_size = CHOOSE_MODEL.split(\" \")[-1].lstrip(\"(\").rstrip(\")\")\n",
    "settings, params = download_and_load_gpt2(model_size=model_size, models_dir=\"gpt2\")\n",
    "\n",
    "model = GPTModel(BASE_CONFIG)\n",
    "load_weights_into_gpt(model, params)\n",
    "model.eval();"
   ]
  },
  {
   "cell_type": "code",
   "execution_count": 12,
   "id": "4d4f7d89-0295-4774-8513-b4e682eb0664",
   "metadata": {},
   "outputs": [
    {
     "name": "stdout",
     "output_type": "stream",
     "text": [
      "Musk's Rocket Launcher, which is a rocket launcher that can be fired from a rocket launcher\n"
     ]
    }
   ],
   "source": [
    "from utils import (\n",
    "    generate_text_simple,\n",
    "    text_to_token_ids,\n",
    "    token_ids_to_text\n",
    ")\n",
    "\n",
    "\n",
    "text_1 = \"Musk's Rocket\"\n",
    "\n",
    "token_ids = generate_text_simple(\n",
    "    model=model,\n",
    "    idx=text_to_token_ids(text_1, tokenizer),\n",
    "    max_new_tokens=15,\n",
    "    context_size=BASE_CONFIG[\"context_length\"]\n",
    ")\n",
    "\n",
    "print(token_ids_to_text(token_ids, tokenizer))"
   ]
  },
  {
   "cell_type": "code",
   "execution_count": 18,
   "id": "d1ea6c46-b4cf-49a8-8bc1-1d9c0423cbc7",
   "metadata": {},
   "outputs": [
    {
     "name": "stdout",
     "output_type": "stream",
     "text": [
      "Is the following text 'Sentiment'? Answer with 'neutral' or 'negative' or 'positive':  'I`d have responded, if I were going to respond, I would have to say something positive. I`d like to be positive.' 'I`d\n"
     ]
    }
   ],
   "source": [
    "text_2 = (\n",
    "    \"Is the following text 'Sentiment'? Answer with 'neutral' or 'negative' or 'positive': \"\n",
    "    \" 'I`d have responded, if I were going\"\n",
    ")\n",
    "\n",
    "token_ids = generate_text_simple(\n",
    "    model=model,\n",
    "    idx=text_to_token_ids(text_2, tokenizer),\n",
    "    max_new_tokens=23,\n",
    "    context_size=BASE_CONFIG[\"context_length\"]\n",
    ")\n",
    "\n",
    "print(token_ids_to_text(token_ids, tokenizer))"
   ]
  },
  {
   "cell_type": "code",
   "execution_count": 20,
   "id": "cd8f102c-aaba-488b-9e02-6840c17f9464",
   "metadata": {},
   "outputs": [],
   "source": [
    "for param in model.parameters():\n",
    "    param.requires_grad = False"
   ]
  },
  {
   "cell_type": "code",
   "execution_count": 21,
   "id": "29bc0136-f755-4332-8b41-ba57bcfba176",
   "metadata": {},
   "outputs": [],
   "source": [
    "torch.manual_seed(123)\n",
    "\n",
    "num_classes = 3\n",
    "model.out_head = torch.nn.Linear(in_features=BASE_CONFIG[\"emb_dim\"], out_features=num_classes)"
   ]
  },
  {
   "cell_type": "code",
   "execution_count": 22,
   "id": "8fea8830-f142-4bde-acc1-ae3dd2e36e2d",
   "metadata": {},
   "outputs": [],
   "source": [
    "for param in model.trf_blocks[-1].parameters():\n",
    "    param.requires_grad = True\n",
    "\n",
    "for param in model.final_norm.parameters():\n",
    "    param.requires_grad = True"
   ]
  },
  {
   "cell_type": "markdown",
   "id": "1d0fef36-7c19-4ec8-956b-38c936899cb0",
   "metadata": {},
   "source": [
    "## Sanity Check"
   ]
  },
  {
   "cell_type": "code",
   "execution_count": 24,
   "id": "194d672c-3ad5-4c33-97d4-5c9601ac7f57",
   "metadata": {},
   "outputs": [
    {
     "name": "stdout",
     "output_type": "stream",
     "text": [
      "Inputs: tensor([[   50, 34160,   311,  2885,   314,   481,  2051,   345,   994,   287,\n",
      "          2986,  9500,  3228]])\n",
      "Inputs dimensions: torch.Size([1, 13])\n"
     ]
    }
   ],
   "source": [
    "inputs = tokenizer.encode(\"Sooo SAD I will miss you here in San Diego!!\")\n",
    "inputs = torch.tensor(inputs).unsqueeze(0)\n",
    "print(\"Inputs:\", inputs)\n",
    "print(\"Inputs dimensions:\", inputs.shape) # shape: (batch_size, num_tokens)"
   ]
  },
  {
   "cell_type": "code",
   "execution_count": 25,
   "id": "2f85d1a7-fb87-4729-aedd-76d87424db57",
   "metadata": {},
   "outputs": [
    {
     "name": "stdout",
     "output_type": "stream",
     "text": [
      "Outputs:\n",
      " tensor([[[-1.7747,  1.3237,  0.0834],\n",
      "         [-3.7438,  4.0419,  0.8226],\n",
      "         [-3.7711,  4.1501,  0.4069],\n",
      "         [-3.6464,  4.4817,  1.5709],\n",
      "         [-4.9134,  7.1774,  1.8938],\n",
      "         [-3.7705,  7.2875,  2.9469],\n",
      "         [-3.0402,  4.9425,  2.4575],\n",
      "         [-3.8183,  5.4426,  2.0826],\n",
      "         [-4.2299,  5.3061,  2.5824],\n",
      "         [-2.6463,  4.5022,  1.7743],\n",
      "         [-3.3231,  4.1168,  1.7246],\n",
      "         [-3.9621,  4.5100,  2.2121],\n",
      "         [-4.3631,  5.0891,  2.2499]]])\n",
      "Outputs dimensions: torch.Size([1, 13, 3])\n"
     ]
    }
   ],
   "source": [
    "with torch.no_grad():\n",
    "    outputs = model(inputs)\n",
    "\n",
    "print(\"Outputs:\\n\", outputs)\n",
    "print(\"Outputs dimensions:\", outputs.shape) # shape: (batch_size, num_tokens, num_classes)"
   ]
  },
  {
   "cell_type": "code",
   "execution_count": 26,
   "id": "cd0fe8e2-47bd-42f6-a5c3-47eec6c92b71",
   "metadata": {},
   "outputs": [
    {
     "name": "stdout",
     "output_type": "stream",
     "text": [
      "Last output token: tensor([[-4.3631,  5.0891,  2.2499]])\n"
     ]
    }
   ],
   "source": [
    "print(\"Last output token:\", outputs[:, -1, :])"
   ]
  },
  {
   "cell_type": "code",
   "execution_count": 27,
   "id": "b45ab17c-e37d-473c-a128-6aa81ab21d31",
   "metadata": {},
   "outputs": [
    {
     "name": "stdout",
     "output_type": "stream",
     "text": [
      "Last output token: tensor([[-4.3631,  5.0891,  2.2499]])\n",
      "Class label: 1\n"
     ]
    }
   ],
   "source": [
    "print(\"Last output token:\", outputs[:, -1, :])\n",
    "probas = torch.softmax(outputs[:, -1, :], dim=-1)\n",
    "label = torch.argmax(probas)\n",
    "print(\"Class label:\", label.item())"
   ]
  },
  {
   "cell_type": "code",
   "execution_count": 29,
   "id": "c6c9af7c-568c-4cbd-a385-398a2155c3c5",
   "metadata": {},
   "outputs": [
    {
     "name": "stdout",
     "output_type": "stream",
     "text": [
      "Class label: 1\n"
     ]
    }
   ],
   "source": [
    "logits = outputs[:, -1, :]\n",
    "label = torch.argmax(logits)\n",
    "print(\"Class label:\", label.item())"
   ]
  },
  {
   "cell_type": "code",
   "execution_count": 30,
   "id": "e3eda55b-86e5-469f-b9f1-7dfa67073c09",
   "metadata": {},
   "outputs": [],
   "source": [
    "def calc_accuracy_loader(data_loader, model, device, num_batches=None):\n",
    "    model.eval()\n",
    "    correct_predictions, num_examples = 0, 0\n",
    "\n",
    "    if num_batches is None:\n",
    "        num_batches = len(data_loader)\n",
    "    else:\n",
    "        num_batches = min(num_batches, len(data_loader))\n",
    "    for i, (input_batch, target_batch) in enumerate(data_loader):\n",
    "        if i < num_batches:\n",
    "            input_batch, target_batch = input_batch.to(device), target_batch.to(device)\n",
    "\n",
    "            with torch.no_grad():\n",
    "                logits = model(input_batch)[:, -1, :]  # Logits of last output token\n",
    "            predicted_labels = torch.argmax(logits, dim=-1)\n",
    "\n",
    "            num_examples += predicted_labels.shape[0]\n",
    "            correct_predictions += (predicted_labels == target_batch).sum().item()\n",
    "        else:\n",
    "            break\n",
    "    return correct_predictions / num_examples"
   ]
  },
  {
   "cell_type": "code",
   "execution_count": 32,
   "id": "899edfdb-3ea6-47e7-9aca-aefac280ad5e",
   "metadata": {},
   "outputs": [
    {
     "name": "stdout",
     "output_type": "stream",
     "text": [
      "Training accuracy: 30.00%\n",
      "Test accuracy: 27.50%\n"
     ]
    }
   ],
   "source": [
    "device = torch.device(\"cuda\" if torch.cuda.is_available() else \"cpu\")\n",
    "\n",
    "# Note:\n",
    "# Uncommenting the following lines will allow the code to run on Apple Silicon chips, if applicable,\n",
    "# which is approximately 2x faster than on an Apple CPU (as measured on an M3 MacBook Air).\n",
    "# As of this writing, in PyTorch 2.4, the results obtained via CPU and MPS were identical.\n",
    "# However, in earlier versions of PyTorch, you may observe different results when using MPS.\n",
    "\n",
    "#if torch.cuda.is_available():\n",
    "#    device = torch.device(\"cuda\")\n",
    "#elif torch.backends.mps.is_available():\n",
    "#    device = torch.device(\"mps\")\n",
    "#else:\n",
    "#    device = torch.device(\"cpu\")\n",
    "#print(f\"Running on {device} device.\")\n",
    "\n",
    "model.to(device) # no assignment model = model.to(device) necessary for nn.Module classes\n",
    "\n",
    "torch.manual_seed(123) # For reproducibility due to the shuffling in the training data loader\n",
    "\n",
    "train_accuracy = calc_accuracy_loader(train_loader, model, device, num_batches=10)\n",
    "# val_accuracy = calc_accuracy_loader(val_loader, model, device, num_batches=10)\n",
    "test_accuracy = calc_accuracy_loader(test_loader, model, device, num_batches=10)\n",
    "\n",
    "print(f\"Training accuracy: {train_accuracy*100:.2f}%\")\n",
    "# print(f\"Validation accuracy: {val_accuracy*100:.2f}%\")\n",
    "print(f\"Test accuracy: {test_accuracy*100:.2f}%\")"
   ]
  },
  {
   "cell_type": "markdown",
   "id": "3979f0bc-0a18-442f-bc80-20d4cc9960af",
   "metadata": {},
   "source": [
    "### Finetune"
   ]
  },
  {
   "cell_type": "code",
   "execution_count": 33,
   "id": "a2433cec-6c56-49d0-949f-d827ba85e671",
   "metadata": {},
   "outputs": [],
   "source": [
    "def calc_loss_batch(input_batch, target_batch, model, device):\n",
    "    input_batch, target_batch = input_batch.to(device), target_batch.to(device)\n",
    "    logits = model(input_batch)[:, -1, :]  # Logits of last output token\n",
    "    loss = torch.nn.functional.cross_entropy(logits, target_batch)\n",
    "    return loss"
   ]
  },
  {
   "cell_type": "code",
   "execution_count": 34,
   "id": "ca1a09ff-0b83-42fe-8788-f1db90d4cad0",
   "metadata": {},
   "outputs": [],
   "source": [
    "# Same as in chapter 5\n",
    "def calc_loss_loader(data_loader, model, device, num_batches=None):\n",
    "    total_loss = 0.\n",
    "    if len(data_loader) == 0:\n",
    "        return float(\"nan\")\n",
    "    elif num_batches is None:\n",
    "        num_batches = len(data_loader)\n",
    "    else:\n",
    "        # Reduce the number of batches to match the total number of batches in the data loader\n",
    "        # if num_batches exceeds the number of batches in the data loader\n",
    "        num_batches = min(num_batches, len(data_loader))\n",
    "    for i, (input_batch, target_batch) in enumerate(data_loader):\n",
    "        if i < num_batches:\n",
    "            loss = calc_loss_batch(input_batch, target_batch, model, device)\n",
    "            total_loss += loss.item()\n",
    "        else:\n",
    "            break\n",
    "    return total_loss / num_batches"
   ]
  },
  {
   "cell_type": "code",
   "execution_count": 36,
   "id": "f407cb3a-14da-462e-b0e1-03b00102531c",
   "metadata": {},
   "outputs": [
    {
     "name": "stdout",
     "output_type": "stream",
     "text": [
      "Training loss: 3.806\n",
      "Test loss: 3.425\n"
     ]
    }
   ],
   "source": [
    "with torch.no_grad(): # Disable gradient tracking for efficiency because we are not training, yet\n",
    "    train_loss = calc_loss_loader(train_loader, model, device, num_batches=5)\n",
    "    # val_loss = calc_loss_loader(val_loader, model, device, num_batches=5)\n",
    "    test_loss = calc_loss_loader(test_loader, model, device, num_batches=5)\n",
    "\n",
    "print(f\"Training loss: {train_loss:.3f}\")\n",
    "# print(f\"Validation loss: {val_loss:.3f}\")\n",
    "print(f\"Test loss: {test_loss:.3f}\")"
   ]
  },
  {
   "cell_type": "code",
   "execution_count": 38,
   "id": "03e22357-9b73-4104-a1aa-69103f1798b4",
   "metadata": {},
   "outputs": [],
   "source": [
    "# Overall the same as `train_model_simple` in chapter 5\n",
    "def train_classifier_simple(model, train_loader, val_loader, optimizer, device, num_epochs,\n",
    "                            eval_freq, eval_iter):\n",
    "    # Initialize lists to track losses and examples seen\n",
    "    train_losses, val_losses, train_accs, val_accs = [], [], [], []\n",
    "    examples_seen, global_step = 0, -1\n",
    "\n",
    "    # Main training loop\n",
    "    for epoch in range(num_epochs):\n",
    "        model.train()  # Set model to training mode\n",
    "\n",
    "        for input_batch, target_batch in train_loader:\n",
    "            optimizer.zero_grad() # Reset loss gradients from previous batch iteration\n",
    "            loss = calc_loss_batch(input_batch, target_batch, model, device)\n",
    "            loss.backward() # Calculate loss gradients\n",
    "            optimizer.step() # Update model weights using loss gradients\n",
    "            examples_seen += input_batch.shape[0] # New: track examples instead of tokens\n",
    "            global_step += 1\n",
    "\n",
    "            # Optional evaluation step\n",
    "            if global_step % eval_freq == 0:\n",
    "                train_loss, val_loss = evaluate_model(\n",
    "                    model, train_loader, val_loader, device, eval_iter)\n",
    "                train_losses.append(train_loss)\n",
    "                val_losses.append(val_loss)\n",
    "                print(f\"Ep {epoch+1} (Step {global_step:06d}): \"\n",
    "                      f\"Train loss {train_loss:.3f}, Val loss {val_loss:.3f}\")\n",
    "\n",
    "        # Calculate accuracy after each epoch\n",
    "        train_accuracy = calc_accuracy_loader(train_loader, model, device, num_batches=eval_iter)\n",
    "        val_accuracy = calc_accuracy_loader(test_loader, model, device, num_batches=eval_iter)\n",
    "        print(f\"Training accuracy: {train_accuracy*100:.2f}% | \", end=\"\")\n",
    "        print(f\"Validation accuracy: {val_accuracy*100:.2f}%\")\n",
    "        train_accs.append(train_accuracy)\n",
    "        val_accs.append(val_accuracy)\n",
    "\n",
    "    return train_losses, val_losses, train_accs, val_accs, examples_seen"
   ]
  },
  {
   "cell_type": "code",
   "execution_count": 39,
   "id": "75a860d5-c41d-44a7-8fcf-db8bf7eac9d3",
   "metadata": {},
   "outputs": [],
   "source": [
    "def evaluate_model(model, train_loader, val_loader, device, eval_iter):\n",
    "    model.eval()\n",
    "    with torch.no_grad():\n",
    "        train_loss = calc_loss_loader(train_loader, model, device, num_batches=eval_iter)\n",
    "        val_loss = calc_loss_loader(test_loader, model, device, num_batches=eval_iter)\n",
    "    model.train()\n",
    "    return train_loss, val_loss"
   ]
  },
  {
   "cell_type": "code",
   "execution_count": 40,
   "id": "947de1f4-d496-4158-92b6-f7aa7f215ce2",
   "metadata": {
    "scrolled": true
   },
   "outputs": [
    {
     "name": "stdout",
     "output_type": "stream",
     "text": [
      "Ep 1 (Step 000000): Train loss 2.793, Val loss 3.198\n",
      "Ep 1 (Step 000050): Train loss 0.992, Val loss 1.043\n",
      "Ep 1 (Step 000100): Train loss 1.087, Val loss 1.090\n",
      "Ep 1 (Step 000150): Train loss 1.100, Val loss 1.065\n",
      "Ep 1 (Step 000200): Train loss 1.065, Val loss 1.103\n",
      "Ep 1 (Step 000250): Train loss 1.086, Val loss 1.106\n",
      "Ep 1 (Step 000300): Train loss 1.044, Val loss 1.063\n",
      "Ep 1 (Step 000350): Train loss 1.060, Val loss 1.063\n",
      "Ep 1 (Step 000400): Train loss 1.073, Val loss 1.052\n",
      "Ep 1 (Step 000450): Train loss 1.067, Val loss 1.053\n",
      "Ep 1 (Step 000500): Train loss 1.153, Val loss 1.044\n",
      "Ep 1 (Step 000550): Train loss 1.127, Val loss 1.127\n",
      "Ep 1 (Step 000600): Train loss 1.084, Val loss 1.069\n",
      "Ep 1 (Step 000650): Train loss 1.070, Val loss 1.099\n",
      "Ep 1 (Step 000700): Train loss 1.100, Val loss 1.116\n",
      "Ep 1 (Step 000750): Train loss 1.013, Val loss 0.997\n",
      "Ep 1 (Step 000800): Train loss 1.071, Val loss 0.943\n",
      "Ep 1 (Step 000850): Train loss 0.970, Val loss 0.949\n",
      "Ep 1 (Step 000900): Train loss 0.844, Val loss 0.855\n",
      "Ep 1 (Step 000950): Train loss 0.865, Val loss 0.771\n",
      "Ep 1 (Step 001000): Train loss 0.869, Val loss 0.710\n",
      "Ep 1 (Step 001050): Train loss 0.697, Val loss 0.682\n",
      "Ep 1 (Step 001100): Train loss 0.587, Val loss 0.651\n",
      "Ep 1 (Step 001150): Train loss 0.728, Val loss 0.630\n",
      "Ep 1 (Step 001200): Train loss 0.697, Val loss 0.641\n",
      "Ep 1 (Step 001250): Train loss 0.753, Val loss 0.601\n",
      "Ep 1 (Step 001300): Train loss 0.667, Val loss 0.598\n",
      "Ep 1 (Step 001350): Train loss 0.658, Val loss 0.612\n",
      "Ep 1 (Step 001400): Train loss 0.430, Val loss 0.585\n",
      "Ep 1 (Step 001450): Train loss 0.614, Val loss 0.617\n",
      "Ep 1 (Step 001500): Train loss 0.860, Val loss 0.607\n",
      "Ep 1 (Step 001550): Train loss 0.848, Val loss 0.613\n",
      "Ep 1 (Step 001600): Train loss 0.764, Val loss 0.562\n",
      "Ep 1 (Step 001650): Train loss 0.904, Val loss 0.659\n",
      "Ep 1 (Step 001700): Train loss 0.688, Val loss 0.611\n",
      "Ep 1 (Step 001750): Train loss 0.536, Val loss 0.597\n",
      "Ep 1 (Step 001800): Train loss 0.910, Val loss 0.578\n",
      "Ep 1 (Step 001850): Train loss 0.650, Val loss 0.538\n",
      "Ep 1 (Step 001900): Train loss 0.943, Val loss 0.537\n",
      "Ep 1 (Step 001950): Train loss 0.832, Val loss 0.540\n",
      "Ep 1 (Step 002000): Train loss 0.523, Val loss 0.576\n",
      "Ep 1 (Step 002050): Train loss 0.595, Val loss 0.571\n",
      "Ep 1 (Step 002100): Train loss 0.672, Val loss 0.547\n",
      "Ep 1 (Step 002150): Train loss 0.544, Val loss 0.516\n",
      "Ep 1 (Step 002200): Train loss 0.571, Val loss 0.514\n",
      "Ep 1 (Step 002250): Train loss 0.893, Val loss 0.514\n",
      "Ep 1 (Step 002300): Train loss 0.778, Val loss 0.505\n",
      "Ep 1 (Step 002350): Train loss 0.670, Val loss 0.506\n",
      "Ep 1 (Step 002400): Train loss 0.717, Val loss 0.499\n",
      "Ep 1 (Step 002450): Train loss 0.597, Val loss 0.480\n",
      "Ep 1 (Step 002500): Train loss 0.550, Val loss 0.505\n",
      "Ep 1 (Step 002550): Train loss 0.649, Val loss 0.499\n",
      "Ep 1 (Step 002600): Train loss 0.693, Val loss 0.518\n",
      "Ep 1 (Step 002650): Train loss 0.570, Val loss 0.499\n",
      "Ep 1 (Step 002700): Train loss 0.531, Val loss 0.515\n",
      "Training accuracy: 80.00% | Validation accuracy: 80.00%\n",
      "Ep 2 (Step 002750): Train loss 1.052, Val loss 0.516\n",
      "Ep 2 (Step 002800): Train loss 0.711, Val loss 0.525\n",
      "Ep 2 (Step 002850): Train loss 0.708, Val loss 0.507\n",
      "Ep 2 (Step 002900): Train loss 0.708, Val loss 0.515\n",
      "Ep 2 (Step 002950): Train loss 0.696, Val loss 0.535\n",
      "Ep 2 (Step 003000): Train loss 0.619, Val loss 0.518\n",
      "Ep 2 (Step 003050): Train loss 0.728, Val loss 0.517\n",
      "Ep 2 (Step 003100): Train loss 0.758, Val loss 0.520\n",
      "Ep 2 (Step 003150): Train loss 0.574, Val loss 0.526\n",
      "Ep 2 (Step 003200): Train loss 0.661, Val loss 0.496\n",
      "Ep 2 (Step 003250): Train loss 0.610, Val loss 0.490\n",
      "Ep 2 (Step 003300): Train loss 0.513, Val loss 0.487\n",
      "Ep 2 (Step 003350): Train loss 0.671, Val loss 0.517\n",
      "Ep 2 (Step 003400): Train loss 0.799, Val loss 0.473\n",
      "Ep 2 (Step 003450): Train loss 0.493, Val loss 0.467\n",
      "Ep 2 (Step 003500): Train loss 0.800, Val loss 0.476\n",
      "Ep 2 (Step 003550): Train loss 0.628, Val loss 0.485\n",
      "Ep 2 (Step 003600): Train loss 0.703, Val loss 0.484\n",
      "Ep 2 (Step 003650): Train loss 0.607, Val loss 0.479\n",
      "Ep 2 (Step 003700): Train loss 0.507, Val loss 0.468\n",
      "Ep 2 (Step 003750): Train loss 0.730, Val loss 0.470\n",
      "Ep 2 (Step 003800): Train loss 0.613, Val loss 0.465\n",
      "Ep 2 (Step 003850): Train loss 0.571, Val loss 0.477\n",
      "Ep 2 (Step 003900): Train loss 0.560, Val loss 0.473\n",
      "Ep 2 (Step 003950): Train loss 0.686, Val loss 0.474\n",
      "Ep 2 (Step 004000): Train loss 0.610, Val loss 0.467\n",
      "Ep 2 (Step 004050): Train loss 0.507, Val loss 0.481\n",
      "Ep 2 (Step 004100): Train loss 0.635, Val loss 0.527\n",
      "Ep 2 (Step 004150): Train loss 0.493, Val loss 0.492\n",
      "Ep 2 (Step 004200): Train loss 0.507, Val loss 0.496\n",
      "Ep 2 (Step 004250): Train loss 0.743, Val loss 0.483\n",
      "Ep 2 (Step 004300): Train loss 0.607, Val loss 0.505\n",
      "Ep 2 (Step 004350): Train loss 0.724, Val loss 0.495\n",
      "Ep 2 (Step 004400): Train loss 0.535, Val loss 0.504\n",
      "Ep 2 (Step 004450): Train loss 0.507, Val loss 0.479\n",
      "Ep 2 (Step 004500): Train loss 0.774, Val loss 0.483\n",
      "Ep 2 (Step 004550): Train loss 0.464, Val loss 0.505\n",
      "Ep 2 (Step 004600): Train loss 0.497, Val loss 0.466\n",
      "Ep 2 (Step 004650): Train loss 0.628, Val loss 0.500\n",
      "Ep 2 (Step 004700): Train loss 0.442, Val loss 0.444\n",
      "Ep 2 (Step 004750): Train loss 0.601, Val loss 0.444\n",
      "Ep 2 (Step 004800): Train loss 0.437, Val loss 0.464\n",
      "Ep 2 (Step 004850): Train loss 0.769, Val loss 0.512\n",
      "Ep 2 (Step 004900): Train loss 0.768, Val loss 0.469\n",
      "Ep 2 (Step 004950): Train loss 0.607, Val loss 0.472\n",
      "Ep 2 (Step 005000): Train loss 0.511, Val loss 0.458\n",
      "Ep 2 (Step 005050): Train loss 0.633, Val loss 0.481\n",
      "Ep 2 (Step 005100): Train loss 0.506, Val loss 0.471\n",
      "Ep 2 (Step 005150): Train loss 0.546, Val loss 0.473\n",
      "Ep 2 (Step 005200): Train loss 0.723, Val loss 0.496\n",
      "Ep 2 (Step 005250): Train loss 0.609, Val loss 0.470\n",
      "Ep 2 (Step 005300): Train loss 0.726, Val loss 0.477\n",
      "Ep 2 (Step 005350): Train loss 0.675, Val loss 0.485\n",
      "Ep 2 (Step 005400): Train loss 0.650, Val loss 0.448\n",
      "Ep 2 (Step 005450): Train loss 0.407, Val loss 0.447\n",
      "Training accuracy: 77.50% | Validation accuracy: 85.00%\n",
      "Ep 3 (Step 005500): Train loss 0.705, Val loss 0.495\n",
      "Ep 3 (Step 005550): Train loss 0.518, Val loss 0.486\n",
      "Ep 3 (Step 005600): Train loss 0.400, Val loss 0.472\n",
      "Ep 3 (Step 005650): Train loss 0.521, Val loss 0.449\n",
      "Ep 3 (Step 005700): Train loss 0.554, Val loss 0.450\n",
      "Ep 3 (Step 005750): Train loss 0.505, Val loss 0.446\n",
      "Ep 3 (Step 005800): Train loss 0.384, Val loss 0.448\n",
      "Ep 3 (Step 005850): Train loss 0.483, Val loss 0.464\n",
      "Ep 3 (Step 005900): Train loss 0.451, Val loss 0.469\n",
      "Ep 3 (Step 005950): Train loss 0.570, Val loss 0.463\n",
      "Ep 3 (Step 006000): Train loss 0.523, Val loss 0.466\n",
      "Ep 3 (Step 006050): Train loss 0.489, Val loss 0.458\n",
      "Ep 3 (Step 006100): Train loss 0.584, Val loss 0.475\n",
      "Ep 3 (Step 006150): Train loss 0.639, Val loss 0.449\n",
      "Ep 3 (Step 006200): Train loss 0.508, Val loss 0.442\n",
      "Ep 3 (Step 006250): Train loss 0.529, Val loss 0.456\n",
      "Ep 3 (Step 006300): Train loss 0.710, Val loss 0.461\n",
      "Ep 3 (Step 006350): Train loss 0.704, Val loss 0.452\n",
      "Ep 3 (Step 006400): Train loss 0.449, Val loss 0.464\n",
      "Ep 3 (Step 006450): Train loss 0.725, Val loss 0.523\n",
      "Ep 3 (Step 006500): Train loss 0.522, Val loss 0.481\n",
      "Ep 3 (Step 006550): Train loss 0.485, Val loss 0.471\n",
      "Ep 3 (Step 006600): Train loss 0.630, Val loss 0.479\n",
      "Ep 3 (Step 006650): Train loss 0.573, Val loss 0.477\n",
      "Ep 3 (Step 006700): Train loss 0.632, Val loss 0.467\n",
      "Ep 3 (Step 006750): Train loss 0.574, Val loss 0.471\n",
      "Ep 3 (Step 006800): Train loss 0.517, Val loss 0.451\n",
      "Ep 3 (Step 006850): Train loss 0.561, Val loss 0.466\n",
      "Ep 3 (Step 006900): Train loss 0.813, Val loss 0.473\n",
      "Ep 3 (Step 006950): Train loss 0.650, Val loss 0.480\n",
      "Ep 3 (Step 007000): Train loss 0.507, Val loss 0.479\n",
      "Ep 3 (Step 007050): Train loss 0.568, Val loss 0.486\n",
      "Ep 3 (Step 007100): Train loss 0.408, Val loss 0.445\n",
      "Ep 3 (Step 007150): Train loss 0.676, Val loss 0.476\n",
      "Ep 3 (Step 007200): Train loss 0.615, Val loss 0.460\n",
      "Ep 3 (Step 007250): Train loss 0.408, Val loss 0.437\n",
      "Ep 3 (Step 007300): Train loss 0.649, Val loss 0.457\n",
      "Ep 3 (Step 007350): Train loss 0.502, Val loss 0.472\n",
      "Ep 3 (Step 007400): Train loss 0.637, Val loss 0.457\n",
      "Ep 3 (Step 007450): Train loss 0.677, Val loss 0.470\n",
      "Ep 3 (Step 007500): Train loss 0.551, Val loss 0.441\n",
      "Ep 3 (Step 007550): Train loss 0.556, Val loss 0.448\n",
      "Ep 3 (Step 007600): Train loss 0.714, Val loss 0.447\n",
      "Ep 3 (Step 007650): Train loss 0.369, Val loss 0.458\n",
      "Ep 3 (Step 007700): Train loss 0.761, Val loss 0.492\n",
      "Ep 3 (Step 007750): Train loss 0.585, Val loss 0.475\n",
      "Ep 3 (Step 007800): Train loss 0.404, Val loss 0.455\n",
      "Ep 3 (Step 007850): Train loss 0.750, Val loss 0.450\n",
      "Ep 3 (Step 007900): Train loss 0.717, Val loss 0.479\n",
      "Ep 3 (Step 007950): Train loss 0.612, Val loss 0.457\n",
      "Ep 3 (Step 008000): Train loss 0.425, Val loss 0.453\n",
      "Ep 3 (Step 008050): Train loss 0.649, Val loss 0.445\n",
      "Ep 3 (Step 008100): Train loss 0.362, Val loss 0.481\n",
      "Ep 3 (Step 008150): Train loss 0.341, Val loss 0.486\n",
      "Ep 3 (Step 008200): Train loss 0.757, Val loss 0.439\n",
      "Training accuracy: 75.00% | Validation accuracy: 85.00%\n",
      "Ep 4 (Step 008250): Train loss 0.641, Val loss 0.446\n",
      "Ep 4 (Step 008300): Train loss 0.574, Val loss 0.425\n",
      "Ep 4 (Step 008350): Train loss 0.852, Val loss 0.426\n",
      "Ep 4 (Step 008400): Train loss 0.440, Val loss 0.435\n",
      "Ep 4 (Step 008450): Train loss 0.540, Val loss 0.472\n",
      "Ep 4 (Step 008500): Train loss 0.607, Val loss 0.452\n",
      "Ep 4 (Step 008550): Train loss 0.496, Val loss 0.446\n",
      "Ep 4 (Step 008600): Train loss 0.535, Val loss 0.455\n",
      "Ep 4 (Step 008650): Train loss 0.488, Val loss 0.450\n",
      "Ep 4 (Step 008700): Train loss 0.380, Val loss 0.441\n",
      "Ep 4 (Step 008750): Train loss 0.473, Val loss 0.437\n",
      "Ep 4 (Step 008800): Train loss 0.406, Val loss 0.449\n",
      "Ep 4 (Step 008850): Train loss 0.599, Val loss 0.445\n",
      "Ep 4 (Step 008900): Train loss 0.385, Val loss 0.449\n",
      "Ep 4 (Step 008950): Train loss 0.519, Val loss 0.508\n",
      "Ep 4 (Step 009000): Train loss 0.375, Val loss 0.449\n",
      "Ep 4 (Step 009050): Train loss 0.492, Val loss 0.475\n",
      "Ep 4 (Step 009100): Train loss 0.665, Val loss 0.458\n",
      "Ep 4 (Step 009150): Train loss 0.410, Val loss 0.452\n",
      "Ep 4 (Step 009200): Train loss 0.524, Val loss 0.438\n",
      "Ep 4 (Step 009250): Train loss 0.431, Val loss 0.441\n",
      "Ep 4 (Step 009300): Train loss 0.608, Val loss 0.458\n",
      "Ep 4 (Step 009350): Train loss 0.622, Val loss 0.459\n",
      "Ep 4 (Step 009400): Train loss 0.593, Val loss 0.433\n",
      "Ep 4 (Step 009450): Train loss 0.681, Val loss 0.432\n",
      "Ep 4 (Step 009500): Train loss 0.354, Val loss 0.436\n",
      "Ep 4 (Step 009550): Train loss 0.625, Val loss 0.451\n",
      "Ep 4 (Step 009600): Train loss 0.447, Val loss 0.488\n",
      "Ep 4 (Step 009650): Train loss 0.575, Val loss 0.477\n",
      "Ep 4 (Step 009700): Train loss 0.430, Val loss 0.443\n",
      "Ep 4 (Step 009750): Train loss 0.626, Val loss 0.465\n",
      "Ep 4 (Step 009800): Train loss 0.394, Val loss 0.452\n",
      "Ep 4 (Step 009850): Train loss 0.601, Val loss 0.486\n",
      "Ep 4 (Step 009900): Train loss 0.622, Val loss 0.471\n",
      "Ep 4 (Step 009950): Train loss 0.566, Val loss 0.472\n",
      "Ep 4 (Step 010000): Train loss 0.468, Val loss 0.452\n",
      "Ep 4 (Step 010050): Train loss 0.498, Val loss 0.461\n",
      "Ep 4 (Step 010100): Train loss 0.709, Val loss 0.525\n",
      "Ep 4 (Step 010150): Train loss 0.484, Val loss 0.471\n",
      "Ep 4 (Step 010200): Train loss 0.569, Val loss 0.480\n",
      "Ep 4 (Step 010250): Train loss 0.497, Val loss 0.473\n",
      "Ep 4 (Step 010300): Train loss 0.500, Val loss 0.481\n",
      "Ep 4 (Step 010350): Train loss 0.547, Val loss 0.455\n",
      "Ep 4 (Step 010400): Train loss 0.563, Val loss 0.447\n",
      "Ep 4 (Step 010450): Train loss 0.371, Val loss 0.444\n",
      "Ep 4 (Step 010500): Train loss 0.426, Val loss 0.489\n",
      "Ep 4 (Step 010550): Train loss 0.529, Val loss 0.471\n",
      "Ep 4 (Step 010600): Train loss 0.520, Val loss 0.499\n",
      "Ep 4 (Step 010650): Train loss 0.551, Val loss 0.476\n",
      "Ep 4 (Step 010700): Train loss 0.333, Val loss 0.491\n",
      "Ep 4 (Step 010750): Train loss 0.584, Val loss 0.479\n",
      "Ep 4 (Step 010800): Train loss 0.619, Val loss 0.508\n",
      "Ep 4 (Step 010850): Train loss 0.908, Val loss 0.531\n",
      "Ep 4 (Step 010900): Train loss 0.380, Val loss 0.474\n",
      "Ep 4 (Step 010950): Train loss 0.438, Val loss 0.473\n",
      "Training accuracy: 87.50% | Validation accuracy: 80.00%\n",
      "Ep 5 (Step 011000): Train loss 0.904, Val loss 0.457\n",
      "Ep 5 (Step 011050): Train loss 0.547, Val loss 0.442\n",
      "Ep 5 (Step 011100): Train loss 0.475, Val loss 0.453\n",
      "Ep 5 (Step 011150): Train loss 0.472, Val loss 0.449\n",
      "Ep 5 (Step 011200): Train loss 0.344, Val loss 0.451\n",
      "Ep 5 (Step 011250): Train loss 0.616, Val loss 0.474\n",
      "Ep 5 (Step 011300): Train loss 0.712, Val loss 0.449\n",
      "Ep 5 (Step 011350): Train loss 0.621, Val loss 0.453\n",
      "Ep 5 (Step 011400): Train loss 0.725, Val loss 0.468\n",
      "Ep 5 (Step 011450): Train loss 0.521, Val loss 0.482\n",
      "Ep 5 (Step 011500): Train loss 0.826, Val loss 0.464\n",
      "Ep 5 (Step 011550): Train loss 0.736, Val loss 0.459\n",
      "Ep 5 (Step 011600): Train loss 0.589, Val loss 0.458\n",
      "Ep 5 (Step 011650): Train loss 0.376, Val loss 0.467\n",
      "Ep 5 (Step 011700): Train loss 0.606, Val loss 0.502\n",
      "Ep 5 (Step 011750): Train loss 0.643, Val loss 0.507\n",
      "Ep 5 (Step 011800): Train loss 0.636, Val loss 0.474\n",
      "Ep 5 (Step 011850): Train loss 0.502, Val loss 0.483\n",
      "Ep 5 (Step 011900): Train loss 0.401, Val loss 0.498\n",
      "Ep 5 (Step 011950): Train loss 0.409, Val loss 0.501\n",
      "Ep 5 (Step 012000): Train loss 0.490, Val loss 0.488\n",
      "Ep 5 (Step 012050): Train loss 0.527, Val loss 0.493\n",
      "Ep 5 (Step 012100): Train loss 0.633, Val loss 0.499\n",
      "Ep 5 (Step 012150): Train loss 0.753, Val loss 0.515\n",
      "Ep 5 (Step 012200): Train loss 0.706, Val loss 0.499\n",
      "Ep 5 (Step 012250): Train loss 0.524, Val loss 0.507\n",
      "Ep 5 (Step 012300): Train loss 0.728, Val loss 0.491\n",
      "Ep 5 (Step 012350): Train loss 0.398, Val loss 0.473\n",
      "Ep 5 (Step 012400): Train loss 0.401, Val loss 0.476\n",
      "Ep 5 (Step 012450): Train loss 0.611, Val loss 0.497\n",
      "Ep 5 (Step 012500): Train loss 0.514, Val loss 0.490\n",
      "Ep 5 (Step 012550): Train loss 0.613, Val loss 0.469\n",
      "Ep 5 (Step 012600): Train loss 0.587, Val loss 0.499\n",
      "Ep 5 (Step 012650): Train loss 0.695, Val loss 0.490\n",
      "Ep 5 (Step 012700): Train loss 0.529, Val loss 0.466\n",
      "Ep 5 (Step 012750): Train loss 0.709, Val loss 0.470\n",
      "Ep 5 (Step 012800): Train loss 0.494, Val loss 0.462\n",
      "Ep 5 (Step 012850): Train loss 0.600, Val loss 0.454\n",
      "Ep 5 (Step 012900): Train loss 0.438, Val loss 0.458\n",
      "Ep 5 (Step 012950): Train loss 0.741, Val loss 0.453\n",
      "Ep 5 (Step 013000): Train loss 0.618, Val loss 0.466\n",
      "Ep 5 (Step 013050): Train loss 0.368, Val loss 0.476\n",
      "Ep 5 (Step 013100): Train loss 0.650, Val loss 0.456\n",
      "Ep 5 (Step 013150): Train loss 0.515, Val loss 0.463\n",
      "Ep 5 (Step 013200): Train loss 0.757, Val loss 0.491\n",
      "Ep 5 (Step 013250): Train loss 0.740, Val loss 0.453\n",
      "Ep 5 (Step 013300): Train loss 0.256, Val loss 0.480\n",
      "Ep 5 (Step 013350): Train loss 0.573, Val loss 0.448\n",
      "Ep 5 (Step 013400): Train loss 0.539, Val loss 0.468\n",
      "Ep 5 (Step 013450): Train loss 0.471, Val loss 0.450\n",
      "Ep 5 (Step 013500): Train loss 0.511, Val loss 0.448\n",
      "Ep 5 (Step 013550): Train loss 0.434, Val loss 0.445\n",
      "Ep 5 (Step 013600): Train loss 0.693, Val loss 0.463\n",
      "Ep 5 (Step 013650): Train loss 0.522, Val loss 0.454\n",
      "Ep 5 (Step 013700): Train loss 0.720, Val loss 0.437\n",
      "Training accuracy: 77.50% | Validation accuracy: 82.50%\n",
      "Training completed in 12.58 minutes.\n"
     ]
    }
   ],
   "source": [
    "import time\n",
    "\n",
    "start_time = time.time()\n",
    "\n",
    "torch.manual_seed(123)\n",
    "\n",
    "optimizer = torch.optim.AdamW(model.parameters(), lr=5e-5, weight_decay=0.1)\n",
    "\n",
    "num_epochs = 5\n",
    "train_losses, val_losses, train_accs, val_accs, examples_seen = train_classifier_simple(\n",
    "    model, train_loader, test_loader, optimizer, device,\n",
    "    num_epochs=num_epochs, eval_freq=50, eval_iter=5,\n",
    ")\n",
    "\n",
    "end_time = time.time()\n",
    "execution_time_minutes = (end_time - start_time) / 60\n",
    "print(f\"Training completed in {execution_time_minutes:.2f} minutes.\")"
   ]
  },
  {
   "cell_type": "code",
   "execution_count": 41,
   "id": "fa7be04d-d04a-48f7-91ca-36e115303c62",
   "metadata": {},
   "outputs": [],
   "source": [
    "import matplotlib.pyplot as plt\n",
    "\n",
    "def plot_values(epochs_seen, examples_seen, train_values, val_values, label=\"loss\"):\n",
    "    fig, ax1 = plt.subplots(figsize=(5, 3))\n",
    "\n",
    "    # Plot training and validation loss against epochs\n",
    "    ax1.plot(epochs_seen, train_values, label=f\"Training {label}\")\n",
    "    ax1.plot(epochs_seen, val_values, linestyle=\"-.\", label=f\"Validation {label}\")\n",
    "    ax1.set_xlabel(\"Epochs\")\n",
    "    ax1.set_ylabel(label.capitalize())\n",
    "    ax1.legend()\n",
    "\n",
    "    # Create a second x-axis for examples seen\n",
    "    ax2 = ax1.twiny()  # Create a second x-axis that shares the same y-axis\n",
    "    ax2.plot(examples_seen, train_values, alpha=0)  # Invisible plot for aligning ticks\n",
    "    ax2.set_xlabel(\"Examples seen\")\n",
    "\n",
    "    fig.tight_layout()  # Adjust layout to make room\n",
    "    plt.savefig(f\"{label}-plot.pdf\")\n",
    "    plt.show()"
   ]
  },
  {
   "cell_type": "code",
   "execution_count": 42,
   "id": "8baef02a-74d7-4f30-8a7d-9596b2511d75",
   "metadata": {},
   "outputs": [
    {
     "data": {
      "image/png": "[encoded data removed]",
      "text/plain": [
       "<Figure size 500x300 with 2 Axes>"
      ]
     },
     "metadata": {},
     "output_type": "display_data"
    }
   ],
   "source": [
    "epochs_tensor = torch.linspace(0, num_epochs, len(train_losses))\n",
    "examples_seen_tensor = torch.linspace(0, examples_seen, len(train_losses))\n",
    "\n",
    "plot_values(epochs_tensor, examples_seen_tensor, train_losses, val_losses)"
   ]
  },
  {
   "cell_type": "code",
   "execution_count": 43,
   "id": "359153a3-9989-4b46-86e7-03e464ffee3c",
   "metadata": {},
   "outputs": [
    {
     "data": {
      "image/png": "[encoded data removed]",
      "text/plain": [
       "<Figure size 500x300 with 2 Axes>"
      ]
     },
     "metadata": {},
     "output_type": "display_data"
    }
   ],
   "source": [
    "epochs_tensor = torch.linspace(0, num_epochs, len(train_accs))\n",
    "examples_seen_tensor = torch.linspace(0, examples_seen, len(train_accs))\n",
    "\n",
    "plot_values(epochs_tensor, examples_seen_tensor, train_accs, val_accs, label=\"accuracy\")"
   ]
  },
  {
   "cell_type": "code",
   "execution_count": 44,
   "id": "9f7072e9-85e7-4cb6-9b51-f0f62d1ae90b",
   "metadata": {},
   "outputs": [
    {
     "name": "stdout",
     "output_type": "stream",
     "text": [
      "Training accuracy: 77.92%\n",
      "Test accuracy: 75.18%\n"
     ]
    }
   ],
   "source": [
    "train_accuracy = calc_accuracy_loader(train_loader, model, device)\n",
    "# val_accuracy = calc_accuracy_loader(val_loader, model, device)\n",
    "test_accuracy = calc_accuracy_loader(test_loader, model, device)\n",
    "\n",
    "print(f\"Training accuracy: {train_accuracy*100:.2f}%\")\n",
    "# print(f\"Validation accuracy: {val_accuracy*100:.2f}%\")\n",
    "print(f\"Test accuracy: {test_accuracy*100:.2f}%\")"
   ]
  },
  {
   "cell_type": "code",
   "execution_count": 45,
   "id": "ccd6c222-8cf0-4c76-8bdf-8dfb5b67ee27",
   "metadata": {},
   "outputs": [],
   "source": [
    "def classify_review(text, model, tokenizer, device, max_length=None, pad_token_id=50256):\n",
    "    model.eval()\n",
    "\n",
    "    int2label = {0: 'neutral', 1: 'negative', 2: 'positive'}\n",
    "    # Prepare inputs to the model\n",
    "    input_ids = tokenizer.encode(text)\n",
    "    supported_context_length = model.pos_emb.weight.shape[0]\n",
    "\n",
    "    # Truncate sequences if they too long\n",
    "    input_ids = input_ids[:min(max_length, supported_context_length)]\n",
    "\n",
    "    # Pad sequences to the longest sequence\n",
    "    input_ids += [pad_token_id] * (max_length - len(input_ids))\n",
    "    input_tensor = torch.tensor(input_ids, device=device).unsqueeze(0) # add batch dimension\n",
    "\n",
    "    # Model inference\n",
    "    with torch.no_grad():\n",
    "        logits = model(input_tensor)[:, -1, :]  # Logits of the last output token\n",
    "    predicted_label = torch.argmax(logits, dim=-1).item()\n",
    "\n",
    "    # Return the classified result\n",
    "    return int2label[predicted_label]"
   ]
  },
  {
   "cell_type": "code",
   "execution_count": 50,
   "id": "b8a881e5-3701-4713-a500-22c17e73bec2",
   "metadata": {},
   "outputs": [
    {
     "name": "stdout",
     "output_type": "stream",
     "text": [
      "negative\n"
     ]
    }
   ],
   "source": [
    "text_1 = (\n",
    "    \"Sooo SAD I will miss you here in San Diego!!!\t\"\n",
    ")\n",
    "\n",
    "print(classify_review(\n",
    "    text_1, model, tokenizer, device, max_length=train_dataset.max_length\n",
    "))"
   ]
  },
  {
   "cell_type": "code",
   "execution_count": 52,
   "id": "3a88b890-cd3c-43c4-92cb-8726792e9574",
   "metadata": {},
   "outputs": [],
   "source": [
    "torch.save(model.state_dict(), \"model/sentiment_classifier.pth\")"
   ]
  },
  {
   "cell_type": "code",
   "execution_count": 53,
   "id": "1442de04-1e49-46e9-9edc-3c9193bc2caf",
   "metadata": {},
   "outputs": [
    {
     "data": {
      "text/plain": [
       "<All keys matched successfully>"
      ]
     },
     "execution_count": 53,
     "metadata": {},
     "output_type": "execute_result"
    }
   ],
   "source": [
    "model_state_dict = torch.load(\"model/sentiment_classifier.pth\", map_location=device, weights_only=True)\n",
    "model.load_state_dict(model_state_dict)"
   ]
  },
  {
   "cell_type": "markdown",
   "id": "502cf70c-b0b0-407d-9207-782558a9292e",
   "metadata": {},
   "source": [
    "# Load And Use Finetuned Model"
   ]
  },
  {
   "cell_type": "code",
   "execution_count": 1,
   "id": "0d5f686e-9f8d-436f-bbc5-0c4355479ee2",
   "metadata": {},
   "outputs": [
    {
     "name": "stdout",
     "output_type": "stream",
     "text": [
      "tiktoken version: 0.8.0\n",
      "torch version: 2.5.0\n"
     ]
    }
   ],
   "source": [
    "from importlib.metadata import version\n",
    "\n",
    "pkgs = [\n",
    "    \"tiktoken\",    # Tokenizer\n",
    "    \"torch\",       # Deep learning library\n",
    "]\n",
    "for p in pkgs:\n",
    "    print(f\"{p} version: {version(p)}\")"
   ]
  },
  {
   "cell_type": "code",
   "execution_count": 2,
   "id": "c63ee5d7-4c48-4fa5-8925-d9f4abb3e4b2",
   "metadata": {},
   "outputs": [],
   "source": [
    "from pathlib import Path\n",
    "\n",
    "finetuned_model_path = Path(\"model/sentiment_classifier.pth\")"
   ]
  },
  {
   "cell_type": "code",
   "execution_count": 3,
   "id": "9c7f4aa9-d45e-47e5-be1f-da3d1c34e245",
   "metadata": {},
   "outputs": [],
   "source": [
    "from utils import GPTModel\n",
    "\n",
    "\n",
    "BASE_CONFIG = {\n",
    "    \"vocab_size\": 50257,     # Vocabulary size\n",
    "    \"context_length\": 1024,  # Context length\n",
    "    \"drop_rate\": 0.0,        # Dropout rate\n",
    "    \"qkv_bias\": True         # Query-key-value bias\n",
    "}\n",
    "\n",
    "model_configs = {\n",
    "    \"gpt2-small (124M)\": {\"emb_dim\": 768, \"n_layers\": 12, \"n_heads\": 12},\n",
    "    \"gpt2-medium (355M)\": {\"emb_dim\": 1024, \"n_layers\": 24, \"n_heads\": 16},\n",
    "    \"gpt2-large (774M)\": {\"emb_dim\": 1280, \"n_layers\": 36, \"n_heads\": 20},\n",
    "    \"gpt2-xl (1558M)\": {\"emb_dim\": 1600, \"n_layers\": 48, \"n_heads\": 25},\n",
    "}\n",
    "\n",
    "CHOOSE_MODEL = \"gpt2-small (124M)\"\n",
    "\n",
    "BASE_CONFIG.update(model_configs[CHOOSE_MODEL])\n",
    "\n",
    "# Initialize base model\n",
    "model = GPTModel(BASE_CONFIG)"
   ]
  },
  {
   "cell_type": "code",
   "execution_count": 6,
   "id": "a1da8a3d-bbbd-4015-a546-83ac8466b723",
   "metadata": {},
   "outputs": [],
   "source": [
    "import torch\n",
    "\n",
    "# Convert model to classifier as in section 6.5 in ch06.ipynb\n",
    "num_classes = 3\n",
    "model.out_head = torch.nn.Linear(in_features=BASE_CONFIG[\"emb_dim\"], out_features=num_classes)\n",
    "\n",
    "# Then load pretrained weights\n",
    "device = torch.device(\"cuda\" if torch.cuda.is_available() else \"cpu\")\n",
    "model.load_state_dict(torch.load(\"model/sentiment_classifier.pth\", map_location=device, weights_only=True))\n",
    "model.to(device)\n",
    "model.eval();"
   ]
  },
  {
   "cell_type": "code",
   "execution_count": 7,
   "id": "44e5422d-6d86-4d4f-ace2-b54fe498978d",
   "metadata": {},
   "outputs": [],
   "source": [
    "import tiktoken\n",
    "\n",
    "tokenizer = tiktoken.get_encoding(\"gpt2\")"
   ]
  },
  {
   "cell_type": "code",
   "execution_count": 10,
   "id": "7c0a3783-2087-46fe-b2a3-17fafbf7ff69",
   "metadata": {},
   "outputs": [],
   "source": [
    "def classify_sentiment(text, model, tokenizer, device, max_length=None, pad_token_id=50256):\n",
    "    model.eval()\n",
    "\n",
    "    int2label = {0: 'neutral', 1: 'negative', 2: 'positive'}\n",
    "    # Prepare inputs to the model\n",
    "    input_ids = tokenizer.encode(text)\n",
    "    supported_context_length = model.pos_emb.weight.shape[0]\n",
    "    # Note: In the book, this was originally written as pos_emb.weight.shape[1] by mistake\n",
    "    # It didn't break the code but would have caused unnecessary truncation (to 768 instead of 1024)\n",
    "\n",
    "    # Truncate sequences if they too long\n",
    "    input_ids = input_ids[:min(max_length, supported_context_length)]\n",
    "\n",
    "    # Pad sequences to the longest sequence\n",
    "    input_ids += [pad_token_id] * (max_length - len(input_ids))\n",
    "    input_tensor = torch.tensor(input_ids, device=device).unsqueeze(0) # add batch dimension\n",
    "\n",
    "    # Model inference\n",
    "    with torch.no_grad():\n",
    "        logits = model(input_tensor)[:, -1, :]  # Logits of the last output token\n",
    "    predicted_label = torch.argmax(logits, dim=-1).item()\n",
    "\n",
    "    # Return the classified result\n",
    "    return int2label[predicted_label]"
   ]
  },
  {
   "cell_type": "code",
   "execution_count": 14,
   "id": "ff4df63b-c8b3-463b-b51b-a721b8562b7f",
   "metadata": {},
   "outputs": [
    {
     "name": "stdout",
     "output_type": "stream",
     "text": [
      "negative\n"
     ]
    }
   ],
   "source": [
    "text_1 = (\n",
    "    \"Sooo SAD I will miss you here in San Diego!!!\"\n",
    ")\n",
    "\n",
    "print(classify_sentiment(\n",
    "    text_1, model, tokenizer, device, max_length=100\n",
    "))"
   ]
  },
  {
   "cell_type": "code",
   "execution_count": null,
   "id": "c41076dd-8bb4-4470-a363-8744e275c2a7",
   "metadata": {},
   "outputs": [],
   "source": []
  }
 ],
 "metadata": {
  "kernelspec": {
   "display_name": "Python 3 (ipykernel)",
   "language": "python",
   "name": "python3"
  },
  "language_info": {
   "codemirror_mode": {
    "name": "ipython",
    "version": 3
   },
   "file_extension": ".py",
   "mimetype": "text/x-python",
   "name": "python",
   "nbconvert_exporter": "python",
   "pygments_lexer": "ipython3",
   "version": "3.12.4"
  }
 },
 "nbformat": 4,
 "nbformat_minor": 5
}
